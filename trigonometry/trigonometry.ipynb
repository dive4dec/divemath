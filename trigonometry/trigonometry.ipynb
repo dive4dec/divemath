{
 "cells": [
  {
   "cell_type": "markdown",
   "id": "e3e814b2-c911-4a42-a28d-6b3dbbd686de",
   "metadata": {},
   "source": [
    "# Trigonometry"
   ]
  },
  {
   "cell_type": "markdown",
   "id": "e15cc391-05f6-4a18-8e5d-fb684690d463",
   "metadata": {},
   "source": [
    "**DIVE into Math**\n",
    "\n",
    "---"
   ]
  },
  {
   "cell_type": "markdown",
   "id": "65912e51-7d26-4c14-876d-12e9d74c391c",
   "metadata": {},
   "source": [
    "Contributor(s): \n",
    "\n",
    "- Chun Kit Kenton LI\n",
    "- Chao Zhao\n",
    "- Chung Chan\n",
    "\n",
    "---"
   ]
  },
  {
   "cell_type": "code",
   "execution_count": null,
   "id": "9c9313ec-7c72-4366-aff7-c3115c71c3aa",
   "metadata": {},
   "outputs": [],
   "source": [
    "%reload_ext divewidgets"
   ]
  },
  {
   "cell_type": "markdown",
   "id": "d4e09e0f-4491-4bea-9695-db2e9d0c7021",
   "metadata": {},
   "source": [
    "## Background"
   ]
  },
  {
   "cell_type": "markdown",
   "id": "518aa0e9-6e03-4154-944c-4132333e4651",
   "metadata": {},
   "source": [
    "Recall that in Junior Secondary, we learnt a lot about triangles. Particularly, for right-angled triangles, we learnt about trigonometric ratios:\n",
    "\n",
    "$$\n",
    "\\begin{align}\n",
    "\\sin\\theta=\\frac{\\text{Opposite side}}{\\text{Hypotenuse}}\\\\\n",
    "\\cos\\theta=\\frac{\\text{Adjacent side}}{\\text{Hypotenuse}}\\\\\n",
    "\\tan\\theta=\\frac{\\text{Opposite side}}{\\text{Adjacent side}}\n",
    "\\end{align}\n",
    "$$"
   ]
  },
  {
   "cell_type": "code",
   "execution_count": null,
   "id": "965631aa-fa4e-4e03-88fe-0be277b36c22",
   "metadata": {},
   "outputs": [],
   "source": [
    "%%jsxgraph\n",
    "var board = JXG.JSXGraph.initBoard('box', {boundingbox: [-6, 6, 6, -6], axis: true, grid: true, showCopyright: false});\n",
    "var a_sx = board.create('slider', [[-4,-5], [-2,-5], [-4, 2 ,4]], {name:'x', snapWidth: 0.01});\n",
    "var a_sy = board.create('slider', [[1,-5], [3,-5], [-4, 3 ,4]], {name:'y', snapWidth: 0.01});\n",
    "var a = board.create('point', [()=>a_sx.Value(),()=>a_sy.Value()], {name:function(){return 'D('+a_sx.Value().toFixed(2)+','+a_sy.Value().toFixed(2)+')';}});\n",
    "var o = board.create('point', [0,0], {name:''});\n",
    "o.setAttribute({fixed: true, visible: false});\n",
    "var b = board.create('point', [()=>a.X(), 0], {name:'D\\''});\n",
    "var tri = board.create('polygon', [a,o,b]);\n",
    "var ang = board.create('nonreflexangle', [a,b,o], {name:' ', radius: 0.2});\n",
    "var ang2 = board.create('nonreflexangle', [a,o,b], {name:'θ', radius: 0.4})\n",
    "board.create('text', [-0.2,-0.15,'O'], {fixed: true})\n",
    "board.create('text',[()=>(a.X()+o.X()+b.X())/3,()=>(a.Y()+o.X()+b.Y())/3,'△ODD\\''],{anchorX:'middle', anchorY:'auto'});"
   ]
  },
  {
   "cell_type": "markdown",
   "id": "b2c54744-70e1-4d8b-b525-5460fd3cf951",
   "metadata": {},
   "source": [
    "Run the below cell and see how the right-angled triangle is formed."
   ]
  },
  {
   "cell_type": "markdown",
   "id": "40ff94fd-c87f-4de6-9bc1-d5898c7a1c4f",
   "metadata": {},
   "source": [
    "**Exercise**\n",
    "\n",
    "The length of $OD$ can be easily computed using the Pythagorean theorem as $L_{\\text{OD}}=\\sqrt{x^2+y^2}$. For simplicity, let's denote the length of $OD$ as $r$.\n",
    "\n",
    "Now, complete the following table in terms of $x$, $y$, and $r$ for the right-angled triangle we have just created above ($\\triangle ODD'$).\n",
    "\n",
    "|               | $\\triangle ODD'$ |\n",
    "| ------------- | -------- |\n",
    "| Opposite side |     |\n",
    "| Adjacent side |     |\n",
    "| Hypotenuse    |     |\n",
    "| $\\sin \\theta$       |     |\n",
    "| $\\cos \\theta$       |     |\n",
    "| $\\tan \\theta$       |     |\n",
    "\n",
    "```{hint}\n",
    "Hint: Try to use values/properties found on the graph\n",
    "```"
   ]
  },
  {
   "cell_type": "markdown",
   "id": "51da7289-bb80-42ac-8cc8-fa7ad9dc64cb",
   "metadata": {
    "deletable": false,
    "nbgrader": {
     "cell_type": "markdown",
     "checksum": "11b903531c3dc15001aba9cee6eb2924",
     "grade": true,
     "grade_id": "p1",
     "locked": false,
     "points": 1,
     "schema_version": 3,
     "solution": true,
     "task": false
    },
    "tags": []
   },
   "source": [
    "YOUR ANSWER HERE"
   ]
  },
  {
   "cell_type": "markdown",
   "id": "55cfd858-5d77-4e8a-b689-cfc3aa98e688",
   "metadata": {},
   "source": [
    "## Trigonometry with Rectangular Coordinate System"
   ]
  },
  {
   "cell_type": "markdown",
   "id": "5a71fab6-d319-4149-b535-d002a5306fb2",
   "metadata": {},
   "source": [
    "The angle $\\theta$ for the triangle above must be between $0^{\\circ}$ and $90^{\\circ}$. However, we can extends it beyond the range as follows:"
   ]
  },
  {
   "cell_type": "code",
   "execution_count": null,
   "id": "ad758c20-a7c6-4eb5-8fa5-31582270b164",
   "metadata": {},
   "outputs": [],
   "source": [
    "%%jsxgraph\n",
    "JXG.Options.text.useMathJax = true;\n",
    "var board = JXG.JSXGraph.initBoard('box', {boundingbox: [-6, 6, 6, -6], axis: true, grid: true, showCopyright: false});\n",
    "var a_sx = board.create('slider', [[-4,-5], [-2,-5], [-4, 2 ,4]], {name:'x', snapWidth: 0.01});\n",
    "var a_sy = board.create('slider', [[1,-5], [3,-5], [-4, 3 ,4]], {name:'y', snapWidth: 0.01});\n",
    "var a = board.create('point', [()=>a_sx.Value(),()=>a_sy.Value()], {name:function(){return 'D('+a_sx.Value().toFixed(2)+','+a_sy.Value().toFixed(2)+')';}});\n",
    "var o = board.create('point', [0,0], {name:''});\n",
    "o.setAttribute({fixed: true, visible: false});\n",
    "var b = board.create('point', [()=>a.X(), 0], {name:'', visible: false});\n",
    "var b2 = board.create('point', [1,0], {name:'', visible: false});\n",
    "b2.setAttribute({fixed: true});\n",
    "board.create('text', [-0.2,-0.15,'O'], {fixed: true})\n",
    "var angle = board.create('sector', [o, b2, a], {\n",
    "    name: '\\\\(\\\\theta\\\\)',\n",
    "    withLabel: {\n",
    "        fontSize: 16\n",
    "    },\n",
    "    fillColor: 'yellow',\n",
    "    highlightFillColor: 'yellow',\n",
    "    strokeWidth: 0,\n",
    "    arc: {\n",
    "        visible: true,\n",
    "        strokeColor: 'black',\n",
    "        strokeWidth: 2,\n",
    "        lastArrow: {\n",
    "            size: 6\n",
    "        }\n",
    "    }\n",
    "});\n",
    "var angleInv = board.create('angle', [b, o, a], {visible: false})\n",
    "var l1 = board.create('line', [o, a], {straightFirst: false, straightLast: false});\n",
    "var l2 = board.create('line', [o, a], {dash: 3});\n",
    "var l3 = board.create('line', [o, b], {dash: 3});\n",
    "var l4 = board.create('line', [a, b], {dash: 3});\n",
    "\n",
    "function radToDeg(radians) {\n",
    "  var pi = Math.PI;\n",
    "  return radians * (180/pi);\n",
    "}\n",
    "\n",
    "function degHelper(angle, pt) {\n",
    "    deg = angle.Value() * (180/Math.PI);\n",
    "    if (pt.X()>=0 && pt.Y()>=0){return deg}\n",
    "    if (pt.X()<=0 && pt.Y()>=0){return deg-180}\n",
    "    if (pt.X()<=0 && pt.Y()<=0){return deg+180}\n",
    "    if (pt.X()>=0 && pt.Y()<=0){return deg}\n",
    "}\n",
    "\n",
    "board.create('text', [-2.3, 2.3, function () {\n",
    "    return '\\\\(\\\\theta = ' + degHelper(angleInv, a).toFixed(1) + '^{\\\\circ}\\\\)';\n",
    "}],{highlight:false,fixed:true}); "
   ]
  },
  {
   "cell_type": "markdown",
   "id": "28942d0b-b874-4f64-8421-48f09021e737",
   "metadata": {},
   "source": [
    "It is also valid to consider negative angles as shown below."
   ]
  },
  {
   "cell_type": "code",
   "execution_count": null,
   "id": "a486ee3b-fdbf-4da6-8fba-ea3c4419fff7",
   "metadata": {},
   "outputs": [],
   "source": [
    "%%jsxgraph\n",
    "JXG.Options.text.useMathJax = true;\n",
    "var board = JXG.JSXGraph.initBoard('box', {boundingbox: [-6, 6, 6, -6], axis: true, grid: true, showCopyright: false});\n",
    "var a_sx = board.create('slider', [[-4,-5], [-2,-5], [-4, 2 ,4]], {name:'x', snapWidth: 0.01});\n",
    "var a_sy = board.create('slider', [[1,-5], [3,-5], [-4, -3 ,4]], {name:'y', snapWidth: 0.01});\n",
    "var a = board.create('point', [()=>a_sx.Value(),()=>a_sy.Value()], {name:function(){return 'D('+a_sx.Value().toFixed(2)+','+a_sy.Value().toFixed(2)+')';}});\n",
    "var o = board.create('point', [0,0], {name:''});\n",
    "o.setAttribute({fixed: true, visible: false});\n",
    "var b = board.create('point', [()=>a.X(), 0], {name:'', visible: false});\n",
    "var b2 = board.create('point', [1,0], {name:'', visible: false});\n",
    "b2.setAttribute({fixed: true});\n",
    "board.create('text', [-0.2,-0.15,'O'], {fixed: true})\n",
    "var a_n = board.create('point', [()=>(a.X())/Math.sqrt((a.X()**2)+(a.Y()**2)),()=>(a.Y())/Math.sqrt((a.X()**2)+(a.Y()**2))], {visible: false});\n",
    "var angle = board.create('sector', [o, a_n, b2], {\n",
    "    name: '\\\\(\\\\theta\\\\)',\n",
    "    withLabel: {\n",
    "        fontSize: 16\n",
    "    },\n",
    "    fillColor: 'yellow',\n",
    "    highlightFillColor: 'yellow',\n",
    "    strokeWidth: 0,\n",
    "    arc: {\n",
    "        visible: true,\n",
    "        strokeColor: 'black',\n",
    "        strokeWidth: 2,\n",
    "        firstArrow: {\n",
    "            size: 6\n",
    "        }\n",
    "    }\n",
    "});\n",
    "var angleInv = board.create('angle', [a_n, o, b2], {visible: false})\n",
    "var l1 = board.create('line', [o, a], {straightFirst: false, straightLast: false});\n",
    "var l2 = board.create('line', [o, a], {dash: 3});\n",
    "var l3 = board.create('line', [o, b], {dash: 3});\n",
    "var l4 = board.create('line', [a, b], {dash: 3});\n",
    "\n",
    "function radToDeg(radians) {\n",
    "  var pi = Math.PI;\n",
    "  return radians * (180/pi);\n",
    "}\n",
    "\n",
    "function degHelper(angle, pt) {\n",
    "    deg = angle.Value() * (180/Math.PI);\n",
    "    return -(deg)\n",
    "}\n",
    "\n",
    "board.create('text', [-2.3, 2.3, function () {\n",
    "    return '\\\\(\\\\theta = ' + degHelper(angleInv, a).toFixed(1) + '^{\\\\circ}\\\\)';\n",
    "}],{highlight:false,fixed:true});"
   ]
  },
  {
   "cell_type": "markdown",
   "id": "9749a2e2-1fca-4550-bf3d-b322593e9e09",
   "metadata": {},
   "source": [
    "**Exercise**\n",
    "\n",
    "Explain how is the angle $\\theta$ to Point $D$ is defined above."
   ]
  },
  {
   "cell_type": "markdown",
   "id": "68387c7c-e2d2-4c88-a55a-9cb5d0f348bd",
   "metadata": {
    "deletable": false,
    "nbgrader": {
     "cell_type": "markdown",
     "checksum": "60fdd1f7ebf4bcb905d160e67f88525a",
     "grade": true,
     "grade_id": "p2",
     "locked": false,
     "points": 1,
     "schema_version": 3,
     "solution": true,
     "task": false
    },
    "tags": []
   },
   "source": [
    "YOUR ANSWER HERE"
   ]
  },
  {
   "cell_type": "markdown",
   "id": "81b325d7-5364-4008-860d-8d6011c15e23",
   "metadata": {},
   "source": [
    "Play with the following interactive graph and observe the values of the 3 ratios:"
   ]
  },
  {
   "cell_type": "code",
   "execution_count": null,
   "id": "98ae3f9c-c28b-4f59-ad87-ab32c054aeca",
   "metadata": {},
   "outputs": [],
   "source": [
    "%%jsxgraph\n",
    "JXG.Options.text.useMathJax = true;\n",
    "var board = JXG.JSXGraph.initBoard('box', {boundingbox: [-6, 6, 6, -6], axis: true, grid: true, showCopyright: false});\n",
    "var a_sx = board.create('slider', [[-4,-5], [-2,-5], [-4, 2 ,4]], {name:'x', snapWidth: 0.01});\n",
    "var a_sy = board.create('slider', [[1,-5], [3,-5], [-4, 3 ,4]], {name:'y', snapWidth: 0.01});\n",
    "var a = board.create('point', [()=>a_sx.Value(),()=>a_sy.Value()], {name:function(){return 'D('+a_sx.Value().toFixed(2)+','+a_sy.Value().toFixed(2)+')';}});\n",
    "var o = board.create('point', [0,0], {name:''});\n",
    "o.setAttribute({fixed: true, visible:false});\n",
    "var b = board.create('point', [()=>a.X(), 0], {name:'', visible: false});\n",
    "var b2 = board.create('point', [1,0], {name:'', visible: false});\n",
    "b2.setAttribute({fixed: true});\n",
    "var angle = board.create('sector', [o, b2, a], {\n",
    "    name: '\\\\(\\\\theta\\\\)',\n",
    "    withLabel: {\n",
    "        fontSize: 16\n",
    "    },\n",
    "    fillColor: 'yellow',\n",
    "    highlightFillColor: 'yellow',\n",
    "    strokeWidth: 0,\n",
    "    arc: {\n",
    "        visible: true,\n",
    "        strokeColor: 'black',\n",
    "        strokeWidth: 2,\n",
    "        lastArrow: {\n",
    "            size: 6\n",
    "        }\n",
    "    }\n",
    "});\n",
    "board.create('text', [-0.2,-0.15,'O'], {fixed: true})\n",
    "var angleInv = board.create('angle', [b, o, a], {visible: false})\n",
    "var l1 = board.create('line', [o, a], {straightFirst: false, straightLast: false});\n",
    "var l2 = board.create('line', [o, a], {dash: 3});\n",
    "var l3 = board.create('line', [o, b], {dash: 3});\n",
    "var l4 = board.create('line', [a, b], {dash: 3});\n",
    "\n",
    "function radToDeg(radians) {\n",
    "  var pi = Math.PI;\n",
    "  return radians * (180/pi);\n",
    "}\n",
    "\n",
    "function degToRad(degrees) {\n",
    "  var pi = Math.PI;\n",
    "  return degrees * (pi/180);\n",
    "}\n",
    "\n",
    "function degHelper(angle, pt) {\n",
    "    deg = angle.Value() * (180/Math.PI);\n",
    "    if (pt.X()>=0 && pt.Y()>=0){return deg}\n",
    "    if (pt.X()<=0 && pt.Y()>=0){return deg-180}\n",
    "    if (pt.X()<=0 && pt.Y()<=0){return deg+180}\n",
    "    if (pt.X()>=0 && pt.Y()<=0){return deg}\n",
    "}\n",
    "\n",
    "board.create('text', [-2.3, 2.3, function () {\n",
    "    return '<p>θ = ' + degHelper(angleInv, a).toFixed(1) + '&deg;</p>'\n",
    "    + '<p>sinθ = ' + Math.sin(degToRad(degHelper(angleInv, a))).toFixed(2)\n",
    "    + '<p>cosθ = ' + Math.cos(degToRad(degHelper(angleInv, a))).toFixed(2)\n",
    "    + '<p>tanθ = ' + Math.tan(degToRad(degHelper(angleInv, a))).toFixed(2);\n",
    "}],{highlight:false,fixed:true}); \n",
    "\n",
    "board.create('text', [4.3, 4.5, \"<span style='background-color:yellow;font-size:30px'>I</span>\"], {highlight:true, fixed: true});\n",
    "board.create('text', [-4.7, 4.5, \"<span style='background-color:yellow;font-size:30px'>II</span>\"], {highlight:true, fixed: true});\n",
    "board.create('text', [-4.7, -4.5, \"<span style='background-color:yellow;font-size:30px'>III</span>\"], {highlight:true, fixed: true});\n",
    "board.create('text', [4.3, -4.5, \"<span style='background-color:yellow;font-size:30px'>IV</span>\"], {highlight:true, fixed: true});"
   ]
  },
  {
   "cell_type": "markdown",
   "id": "7cb08593-a57a-4954-8380-bb575c0930be",
   "metadata": {},
   "source": [
    "**Exercise**\n",
    "\n",
    "Try for different angles in different quardrants from the graph and fill in the following table regarding the sign of the values of the 3 trigonometric ratios:\n",
    "\n",
    "| Quadrant | I | II | III | IV |\n",
    "| -------- | - | -- | --- | -- |\n",
    "| $\\sin \\theta$  | + |    |     |    |\n",
    "| $\\cos \\theta$  | + |    |     |    |\n",
    "| $\\tan \\theta$  | + |    |     |    |"
   ]
  },
  {
   "cell_type": "markdown",
   "id": "4fb1d6d3-0621-43e1-a039-798a5569f3c0",
   "metadata": {
    "deletable": false,
    "nbgrader": {
     "cell_type": "markdown",
     "checksum": "cb8fd0c9c230e67f4e65201372e32c94",
     "grade": true,
     "grade_id": "p3",
     "locked": false,
     "points": 2,
     "schema_version": 3,
     "solution": true,
     "task": false
    },
    "tags": []
   },
   "source": [
    "YOUR ANSWER HERE"
   ]
  },
  {
   "cell_type": "markdown",
   "id": "23007713-1f4b-4c37-9a4b-e49658c29eca",
   "metadata": {},
   "source": [
    "```{seealso}\n",
    "To help us remember when the values for the trigonometric ratios are positive/negative, we can use the [CAST diagram](https://en.wikipedia.org/wiki/Mnemonics_in_trigonometry).\n",
    "```"
   ]
  },
  {
   "cell_type": "markdown",
   "id": "0789d710-18b6-4ef5-97c0-32621daab62f",
   "metadata": {},
   "source": [
    "## Plots of Trigonometric Functions"
   ]
  },
  {
   "cell_type": "markdown",
   "id": "7f83d36c-e50f-4d4d-84af-26fc55c6f8ea",
   "metadata": {},
   "source": [
    "If we plot the graph of the trigonometric functions:\n",
    "\n",
    "$$\n",
    "\\begin{align}\n",
    "y=\\sin x\\\\\n",
    "y=\\cos x\\\\\n",
    "y=\\tan x,\n",
    "\\end{align}\n",
    "$$\n",
    "where $x$ is in degrees, we would get the following graphs:"
   ]
  },
  {
   "cell_type": "code",
   "execution_count": null,
   "id": "917bd5ef-6681-4acf-b27b-d75e463750b3",
   "metadata": {},
   "outputs": [],
   "source": [
    "%%jsxgraph\n",
    "function degToRad(degrees) {\n",
    "  var pi = Math.PI;\n",
    "  return degrees * (pi/180);\n",
    "}\n",
    "var board = JXG.JSXGraph.initBoard('box', {boundingbox: [-100, 4, 900, -4], axis: true, grid: true, showCopyright: false});\n",
    "var s = board.create('slider', [[100,3], [500,3], [0,0,900]], {name: 'x', snapWidth: 10});\n",
    "var graph = board.create('functiongraph', [function(x){return Math.sin(degToRad(x))}, 0, ()=>s.Value()]);\n",
    "var pt = board.create('point', [()=>s.Value(), ()=>Math.sin(degToRad(s.Value()))], {name: ()=>'('+s.Value()+','+Math.sin(degToRad(s.Value())).toFixed(2)+')'});\n",
    "var l = board.create('line', [[()=>s.Value(),1], [()=>s.Value(),0]], {dash: 3});\n",
    "board.create('text', [100,2,function(){return 'sin ' + s.Value() + '&#176; = ' + Math.sin(degToRad(s.Value())).toFixed(4) + ' (4d.p.)'}]);\n",
    "board.create('text', [-20,-0.15,'O'], {fixed: true})\n",
    "var ptmax = [];\n",
    "var ptmin = [];\n",
    "var ptzero = [];\n",
    "var nmax = 0;\n",
    "var nmin = 0;\n",
    "var nzero = 0;\n",
    "for (var i=0; i<=900; i++){\n",
    "    if (Math.sin(degToRad(i)) == 1){\n",
    "        ptmax[nmax] = board.create('point', [i, 1], {name: '('+i+'&#176;,1)', fixed: true, visible: false, label:{offset:[5, 20]}});\n",
    "        nmax++;\n",
    "    }\n",
    "    if (Math.sin(degToRad(i)) == -1){\n",
    "        ptmin[nmin] = board.create('point', [i, -1],  {name: '('+i+'&#176;,-1)', fixed: true, visible: false, label:{offset:[5, -8]}});\n",
    "        nmin++;\n",
    "    }\n",
    "    if (Math.abs(Math.sin(degToRad(i))) < 1e-10){\n",
    "        ptzero[nzero] = board.create('point', [i, 0],  {name: '('+i+'&#176;,0)', fixed: true, visible: false, label:{offset:[10, 15]}});\n",
    "        nzero++;\n",
    "    }\n",
    "}\n",
    "var lmx = board.create('line', [ptmax[0], [ptmax[0].X()+0.1,ptmax[0].Y()]], {dash: 2, visible: false});\n",
    "var lmn = board.create('line', [ptmin[0], [ptmin[0].X()+0.1,ptmin[0].Y()]], {dash: 2, visible: false});\n",
    "\n",
    "var minMaxShown = false;\n",
    "showMinMax = function(){\n",
    "    minMaxShown = !minMaxShown;\n",
    "    ptmax.forEach(o => o.setAttribute({visible: minMaxShown}));\n",
    "    ptmin.forEach(o => o.setAttribute({visible: minMaxShown}));\n",
    "    lmx.setAttribute({visible: minMaxShown});\n",
    "    lmn.setAttribute({visible: minMaxShown});\n",
    "};\n",
    "var zeroShown = false;\n",
    "showZero = function(){\n",
    "    zeroShown = !zeroShown;\n",
    "    ptzero.forEach(o => o.setAttribute({visible: zeroShown}));\n",
    "}\n",
    "board.create('text', [100,-2, '<input type=\"checkbox\" id=\"showMinMax\" onChange=\"showMinMax()\" />  Show min/max'], {fixed: true});\n",
    "board.create('text', [100,-3, '<input type=\"checkbox\" id=\"showZero\" onChange=\"showZero()\" />  Show points where y=0'], {fixed: true});"
   ]
  },
  {
   "cell_type": "code",
   "execution_count": null,
   "id": "658ef4ca-0fef-4309-a557-7387520fac74",
   "metadata": {},
   "outputs": [],
   "source": [
    "%%jsxgraph\n",
    "JXG.Options.text.useMathJax = true;\n",
    "function degToRad(degrees) {\n",
    "  var pi = Math.PI;\n",
    "  return degrees * (pi/180);\n",
    "}\n",
    "var board = JXG.JSXGraph.initBoard('box', {boundingbox: [-100, 4, 900, -4], axis: true, grid: true, showCopyright: false});\n",
    "var s = board.create('slider', [[100,3], [500,3], [0,0,900]], {name: 'x', snapWidth: 10});\n",
    "var graph = board.create('functiongraph', [function(x){return Math.cos(degToRad(x))}, 0, ()=>s.Value()]);\n",
    "var pt = board.create('point', [()=>s.Value(), ()=>Math.cos(degToRad(s.Value()))], {name: ()=>'('+s.Value()+','+Math.cos(degToRad(s.Value())).toFixed(2)+')'});\n",
    "var l = board.create('line', [[()=>s.Value(),1], [()=>s.Value(),0]], {dash: 3});\n",
    "board.create('text', [100,2,function(){return 'cos ' + s.Value() + '&#176; = ' + Math.cos(degToRad(s.Value())).toFixed(4) + ' (4d.p.)'}]);\n",
    "board.create('text', [-20,-0.15,'O'], {fixed: true})\n",
    "var ptmax = [];\n",
    "var ptmin = [];\n",
    "var ptzero = [];\n",
    "var nmax = 0;\n",
    "var nmin = 0;\n",
    "var nzero = 0;\n",
    "for (var i=0; i<=900; i++){\n",
    "    if (Math.cos(degToRad(i)) == 1){\n",
    "        ptmax[nmax] = board.create('point', [i, 1], {name: '('+i+'&#176;,1)', fixed: true, visible: false, label:{offset:[5, 20]}});\n",
    "        nmax++;\n",
    "    }\n",
    "    if (Math.cos(degToRad(i)) == -1){\n",
    "        ptmin[nmin] = board.create('point', [i, -1],  {name: '('+i+'&#176;,-1)', fixed: true, visible: false, label:{offset:[5, -8]}});\n",
    "        nmin++;\n",
    "    }\n",
    "    if (Math.abs(Math.cos(degToRad(i))) < 1e-10){\n",
    "        ptzero[nzero] = board.create('point', [i, 0],  {name: '('+i+'&#176;,0)', fixed: true, visible: false, label:{offset:[5, 20]}});\n",
    "        nzero++;\n",
    "    }\n",
    "}\n",
    "var lmx = board.create('line', [ptmax[0], [ptmax[0].X()+0.1,ptmax[0].Y()]], {dash: 2, visible: false});\n",
    "var lmn = board.create('line', [ptmin[0], [ptmin[0].X()+0.1,ptmin[0].Y()]], {dash: 2, visible: false});\n",
    "\n",
    "var minMaxShown = false;\n",
    "showMinMax = function(){\n",
    "    minMaxShown = !minMaxShown;\n",
    "    ptmax.forEach(o => o.setAttribute({visible: minMaxShown}));\n",
    "    ptmin.forEach(o => o.setAttribute({visible: minMaxShown}));\n",
    "    lmx.setAttribute({visible: minMaxShown});\n",
    "    lmn.setAttribute({visible: minMaxShown});\n",
    "};\n",
    "var zeroShown = false;\n",
    "showZero = function(){\n",
    "    zeroShown = !zeroShown;\n",
    "    ptzero.forEach(o => o.setAttribute({visible: zeroShown}));\n",
    "}\n",
    "board.create('text', [100,-2, '<input type=\"checkbox\" id=\"showMinMax\" onChange=\"showMinMax()\" />  Show min/max'], {fixed: true});\n",
    "board.create('text', [100,-3, '<input type=\"checkbox\" id=\"showZero\" onChange=\"showZero()\" />  Show points where y=0'], {fixed: true});"
   ]
  },
  {
   "cell_type": "code",
   "execution_count": null,
   "id": "8646eeee-6d58-4815-b87c-e7aae0b595c6",
   "metadata": {},
   "outputs": [],
   "source": [
    "%%jsxgraph\n",
    "JXG.Options.text.useMathJax = true;\n",
    "function degToRad(degrees) {\n",
    "  var pi = Math.PI;\n",
    "  if (degrees%180 ==0){\n",
    "      return (degrees/180)*pi\n",
    "  }\n",
    "  return degrees * (pi/180);\n",
    "}\n",
    "var board = JXG.JSXGraph.initBoard('box', {boundingbox: [-100, 4, 900, -4], axis: true, grid: true, showCopyright: false});\n",
    "var s = board.create('slider', [[100,3], [500,3], [0,0,900]], {name: 'x', snapWidth: 10});\n",
    "var graph = board.create('functiongraph', [function(x){return Math.tan(degToRad(x))}, 0, ()=>s.Value()]);\n",
    "var pt = board.create('point', [()=>s.Value(), ()=>Math.tan(degToRad(s.Value()))], {name: ()=>'('+s.Value()+','+Math.tan(degToRad(s.Value())).toFixed(2)+')'});\n",
    "var l = board.create('line', [[()=>s.Value(),1], [()=>s.Value(),0]], {dash: 3});\n",
    "board.create('text', [100,2,function(){return 'tan ' + s.Value() + '&#176; = ' + Math.tan(degToRad(s.Value())).toFixed(4) + ' (4d.p.)'}]);\n",
    "board.create('text', [-20,-0.15,'O'], {fixed: true})\n",
    "var ptzero = [];\n",
    "var nzero = 0;\n",
    "for (var i=0; i<=900; i++){\n",
    "    if (Math.abs(Math.tan(degToRad(i))) < 1e-10){\n",
    "        ptzero[nzero] = board.create('point', [i, 0],  {name: '('+i+'&#176;,0)', fixed: true, visible: false, label:{offset:[5, 20]}});\n",
    "        nzero++;\n",
    "    }\n",
    "}\n",
    "\n",
    "var zeroShown = false;\n",
    "showZero = function(){\n",
    "    zeroShown = !zeroShown;\n",
    "    ptzero.forEach(o => o.setAttribute({visible: zeroShown}));\n",
    "}\n",
    "board.create('text', [100,-2, '<input type=\"checkbox\" id=\"showMinMax\" onChange=\"showMinMax()\" disabled/>  Show min/max (min/mix value for y=tan(x) is undefined)'], {fixed: true});\n",
    "board.create('text', [100,-3, '<input type=\"checkbox\" id=\"showZero\" onChange=\"showZero()\" />  Show points where y=0'], {fixed: true});"
   ]
  },
  {
   "cell_type": "markdown",
   "id": "8348558f-5976-4c18-ab3e-6b44810350b4",
   "metadata": {},
   "source": [
    "**Exercise**\n",
    "\n",
    "From the above graphs, what are the maximum/minimum values and when the value is attained (consider $x$ from $0^{\\circ}$ to $360^{\\circ}$) for the $\\sin$, $\\cos$ and $\\tan$ functions? Complete the following table:\n",
    "\n",
    "| $y=$ &nbsp; &nbsp; &nbsp; &nbsp; &nbsp; &nbsp; &nbsp; &nbsp; | $\\sin x$ &nbsp; &nbsp; &nbsp; &nbsp; &nbsp; &nbsp; &nbsp; &nbsp; &nbsp; &nbsp; &nbsp; &nbsp; | $\\cos x$ &nbsp; &nbsp; &nbsp; &nbsp; &nbsp; &nbsp; &nbsp; &nbsp;| $\\tan x$ |\n",
    "| ---- | -------- | -------- | -------- |\n",
    "|  max |   ($x=$) |   ($x=$) | undefined|\n",
    "|  min |   ($x=$) |   ($x=$) | undefined|        \n",
    "\n",
    "What happens after $x$ reaches $360^{\\circ}$ for $\\sin$ and $\\cos$ functions/$180^{\\circ}$ for $\\tan$ function? Try and explain."
   ]
  },
  {
   "cell_type": "markdown",
   "id": "c561836a-d3d0-4eb7-887c-1b25dd0d8387",
   "metadata": {
    "deletable": false,
    "nbgrader": {
     "cell_type": "markdown",
     "checksum": "e95afce7c7a31f343c985f237b91b56a",
     "grade": true,
     "grade_id": "p4",
     "locked": false,
     "points": 1,
     "schema_version": 3,
     "solution": true,
     "task": false
    },
    "tags": []
   },
   "source": [
    "YOUR ANSWER HERE"
   ]
  },
  {
   "cell_type": "markdown",
   "id": "3f87cbcf-59d3-4191-807e-e1ef77091b6c",
   "metadata": {},
   "source": [
    "## Extrema of Trigonometric Functions"
   ]
  },
  {
   "cell_type": "markdown",
   "id": "5df782f4-241b-4e8e-bd10-82f41da02f10",
   "metadata": {},
   "source": [
    "Now we fully understand the range of values of the trigonometric functions, let's see how we can find the minimum/maximum values of functions that includes these trigonometric functions.\n",
    "\n",
    "```{note}\n",
    "Since the min/max values of the $\\tan$ function are undefined, we will only consider $\\sin$ and $\\cos$ functions.\n",
    "```"
   ]
  },
  {
   "cell_type": "markdown",
   "id": "b2600ced-b917-4169-9bb8-2f18fe5933bf",
   "metadata": {},
   "source": [
    "**Example**\n",
    "\n",
    "Consider the following function:\n",
    "\n",
    "$$f(x)=\\sin x-1,$$\n",
    "\n",
    "Find the maximum and minumum values of $f(x)$ and find $x$ given $0^{\\circ}\\leq x\\leq360^{\\circ}$."
   ]
  },
  {
   "cell_type": "markdown",
   "id": "59c4e98d-b4e5-4a4a-b9ba-1b1058d0ac95",
   "metadata": {},
   "source": [
    "```{admonition} Solution\n",
    "\n",
    "Firstly, we think about what $f(x)$ can be. From what we learnt above, we know that $-1\\leq\\sin x\\leq1$, i.e. the value of $\\sin x$ can be anything between $-1$ and $1$, the min/max value of $f(x)$ can be the min/max value of $\\sin x$, then $-1$.\n",
    "\n",
    "Therefore, \n",
    "$$\\max \\text{ of } f(x)= (1)-1$$\n",
    "$$=0$$\n",
    "when $x=90^{\\circ}$\n",
    "and\n",
    "$$\\min \\text{ of } f(x)= (-1)-1$$\n",
    "$$=-2$$\n",
    "when $x=270^{\\circ}$.\n",
    "```\n",
    "\n",
    "Let's validate the result graphically:"
   ]
  },
  {
   "cell_type": "code",
   "execution_count": null,
   "id": "9e9970d4-96e5-42da-807d-5a1a77eae0e5",
   "metadata": {},
   "outputs": [],
   "source": [
    "%%jsxgraph\n",
    "JXG.Options.text.useMathJax = true;\n",
    "function degToRad(degrees) {\n",
    "  var pi = Math.PI;\n",
    "  return degrees * (pi/180);\n",
    "}\n",
    "var board = JXG.JSXGraph.initBoard('box', {boundingbox: [-100, 4, 900, -4], axis: true, grid: true, showCopyright: false});\n",
    "var s = board.create('slider', [[100,3], [500,3], [0,0,900]], {name: 'x', snapWidth: 10});\n",
    "var graph = board.create('functiongraph', [function(x){return Math.sin(degToRad(x))-1}, 0, ()=>s.Value()]);\n",
    "var pt = board.create('point', [()=>s.Value(), ()=>(Math.sin(degToRad(s.Value()))-1)], {name: ()=>'('+s.Value()+','+(Math.sin(degToRad(s.Value()))-1).toFixed(2)+')'});\n",
    "var l = board.create('line', [[()=>s.Value(),1], [()=>s.Value(),0]], {dash: 3});\n",
    "board.create('text', [100,2,function(){return 'sin ' + s.Value() + '&#176;-1 = ' + (Math.sin(degToRad(s.Value()))-1).toFixed(4) + ' (4d.p.)'}]);\n",
    "board.create('text', [-20,-0.15,'O'], {fixed: true})\n",
    "var ptmax = [];\n",
    "var ptmin = [];\n",
    "var nmax = 0;\n",
    "var nmin = 0;\n",
    "for (var i=0; i<=360; i++){\n",
    "    if (Math.sin(degToRad(i)) == 1){\n",
    "        ptmax[nmax] = board.create('point', [i, 0], {name: '('+i+'&#176;,0)', fixed: true, visible: false, label:{offset:[5, 20]}});\n",
    "        nmax++;\n",
    "    }\n",
    "    if (Math.sin(degToRad(i)) == -1){\n",
    "        ptmin[nmin] = board.create('point', [i, -2],  {name: '('+i+'&#176;,-2)', fixed: true, visible: false, label:{offset:[5, -8]}});\n",
    "        nmin++;\n",
    "    }\n",
    "};\n",
    "var lmx = board.create('line', [ptmax[0], [ptmax[0].X()+0.1,ptmax[0].Y()]], {dash: 2, visible: false});\n",
    "var lmn = board.create('line', [ptmin[0], [ptmin[0].X()+0.1,ptmin[0].Y()]], {dash: 2, visible: false});\n",
    "var lbnd = board.create('line', [[360, 0], [360, 1]], {dash: 1, strokeColor: '#aaaaaa', fixed: true});\n",
    "\n",
    "var minMaxShown = false;\n",
    "showMinMax = function(){\n",
    "    minMaxShown = !minMaxShown;\n",
    "    ptmax.forEach(o => o.setAttribute({visible: minMaxShown}));\n",
    "    ptmin.forEach(o => o.setAttribute({visible: minMaxShown}));\n",
    "    lmx.setAttribute({visible: minMaxShown});\n",
    "    lmn.setAttribute({visible: minMaxShown});\n",
    "};\n",
    "\n",
    "board.create('text', [100,-3, '<input type=\"checkbox\" id=\"showMinMax\" onChange=\"showMinMax()\" />  Show min/max'], {fixed: true});"
   ]
  },
  {
   "cell_type": "markdown",
   "id": "c5cbb3da-21e3-4069-b344-b6ae22091304",
   "metadata": {},
   "source": [
    "**Example**\n",
    "\n",
    "Consider the following function:\n",
    "\n",
    "$$f(x)=\\frac{1}{\\cos x+2},$$\n",
    "\n",
    "Find the maximum and minumum values of $f(x)$ and find $x$ given $0^{\\circ}\\leq x\\leq360^{\\circ}$."
   ]
  },
  {
   "cell_type": "markdown",
   "id": "a33810c1-7ece-4519-b01e-ec14a1cb38d3",
   "metadata": {},
   "source": [
    "```{admonition} Solution\n",
    "\n",
    "Similarly, we first think about what $f(x)$ can be. From what we learnt above, we know that $-1\\leq\\cos x\\leq1$, i.e. the value of $\\cos x$ can be anything between $-1$ and $1$, the min/max value of $f(x)$ can be the min/max value of $\\cos x$. However, unlike Ex. 1, $f(x)$ is a rational function ($f(x)=\\frac{g(x)}{h(x)}$), and to maximise $f(x)$, we need to **minimise** the denominator ($\\cos x+2$). Similarly, to minimise $f(x)$, we need to **maximise** the denominator. \n",
    "\n",
    "Therefore, \n",
    "\n",
    "$$\n",
    "\\max \\text{ of } f(x)= \\frac{1}{(-1)+2}\n",
    "=1\n",
    "$$\n",
    "\n",
    "when $x=180^{\\circ}$ \n",
    "and\n",
    "\n",
    "$$\\min \\text{ of } f(x)= \\frac{1}{(1)+2}=\\frac{1}{3}$$\n",
    "\n",
    "when $x=0^{\\circ}$ or $360^{\\circ}$.\n",
    "```\n",
    "\n",
    "```{note}\n",
    "It may be possible for there to be multiple values of $x$ that satisfies the solution! Always remember to check the range of $x$ given by the question and see whether there are multiple answers!\n",
    "```\n",
    "\n",
    "\n",
    "Let's validate the result graphically:"
   ]
  },
  {
   "cell_type": "code",
   "execution_count": null,
   "id": "e0e2a22c-1b3d-4c9f-a7ad-82bf822d900f",
   "metadata": {},
   "outputs": [],
   "source": [
    "%%jsxgraph\n",
    "JXG.Options.text.useMathJax = true;\n",
    "function degToRad(degrees) {\n",
    "  var pi = Math.PI;\n",
    "  return degrees * (pi/180);\n",
    "}\n",
    "\n",
    "var board = JXG.JSXGraph.initBoard('box', {boundingbox: [-100, 4, 900, -4], axis: true, grid: true, showCopyright: false});\n",
    "var s = board.create('slider', [[100,3], [500,3], [0,0,900]], {name: 'x', snapWidth: 10});\n",
    "var graph = board.create('functiongraph', [function(x){return (1/(Math.cos(degToRad(x))+2))}, 0, ()=>s.Value()]);\n",
    "var pt = board.create('point', [()=>s.Value(), ()=>(1/(Math.cos(degToRad(s.Value()))+2))], {name: ()=>'('+s.Value()+','+(1/(Math.cos(degToRad(s.Value()))+2)).toFixed(2)+')'});\n",
    "var l = board.create('line', [[()=>s.Value(),1], [()=>s.Value(),0]], {dash: 3});\n",
    "board.create('text', [100,2,function(){return '1/(cos ' + s.Value() + '&#176;+2) = ' + (1/(Math.cos(degToRad(s.Value()))+2)).toFixed(4) + ' (4d.p.)'}]);\n",
    "board.create('text', [-20,-0.15,'O'], {fixed: true})\n",
    "var ptmax = [];\n",
    "var ptmin = [];\n",
    "var nmax = 0;\n",
    "var nmin = 0;\n",
    "for (var i=0; i<=360; i++){\n",
    "    if (Math.cos(degToRad(i)) == 1){\n",
    "        ptmax[nmax] = board.create('point', [i, 1/3], {name: '('+i+'&#176;,1/3)', fixed: true, visible: false, label:{offset:[5, -5]}});\n",
    "        nmax++;\n",
    "    }\n",
    "    if (Math.cos(degToRad(i)) == -1){\n",
    "        ptmin[nmin] = board.create('point', [i, 1],  {name: '('+i+'&#176;,1)', fixed: true, visible: false, label:{offset:[5, 20]}});\n",
    "        nmin++;\n",
    "    }\n",
    "};\n",
    "var lmx = board.create('line', [ptmax[0], [ptmax[0].X()+0.1,ptmax[0].Y()]], {dash: 2, visible: false});\n",
    "var lmn = board.create('line', [ptmin[0], [ptmin[0].X()+0.1,ptmin[0].Y()]], {dash: 2, visible: false});\n",
    "var lbnd = board.create('line', [[360, 0], [360, 1]], {dash: 1, strokeColor: '#aaaaaa', fixed: true});\n",
    "\n",
    "var minMaxShown = false;\n",
    "showMinMax = function(){\n",
    "    minMaxShown = !minMaxShown;\n",
    "    ptmax.forEach(o => o.setAttribute({visible: minMaxShown}));\n",
    "    ptmin.forEach(o => o.setAttribute({visible: minMaxShown}));\n",
    "    lmx.setAttribute({visible: minMaxShown});\n",
    "    lmn.setAttribute({visible: minMaxShown});\n",
    "};\n",
    "\n",
    "board.create('text', [100,-3, '<input type=\"checkbox\" id=\"showMinMax\" onChange=\"showMinMax()\" />  Show min/max'], {fixed: true});"
   ]
  },
  {
   "cell_type": "markdown",
   "id": "5cf9b3b3-e249-43f8-955e-a365c9adf9e7",
   "metadata": {},
   "source": [
    "Now, it is your turn to complete the following exercise."
   ]
  },
  {
   "cell_type": "markdown",
   "id": "2e4c0365-dd5c-474f-99a2-b9d45da52b56",
   "metadata": {},
   "source": [
    "**Exercise**\n",
    "\n",
    "Consider the following function:\n",
    "\n",
    "$$f(x)=(2\\sin x-1)^2,$$\n",
    "\n",
    "Find the maximum and minumum values of $f(x)$ and find $x$ given $0^{\\circ}\\leq x\\leq360^{\\circ}$."
   ]
  },
  {
   "cell_type": "markdown",
   "id": "facb7c96-4a6f-430c-a6a4-8c53b1d1d8e4",
   "metadata": {
    "deletable": false,
    "nbgrader": {
     "cell_type": "markdown",
     "checksum": "916f1693024d3b9864680cccb92f8d5f",
     "grade": true,
     "grade_id": "p5",
     "locked": false,
     "points": 1,
     "schema_version": 3,
     "solution": true,
     "task": false
    },
    "tags": []
   },
   "source": [
    "YOUR ANSWER HERE"
   ]
  },
  {
   "cell_type": "markdown",
   "id": "c33e9386-607d-4347-9b9f-f9b789b30d52",
   "metadata": {},
   "source": [
    "Validate your solution graphically:"
   ]
  },
  {
   "cell_type": "code",
   "execution_count": null,
   "id": "b5a63d34-89ce-4062-9749-24f421a3f67b",
   "metadata": {},
   "outputs": [],
   "source": [
    "%%jsxgraph\n",
    "JXG.Options.text.useMathJax = true;\n",
    "function degToRad(degrees) {\n",
    "  var pi = Math.PI;\n",
    "  return degrees * (pi/180);\n",
    "}\n",
    "var board = JXG.JSXGraph.initBoard('box', {boundingbox: [-100, 12, 900, -4], axis: true, grid: true, showCopyright: false});\n",
    "var s = board.create('slider', [[100,11], [500,11], [0,0,900]], {name: 'x', snapWidth: 10});\n",
    "var graph = board.create('functiongraph', [function(x){return ((2*Math.sin(degToRad(x))-1)**2)}, 0, ()=>s.Value()]);\n",
    "var pt = board.create('point', [()=>s.Value(), ()=>((2*Math.sin(degToRad(s.Value()))-1)**2)], {name: ()=>'('+s.Value()+','+((2*Math.sin(degToRad(s.Value()))-1)**2).toFixed(2)+')'});\n",
    "var l = board.create('line', [[()=>s.Value(),1], [()=>s.Value(),0]], {dash: 3});\n",
    "board.create('text', [100,10,function(){return '(2sin ' + s.Value() + '&#176;-1)^2 = ' + ((2*Math.sin(degToRad(s.Value()))-1)**2).toFixed(4) + ' (4d.p.)'}]);\n",
    "board.create('text', [-20,-0.15,'O'], {fixed: true})\n",
    "var ptmax = [];\n",
    "var ptmin = [];\n",
    "var nmax = 0;\n",
    "var nmin = 0;\n",
    "for (var i=0; i<=360; i++){\n",
    "    if (Math.sin(degToRad(i)) == -1){\n",
    "        ptmax[nmax] = board.create('point', [i, 9], {name: '('+i+'&#176;,9)', fixed: true, visible: false, label:{offset:[5, 20]}});\n",
    "        nmax++;\n",
    "    }\n",
    "    if (Math.abs(Math.sin(degToRad(i))-0.5) < Number.EPSILON){\n",
    "        ptmin[nmin] = board.create('point', [i, 0],  {name: '('+i+'&#176;,0)', fixed: true, visible: false, label:{offset:[5, -13]}});\n",
    "        nmin++;\n",
    "    }\n",
    "};\n",
    "var lmx = board.create('line', [ptmax[0], [ptmax[0].X()+0.1,ptmax[0].Y()]], {dash: 2, visible: false});\n",
    "var lmn = board.create('line', [ptmin[0], [ptmin[0].X()+0.1,ptmin[0].Y()]], {dash: 2, visible: false});\n",
    "var lbnd = board.create('line', [[360, 0], [360, 1]], {dash: 1, strokeColor: '#aaaaaa', fixed: true});\n",
    "\n",
    "var minMaxShown = false;\n",
    "showMinMax = function(){\n",
    "    minMaxShown = !minMaxShown;\n",
    "    ptmax.forEach(o => o.setAttribute({visible: minMaxShown}));\n",
    "    ptmin.forEach(o => o.setAttribute({visible: minMaxShown}));\n",
    "    lmx.setAttribute({visible: minMaxShown});\n",
    "    lmn.setAttribute({visible: minMaxShown});\n",
    "};\n",
    "\n",
    "board.create('text', [100,-2, '<input type=\"checkbox\" id=\"showMinMax\" onChange=\"showMinMax()\" />  Show min/max'], {fixed: true});"
   ]
  },
  {
   "cell_type": "markdown",
   "id": "760c34ba-e4dc-4a58-910c-762f72c1dbc2",
   "metadata": {},
   "source": [
    "```{hint}\n",
    "It may be possible that in order to find the min/max value of $f(x)$ we don't use the min/max value of $\\sin x$ or $\\cos x$ ($1$ or $-1$). Be smart and think about how different values would affect the values of the polynomial itself!\n",
    "```"
   ]
  }
 ],
 "metadata": {
  "kernelspec": {
   "display_name": "Python 3.9 (XPython)",
   "language": "python",
   "name": "xpython"
  },
  "language_info": {
   "file_extension": ".py",
   "mimetype": "text/x-python",
   "name": "python",
   "version": "3.9.13"
  },
  "widgets": {
   "application/vnd.jupyter.widget-state+json": {
    "state": {
     "091ea4f9be574126856de69030958ed9": {
      "model_module": "@jupyter-widgets/base",
      "model_module_version": "1.2.0",
      "model_name": "LayoutModel",
      "state": {}
     },
     "0c064c1b5d304ec9a760049467251b56": {
      "model_module": "@jupyter-widgets/base",
      "model_module_version": "1.2.0",
      "model_name": "LayoutModel",
      "state": {}
     },
     "1486f4276b444b68b957088ae12fc478": {
      "model_module": "jupyter-divewidgets",
      "model_module_version": "^0.1.5",
      "model_name": "JSWidgetModel",
      "state": {
       "_model_module_version": "^0.1.5",
       "_view_module_version": "^0.1.5",
       "html": "<!DOCTYPE html>\n<html>\n    <head>\n    <style>\n    html, body {\n        height: 100%;\n    }\n    body {\n        width: 100%;\n        display: flex;\n        padding: 0;\n        margin: 0;\n    }\n    .jxgbox {\n        width:100%; \n        flex-grow: 1;\n    }\n    </style>\n    <link rel=\"stylesheet\" type=\"text/css\" href=\"https://jsxgraph.org/distrib/jsxgraph.css\" />\n    <script type=\"text/javascript\" src=\"https://cdn.jsdelivr.net/npm/jsxgraph/distrib/jsxgraphcore.js\"></script>\n    <script type=\"text/javascript\" src=\"https://cdn.jsdelivr.net/npm/mathjax@3/es5/tex-chtml.js\"></script>\n    </head>\n<body>\n<div id=\"box\" class=\"jxgbox\"></div>\n</body>\n</html>",
       "js": "var board = JXG.JSXGraph.initBoard('box', {boundingbox: [-6, 6, 6, -6], axis: true, grid: true, showCopyright: false});\nvar a_sx = board.create('slider', [[-4,-5], [-2,-5], [-4, 2 ,4]], {name:'x', snapWidth: 0.01});\nvar a_sy = board.create('slider', [[1,-5], [3,-5], [-4, 3 ,4]], {name:'y', snapWidth: 0.01});\nvar a = board.create('point', [()=>a_sx.Value(),()=>a_sy.Value()], {name:function(){return 'D('+a_sx.Value().toFixed(2)+','+a_sy.Value().toFixed(2)+')';}});\nvar o = board.create('point', [0,0], {name:''});\no.setAttribute({fixed: true, visible: false});\nvar b = board.create('point', [()=>a.X(), 0], {name:'D\\''});\nvar tri = board.create('polygon', [a,o,b]);\nvar ang = board.create('nonreflexangle', [a,b,o], {name:' ', radius: 0.2});\nvar ang2 = board.create('nonreflexangle', [a,o,b], {name:'θ', radius: 0.4})\nboard.create('text', [-0.2,-0.15,'O'], {fixed: true})\nboard.create('text',[()=>(a.X()+o.X()+b.X())/3,()=>(a.Y()+o.X()+b.Y())/3,'△ODD\\''],{anchorX:'middle', anchorY:'auto'});",
       "layout": "IPY_MODEL_5d34ced9c5854ce39593abed11de18dc"
      }
     },
     "1802a82f06ba4cab84b4487cb1e0e3bf": {
      "model_module": "jupyter-divewidgets",
      "model_module_version": "^0.1.5",
      "model_name": "JSWidgetModel",
      "state": {
       "_model_module_version": "^0.1.5",
       "_view_module_version": "^0.1.5",
       "html": "<!DOCTYPE html>\n<html>\n    <head>\n    <style>\n    html, body {\n        height: 100%;\n    }\n    body {\n        width: 100%;\n        display: flex;\n        padding: 0;\n        margin: 0;\n    }\n    .jxgbox {\n        width:100%; \n        flex-grow: 1;\n    }\n    </style>\n    <link rel=\"stylesheet\" type=\"text/css\" href=\"https://jsxgraph.org/distrib/jsxgraph.css\" />\n    <script type=\"text/javascript\" src=\"https://cdn.jsdelivr.net/npm/jsxgraph/distrib/jsxgraphcore.js\"></script>\n    <script type=\"text/javascript\" src=\"https://cdn.jsdelivr.net/npm/mathjax@3/es5/tex-chtml.js\"></script>\n    </head>\n<body>\n<div id=\"box\" class=\"jxgbox\"></div>\n</body>\n</html>",
       "js": "JXG.Options.text.useMathJax = true;\nfunction degToRad(degrees) {\n  var pi = Math.PI;\n  return degrees * (pi/180);\n}\nvar board = JXG.JSXGraph.initBoard('box', {boundingbox: [-100, 12, 900, -4], axis: true, grid: true, showCopyright: false});\nvar s = board.create('slider', [[100,11], [500,11], [0,0,900]], {name: 'x', snapWidth: 10});\nvar graph = board.create('functiongraph', [function(x){return ((2*Math.sin(degToRad(x))-1)**2)}, 0, ()=>s.Value()]);\nvar pt = board.create('point', [()=>s.Value(), ()=>((2*Math.sin(degToRad(s.Value()))-1)**2)], {name: ()=>'('+s.Value()+','+((2*Math.sin(degToRad(s.Value()))-1)**2).toFixed(2)+')'});\nvar l = board.create('line', [[()=>s.Value(),1], [()=>s.Value(),0]], {dash: 3});\nboard.create('text', [100,10,function(){return '(2sin ' + s.Value() + '&#176;-1)^2 = ' + ((2*Math.sin(degToRad(s.Value()))-1)**2).toFixed(4) + ' (4d.p.)'}]);\nboard.create('text', [-20,-0.15,'O'], {fixed: true})\nvar ptmax = [];\nvar ptmin = [];\nvar nmax = 0;\nvar nmin = 0;\nfor (var i=0; i<=360; i++){\n    if (Math.sin(degToRad(i)) == -1){\n        ptmax[nmax] = board.create('point', [i, 9], {name: '('+i+'&#176;,9)', fixed: true, visible: false, label:{offset:[5, 20]}});\n        nmax++;\n    }\n    if (Math.abs(Math.sin(degToRad(i))-0.5) < Number.EPSILON){\n        ptmin[nmin] = board.create('point', [i, 0],  {name: '('+i+'&#176;,0)', fixed: true, visible: false, label:{offset:[5, -13]}});\n        nmin++;\n    }\n};\nvar lmx = board.create('line', [ptmax[0], [ptmax[0].X()+0.1,ptmax[0].Y()]], {dash: 2, visible: false});\nvar lmn = board.create('line', [ptmin[0], [ptmin[0].X()+0.1,ptmin[0].Y()]], {dash: 2, visible: false});\nvar lbnd = board.create('line', [[360, 0], [360, 1]], {dash: 1, strokeColor: '#aaaaaa', fixed: true});\n\nvar minMaxShown = false;\nshowMinMax = function(){\n    minMaxShown = !minMaxShown;\n    ptmax.forEach(o => o.setAttribute({visible: minMaxShown}));\n    ptmin.forEach(o => o.setAttribute({visible: minMaxShown}));\n    lmx.setAttribute({visible: minMaxShown});\n    lmn.setAttribute({visible: minMaxShown});\n};\n\nboard.create('text', [100,-2, '<input type=\"checkbox\" id=\"showMinMax\" onChange=\"showMinMax()\" />  Show min/max'], {fixed: true});",
       "layout": "IPY_MODEL_d0fbc1d8ef9640419fa89b77c5228141"
      }
     },
     "1861d4d5014642e189ad2f6a2c1c8f28": {
      "model_module": "jupyter-divewidgets",
      "model_module_version": "^0.1.5",
      "model_name": "JSWidgetModel",
      "state": {
       "_model_module_version": "^0.1.5",
       "_view_module_version": "^0.1.5",
       "html": "<!DOCTYPE html>\n<html>\n    <head>\n    <style>\n    html, body {\n        height: 100%;\n    }\n    body {\n        width: 100%;\n        display: flex;\n        padding: 0;\n        margin: 0;\n    }\n    .jxgbox {\n        width:100%; \n        flex-grow: 1;\n    }\n    </style>\n    <link rel=\"stylesheet\" type=\"text/css\" href=\"https://jsxgraph.org/distrib/jsxgraph.css\" />\n    <script type=\"text/javascript\" src=\"https://cdn.jsdelivr.net/npm/jsxgraph/distrib/jsxgraphcore.js\"></script>\n    <script type=\"text/javascript\" src=\"https://cdn.jsdelivr.net/npm/mathjax@3/es5/tex-chtml.js\"></script>\n    </head>\n<body>\n<div id=\"box\" class=\"jxgbox\"></div>\n</body>\n</html>",
       "js": "var board = JXG.JSXGraph.initBoard('box', {boundingbox: [-6, 6, 6, -6], axis: true, grid: true, showCopyright: false});\nvar a_sx = board.create('slider', [[-4,-5], [-2,-5], [-4, 2 ,4]], {name:'x', snapWidth: 0.01});\nvar a_sy = board.create('slider', [[1,-5], [3,-5], [-4, 3 ,4]], {name:'y', snapWidth: 0.01});\nvar a = board.create('point', [()=>a_sx.Value(),()=>a_sy.Value()], {name:function(){return 'D('+a_sx.Value().toFixed(2)+','+a_sy.Value().toFixed(2)+')';}});\nvar o = board.create('point', [0,0], {name:''});\no.setAttribute({fixed: true, visible: false});\nvar b = board.create('point', [()=>a.X(), 0], {name:'', visible: false});\nvar b2 = board.create('point', [1,0], {name:'', visible: false});\nb2.setAttribute({fixed: true});\nboard.create('text', [-0.2,-0.15,'O'], {fixed: true})\nvar angle = board.create('sector', [o, b2, a], {\n    name: '\\\\(\\\\theta\\\\)',\n    withLabel: {\n        fontSize: 16\n    },\n    fillColor: 'yellow',\n    highlightFillColor: 'yellow',\n    strokeWidth: 0,\n    arc: {\n        visible: true,\n        strokeColor: 'black',\n        strokeWidth: 2,\n        lastArrow: {\n            size: 6\n        },\n    useMathJax: true\n    }\n});\nvar angleInv = board.create('angle', [b, o, a], {visible: false})\nvar l1 = board.create('line', [o, a], {straightFirst: false, straightLast: false});\nvar l2 = board.create('line', [o, a], {dash: 3});\nvar l3 = board.create('line', [o, b], {dash: 3});\nvar l4 = board.create('line', [a, b], {dash: 3});\n\nfunction radToDeg(radians) {\n  var pi = Math.PI;\n  return radians * (180/pi);\n}\n\nfunction degHelper(angle, pt) {\n    deg = angle.Value() * (180/Math.PI);\n    if (pt.X()>=0 && pt.Y()>=0){return deg}\n    if (pt.X()<=0 && pt.Y()>=0){return deg-180}\n    if (pt.X()<=0 && pt.Y()<=0){return deg+180}\n    if (pt.X()>=0 && pt.Y()<=0){return deg}\n}\n\nboard.create('text', [-2.3, 2.3, function () {\n    return '<p>θ = ' + degHelper(angleInv, a).toFixed(1) + '&deg;</p>';\n}],{highlight:false,fixed:true});",
       "layout": "IPY_MODEL_ea3202ef17e6493d823c325ce134b841"
      }
     },
     "1a26ba46784247a2979d4f40aa0ab91f": {
      "model_module": "@jupyter-widgets/base",
      "model_module_version": "1.2.0",
      "model_name": "LayoutModel",
      "state": {}
     },
     "1a45f61a5cbc47e08148fb482bc33c15": {
      "model_module": "jupyter-divewidgets",
      "model_module_version": "^0.1.5",
      "model_name": "JSWidgetModel",
      "state": {
       "_model_module_version": "^0.1.5",
       "_view_module_version": "^0.1.5",
       "html": "<!DOCTYPE html>\n<html>\n    <head>\n    <style>\n    html, body {\n        height: 100%;\n    }\n    body {\n        width: 100%;\n        display: flex;\n        padding: 0;\n        margin: 0;\n    }\n    .jxgbox {\n        width:100%; \n        flex-grow: 1;\n    }\n    </style>\n    <link rel=\"stylesheet\" type=\"text/css\" href=\"https://jsxgraph.org/distrib/jsxgraph.css\" />\n    <script type=\"text/javascript\" src=\"https://cdn.jsdelivr.net/npm/jsxgraph/distrib/jsxgraphcore.js\"></script>\n    <script type=\"text/javascript\" src=\"https://cdn.jsdelivr.net/npm/mathjax@3/es5/tex-chtml.js\"></script>\n    </head>\n<body>\n<div id=\"box\" class=\"jxgbox\"></div>\n</body>\n</html>",
       "js": "var board = JXG.JSXGraph.initBoard('box', {boundingbox: [-6, 6, 6, -6], axis: true, grid: true, showCopyright: false});\nvar a_sx = board.create('slider', [[-4,-5], [-2,-5], [-4, 2 ,4]], {name:'x', snapWidth: 0.01});\nvar a_sy = board.create('slider', [[1,-5], [3,-5], [-4, 3 ,4]], {name:'y', snapWidth: 0.01});\nvar a = board.create('point', [()=>a_sx.Value(),()=>a_sy.Value()], {name:function(){return 'D('+a_sx.Value().toFixed(2)+','+a_sy.Value().toFixed(2)+')';}});\nvar o = board.create('point', [0,0], {name:''});\no.setAttribute({fixed: true, visible: false});\nvar b = board.create('point', [()=>a.X(), 0], {name:'', visible: false});\nvar b2 = board.create('point', [1,0], {name:'', visible: false});\nb2.setAttribute({fixed: true});\nboard.create('text', [-0.2,-0.15,'O'], {fixed: true})\nvar angle = board.create('sector', [o, b2, a], {\n    name: ' \\theta',\n    withLabel: {\n        fontSize: 16\n    },\n    fillColor: 'yellow',\n    highlightFillColor: 'yellow',\n    strokeWidth: 0,\n    arc: {\n        visible: true,\n        strokeColor: 'black',\n        strokeWidth: 2,\n        lastArrow: {\n            size: 6\n        }\n    }\n});\nvar angleInv = board.create('angle', [b, o, a], {visible: false})\nvar l1 = board.create('line', [o, a], {straightFirst: false, straightLast: false});\nvar l2 = board.create('line', [o, a], {dash: 3});\nvar l3 = board.create('line', [o, b], {dash: 3});\nvar l4 = board.create('line', [a, b], {dash: 3});\n\nfunction radToDeg(radians) {\n  var pi = Math.PI;\n  return radians * (180/pi);\n}\n\nfunction degHelper(angle, pt) {\n    deg = angle.Value() * (180/Math.PI);\n    if (pt.X()>=0 && pt.Y()>=0){return deg}\n    if (pt.X()<=0 && pt.Y()>=0){return deg-180}\n    if (pt.X()<=0 && pt.Y()<=0){return deg+180}\n    if (pt.X()>=0 && pt.Y()<=0){return deg}\n}\n\nboard.create('text', [-2.3, 2.3, function () {\n    return '<p>θ = ' + degHelper(angleInv, a).toFixed(1) + '&deg;</p>';\n}],{highlight:false,fixed:true});",
       "layout": "IPY_MODEL_42bbad7bfd3c4f2a8fdf95edf52b7d8c"
      }
     },
     "1ca3f2b9ae45461fb73bf9cc407a9112": {
      "model_module": "jupyter-divewidgets",
      "model_module_version": "^0.1.5",
      "model_name": "JSWidgetModel",
      "state": {
       "_model_module_version": "^0.1.5",
       "_view_module_version": "^0.1.5",
       "html": "<!DOCTYPE html>\n<html>\n    <head>\n    <style>\n    html, body {\n        height: 100%;\n    }\n    body {\n        width: 100%;\n        display: flex;\n        padding: 0;\n        margin: 0;\n    }\n    .jxgbox {\n        width:100%; \n        flex-grow: 1;\n    }\n    </style>\n    <link rel=\"stylesheet\" type=\"text/css\" href=\"https://jsxgraph.org/distrib/jsxgraph.css\" />\n    <script type=\"text/javascript\" src=\"https://cdn.jsdelivr.net/npm/jsxgraph/distrib/jsxgraphcore.js\"></script>\n    <script type=\"text/javascript\" src=\"https://cdn.jsdelivr.net/npm/mathjax@3/es5/tex-chtml.js\"></script>\n    </head>\n<body>\n<div id=\"box\" class=\"jxgbox\"></div>\n</body>\n</html>",
       "js": "JXG.Options.text.useMathJax = true;\nvar board = JXG.JSXGraph.initBoard('box', {boundingbox: [-6, 6, 6, -6], axis: true, grid: true, showCopyright: false});\nvar a_sx = board.create('slider', [[-4,-5], [-2,-5], [-4, 2 ,4]], {name:'x', snapWidth: 0.01});\nvar a_sy = board.create('slider', [[1,-5], [3,-5], [-4, 3 ,4]], {name:'y', snapWidth: 0.01});\nvar a = board.create('point', [()=>a_sx.Value(),()=>a_sy.Value()], {name:function(){return 'D('+a_sx.Value().toFixed(2)+','+a_sy.Value().toFixed(2)+')';}});\nvar o = board.create('point', [0,0], {name:''});\no.setAttribute({fixed: true, visible: false});\nvar b = board.create('point', [()=>a.X(), 0], {name:'', visible: false});\nvar b2 = board.create('point', [1,0], {name:'', visible: false});\nb2.setAttribute({fixed: true});\nboard.create('text', [-0.2,-0.15,'O'], {fixed: true})\nvar angle = board.create('sector', [o, b2, a], {\n    name: '\\\\(\\\\theta\\\\)',\n    withLabel: {\n        fontSize: 16\n    },\n    fillColor: 'yellow',\n    highlightFillColor: 'yellow',\n    strokeWidth: 0,\n    arc: {\n        visible: true,\n        strokeColor: 'black',\n        strokeWidth: 2,\n        lastArrow: {\n            size: 6\n        }\n    }\n});\nvar angleInv = board.create('angle', [b, o, a], {visible: false})\nvar l1 = board.create('line', [o, a], {straightFirst: false, straightLast: false});\nvar l2 = board.create('line', [o, a], {dash: 3});\nvar l3 = board.create('line', [o, b], {dash: 3});\nvar l4 = board.create('line', [a, b], {dash: 3});\n\nfunction radToDeg(radians) {\n  var pi = Math.PI;\n  return radians * (180/pi);\n}\n\nfunction degHelper(angle, pt) {\n    deg = angle.Value() * (180/Math.PI);\n    if (pt.X()>=0 && pt.Y()>=0){return deg}\n    if (pt.X()<=0 && pt.Y()>=0){return deg-180}\n    if (pt.X()<=0 && pt.Y()<=0){return deg+180}\n    if (pt.X()>=0 && pt.Y()<=0){return deg}\n}\n\nboard.create('text', [-2.3, 2.3, function () {\n    return '<p>θ = ' + degHelper(angleInv, a).toFixed(1) + '&deg;</p>';\n}],{highlight:false,fixed:true});",
       "layout": "IPY_MODEL_0c064c1b5d304ec9a760049467251b56"
      }
     },
     "23e0a034b7744ca5b423e8bc06ec04b5": {
      "model_module": "jupyter-divewidgets",
      "model_module_version": "^0.1.5",
      "model_name": "JSWidgetModel",
      "state": {
       "_model_module_version": "^0.1.5",
       "_view_module_version": "^0.1.5",
       "html": "<!DOCTYPE html>\n<html>\n    <head>\n    <style>\n    html, body {\n        height: 100%;\n    }\n    body {\n        width: 100%;\n        display: flex;\n        padding: 0;\n        margin: 0;\n    }\n    .jxgbox {\n        width:100%; \n        flex-grow: 1;\n    }\n    </style>\n    <link rel=\"stylesheet\" type=\"text/css\" href=\"https://jsxgraph.org/distrib/jsxgraph.css\" />\n    <script type=\"text/javascript\" src=\"https://cdn.jsdelivr.net/npm/jsxgraph/distrib/jsxgraphcore.js\"></script>\n    <script type=\"text/javascript\" src=\"https://cdn.jsdelivr.net/npm/mathjax@3/es5/tex-chtml.js\"></script>\n    </head>\n<body>\n<div id=\"box\" class=\"jxgbox\"></div>\n</body>\n</html>",
       "js": "JXG.Options.text.useMathJax = true;\nvar board = JXG.JSXGraph.initBoard('box', {boundingbox: [-6, 6, 6, -6], axis: true, grid: true, showCopyright: false});\nvar a_sx = board.create('slider', [[-4,-5], [-2,-5], [-4, 2 ,4]], {name:'x', snapWidth: 0.01});\nvar a_sy = board.create('slider', [[1,-5], [3,-5], [-4, 3 ,4]], {name:'y', snapWidth: 0.01});\nvar a = board.create('point', [()=>a_sx.Value(),()=>a_sy.Value()], {name:function(){return 'D('+a_sx.Value().toFixed(2)+','+a_sy.Value().toFixed(2)+')';}});\nvar o = board.create('point', [0,0], {name:''});\no.setAttribute({fixed: true, visible: false});\nvar b = board.create('point', [()=>a.X(), 0], {name:'', visible: false});\nvar b2 = board.create('point', [1,0], {name:'', visible: false});\nb2.setAttribute({fixed: true});\nboard.create('text', [-0.2,-0.15,'O'], {fixed: true})\nvar angle = board.create('sector', [o, b2, a], {\n    name: '\\\\(\\\\theta\\\\)',\n    withLabel: {\n        fontSize: 16\n    },\n    fillColor: 'yellow',\n    highlightFillColor: 'yellow',\n    strokeWidth: 0,\n    arc: {\n        visible: true,\n        strokeColor: 'black',\n        strokeWidth: 2,\n        lastArrow: {\n            size: 6\n        }\n    }\n});\nvar angleInv = board.create('angle', [b, o, a], {visible: false})\nvar l1 = board.create('line', [o, a], {straightFirst: false, straightLast: false});\nvar l2 = board.create('line', [o, a], {dash: 3});\nvar l3 = board.create('line', [o, b], {dash: 3});\nvar l4 = board.create('line', [a, b], {dash: 3});\n\nfunction radToDeg(radians) {\n  var pi = Math.PI;\n  return radians * (180/pi);\n}\n\nfunction degHelper(angle, pt) {\n    deg = angle.Value() * (180/Math.PI);\n    if (pt.X()>=0 && pt.Y()>=0){return deg}\n    if (pt.X()<=0 && pt.Y()>=0){return deg-180}\n    if (pt.X()<=0 && pt.Y()<=0){return deg+180}\n    if (pt.X()>=0 && pt.Y()<=0){return deg}\n}\n\nboard.create('text', [-2.3, 2.3, function () {\n    return '\\\\(\\\\theta = ' + degHelper(angleInv, a).toFixed(1) + '^{\\\\circ}\\\\)';\n}],{highlight:false,fixed:true});",
       "layout": "IPY_MODEL_2d05e4b525e5494f8d087b79f84fe891"
      }
     },
     "251ec092c24d462284a9207968eeef32": {
      "model_module": "jupyter-divewidgets",
      "model_module_version": "^0.1.5",
      "model_name": "JSWidgetModel",
      "state": {
       "_model_module_version": "^0.1.5",
       "_view_module_version": "^0.1.5",
       "html": "<!DOCTYPE html>\n<html>\n    <head>\n    <style>\n    html, body {\n        height: 100%;\n    }\n    body {\n        width: 100%;\n        display: flex;\n        padding: 0;\n        margin: 0;\n    }\n    .jxgbox {\n        width:100%; \n        flex-grow: 1;\n    }\n    </style>\n    <link rel=\"stylesheet\" type=\"text/css\" href=\"https://jsxgraph.org/distrib/jsxgraph.css\" />\n    <script type=\"text/javascript\" src=\"https://cdn.jsdelivr.net/npm/jsxgraph/distrib/jsxgraphcore.js\"></script>\n    <script type=\"text/javascript\" src=\"https://cdn.jsdelivr.net/npm/mathjax@3/es5/tex-chtml.js\"></script>\n    </head>\n<body>\n<div id=\"box\" class=\"jxgbox\"></div>\n</body>\n</html>",
       "js": "JXG.Options.text.useMathJax = true;\nvar board = JXG.JSXGraph.initBoard('box', {boundingbox: [-6, 6, 6, -6], axis: true, grid: true, showCopyright: false});\nvar a_sx = board.create('slider', [[-4,-5], [-2,-5], [-4, 2 ,4]], {name:'x', snapWidth: 0.01});\nvar a_sy = board.create('slider', [[1,-5], [3,-5], [-4, 3 ,4]], {name:'y', snapWidth: 0.01});\nvar a = board.create('point', [()=>a_sx.Value(),()=>a_sy.Value()], {name:function(){return 'D('+a_sx.Value().toFixed(2)+','+a_sy.Value().toFixed(2)+')';}});\nvar o = board.create('point', [0,0], {name:''});\no.setAttribute({fixed: true, visible: false});\nvar b = board.create('point', [()=>a.X(), 0], {name:'', visible: false});\nvar b2 = board.create('point', [1,0], {name:'', visible: false});\nb2.setAttribute({fixed: true});\nboard.create('text', [-0.2,-0.15,'O'], {fixed: true})\nvar angle = board.create('sector', [o, b2, a], {\n    name: '\\\\(\\\\theta\\\\)',\n    withLabel: {\n        fontSize: 16\n    },\n    fillColor: 'yellow',\n    highlightFillColor: 'yellow',\n    strokeWidth: 0,\n    arc: {\n        visible: true,\n        strokeColor: 'black',\n        strokeWidth: 2,\n        lastArrow: {\n            size: 6\n        }\n    }\n});\nvar angleInv = board.create('angle', [b, o, a], {visible: false})\nvar l1 = board.create('line', [o, a], {straightFirst: false, straightLast: false});\nvar l2 = board.create('line', [o, a], {dash: 3});\nvar l3 = board.create('line', [o, b], {dash: 3});\nvar l4 = board.create('line', [a, b], {dash: 3});\n\nfunction radToDeg(radians) {\n  var pi = Math.PI;\n  return radians * (180/pi);\n}\n\nfunction degHelper(angle, pt) {\n    deg = angle.Value() * (180/Math.PI);\n    if (pt.X()>=0 && pt.Y()>=0){return deg}\n    if (pt.X()<=0 && pt.Y()>=0){return deg-180}\n    if (pt.X()<=0 && pt.Y()<=0){return deg+180}\n    if (pt.X()>=0 && pt.Y()<=0){return deg}\n}\n\nboard.create('text', [-2.3, 2.3, function () {\n    return '<p>θ = ' + degHelper(angleInv, a).toFixed(1) + '&deg;</p>';\n}],{highlight:false,fixed:true});",
       "layout": "IPY_MODEL_d70f1752729b4b649a60f3a0ca8a7178"
      }
     },
     "26b4ab10ea3e42209a3d7cad2ab6fc30": {
      "model_module": "@jupyter-widgets/base",
      "model_module_version": "1.2.0",
      "model_name": "LayoutModel",
      "state": {}
     },
     "284e4c71ef074e2fa8ba238ea024766f": {
      "model_module": "jupyter-divewidgets",
      "model_module_version": "^0.1.5",
      "model_name": "JSWidgetModel",
      "state": {
       "_model_module_version": "^0.1.5",
       "_view_module_version": "^0.1.5",
       "html": "<!DOCTYPE html>\n<html>\n    <head>\n    <style>\n    html, body {\n        height: 100%;\n    }\n    body {\n        width: 100%;\n        display: flex;\n        padding: 0;\n        margin: 0;\n    }\n    .jxgbox {\n        width:100%; \n        flex-grow: 1;\n    }\n    </style>\n    <link rel=\"stylesheet\" type=\"text/css\" href=\"https://jsxgraph.org/distrib/jsxgraph.css\" />\n    <script type=\"text/javascript\" src=\"https://cdn.jsdelivr.net/npm/jsxgraph/distrib/jsxgraphcore.js\"></script>\n    <script type=\"text/javascript\" src=\"https://cdn.jsdelivr.net/npm/mathjax@3/es5/tex-chtml.js\"></script>\n    </head>\n<body>\n<div id=\"box\" class=\"jxgbox\"></div>\n</body>\n</html>",
       "js": "JXG.JSXGraph.useMathJax = True;\nvar board = JXG.JSXGraph.initBoard('box', {boundingbox: [-6, 6, 6, -6], axis: true, grid: true, showCopyright: false});\nvar a_sx = board.create('slider', [[-4,-5], [-2,-5], [-4, 2 ,4]], {name:'x', snapWidth: 0.01});\nvar a_sy = board.create('slider', [[1,-5], [3,-5], [-4, 3 ,4]], {name:'y', snapWidth: 0.01});\nvar a = board.create('point', [()=>a_sx.Value(),()=>a_sy.Value()], {name:function(){return 'D('+a_sx.Value().toFixed(2)+','+a_sy.Value().toFixed(2)+')';}});\nvar o = board.create('point', [0,0], {name:''});\no.setAttribute({fixed: true, visible: false});\nvar b = board.create('point', [()=>a.X(), 0], {name:'', visible: false});\nvar b2 = board.create('point', [1,0], {name:'', visible: false});\nb2.setAttribute({fixed: true});\nboard.create('text', [-0.2,-0.15,'O'], {fixed: true})\nvar angle = board.create('sector', [o, b2, a], {\n    name: '\\\\(\\\\theta\\\\)',\n    withLabel: {\n        fontSize: 16\n    },\n    fillColor: 'yellow',\n    highlightFillColor: 'yellow',\n    strokeWidth: 0,\n    arc: {\n        visible: true,\n        strokeColor: 'black',\n        strokeWidth: 2,\n        lastArrow: {\n            size: 6\n        }\n    }\n});\nvar angleInv = board.create('angle', [b, o, a], {visible: false})\nvar l1 = board.create('line', [o, a], {straightFirst: false, straightLast: false});\nvar l2 = board.create('line', [o, a], {dash: 3});\nvar l3 = board.create('line', [o, b], {dash: 3});\nvar l4 = board.create('line', [a, b], {dash: 3});\n\nfunction radToDeg(radians) {\n  var pi = Math.PI;\n  return radians * (180/pi);\n}\n\nfunction degHelper(angle, pt) {\n    deg = angle.Value() * (180/Math.PI);\n    if (pt.X()>=0 && pt.Y()>=0){return deg}\n    if (pt.X()<=0 && pt.Y()>=0){return deg-180}\n    if (pt.X()<=0 && pt.Y()<=0){return deg+180}\n    if (pt.X()>=0 && pt.Y()<=0){return deg}\n}\n\nboard.create('text', [-2.3, 2.3, function () {\n    return '<p>θ = ' + degHelper(angleInv, a).toFixed(1) + '&deg;</p>';\n}],{highlight:false,fixed:true});",
       "layout": "IPY_MODEL_a69de39a131c438593e15b4f8bcfc896"
      }
     },
     "2bf61235640c49a6866c32cb0631fc48": {
      "model_module": "jupyter-divewidgets",
      "model_module_version": "^0.1.5",
      "model_name": "JSWidgetModel",
      "state": {
       "_model_module_version": "^0.1.5",
       "_view_module_version": "^0.1.5",
       "html": "<!DOCTYPE html>\n<html>\n    <head>\n    <style>\n    html, body {\n        height: 100%;\n    }\n    body {\n        width: 100%;\n        display: flex;\n        padding: 0;\n        margin: 0;\n    }\n    .jxgbox {\n        width:100%; \n        flex-grow: 1;\n    }\n    </style>\n    <link rel=\"stylesheet\" type=\"text/css\" href=\"https://jsxgraph.org/distrib/jsxgraph.css\" />\n    <script type=\"text/javascript\" src=\"https://cdn.jsdelivr.net/npm/jsxgraph/distrib/jsxgraphcore.js\"></script>\n    <script type=\"text/javascript\" src=\"https://cdn.jsdelivr.net/npm/mathjax@3/es5/tex-chtml.js\"></script>\n    </head>\n<body>\n<div id=\"box\" class=\"jxgbox\"></div>\n</body>\n</html>",
       "js": "JXG.Options.text.useMathJax = true;\nvar board = JXG.JSXGraph.initBoard('box', {boundingbox: [-6, 6, 6, -6], axis: true, grid: true, showCopyright: false});\nvar a_sx = board.create('slider', [[-4,-5], [-2,-5], [-4, 2 ,4]], {name:'x', snapWidth: 0.01});\nvar a_sy = board.create('slider', [[1,-5], [3,-5], [-4, 3 ,4]], {name:'y', snapWidth: 0.01});\nvar a = board.create('point', [()=>a_sx.Value(),()=>a_sy.Value()], {name:function(){return 'D('+a_sx.Value().toFixed(2)+','+a_sy.Value().toFixed(2)+')';}});\nvar o = board.create('point', [0,0], {name:''});\no.setAttribute({fixed: true, visible: false});\nvar b = board.create('point', [()=>a.X(), 0], {name:'', visible: false});\nvar b2 = board.create('point', [1,0], {name:'', visible: false});\nb2.setAttribute({fixed: true});\nboard.create('text', [-0.2,-0.15,'O'], {fixed: true})\nvar angle = board.create('sector', [o, b2, a], {\n    name: '\\\\(\\\\theta\\\\)',\n    withLabel: {\n        fontSize: 16\n    },\n    fillColor: 'yellow',\n    highlightFillColor: 'yellow',\n    strokeWidth: 0,\n    arc: {\n        visible: true,\n        strokeColor: 'black',\n        strokeWidth: 2,\n        lastArrow: {\n            size: 6\n        }\n    }\n});\nvar angleInv = board.create('angle', [b, o, a], {visible: false})\nvar l1 = board.create('line', [o, a], {straightFirst: false, straightLast: false});\nvar l2 = board.create('line', [o, a], {dash: 3});\nvar l3 = board.create('line', [o, b], {dash: 3});\nvar l4 = board.create('line', [a, b], {dash: 3});\n\nfunction radToDeg(radians) {\n  var pi = Math.PI;\n  return radians * (180/pi);\n}\n\nfunction degHelper(angle, pt) {\n    deg = angle.Value() * (180/Math.PI);\n    if (pt.X()>=0 && pt.Y()>=0){return deg}\n    if (pt.X()<=0 && pt.Y()>=0){return deg-180}\n    if (pt.X()<=0 && pt.Y()<=0){return deg+180}\n    if (pt.X()>=0 && pt.Y()<=0){return deg}\n}\n\nboard.create('text', [-2.3, 2.3, function () {\n    return '\\\\(\\\\theta = ' + degHelper(angleInv, a).toFixed(1) + '^{\\\\circ}\\\\)';\n}],{highlight:false,fixed:true});",
       "layout": "IPY_MODEL_45f0c0954f664036a4aaec67e2d479b5"
      }
     },
     "2c8cb657ef204246bc01561cbe94394b": {
      "model_module": "jupyter-divewidgets",
      "model_module_version": "^0.1.5",
      "model_name": "JSWidgetModel",
      "state": {
       "_model_module_version": "^0.1.5",
       "_view_module_version": "^0.1.5",
       "html": "<!DOCTYPE html>\n<html>\n    <head>\n    <style>\n    html, body {\n        height: 100%;\n    }\n    body {\n        width: 100%;\n        display: flex;\n        padding: 0;\n        margin: 0;\n    }\n    .jxgbox {\n        width:100%; \n        flex-grow: 1;\n    }\n    </style>\n    <link rel=\"stylesheet\" type=\"text/css\" href=\"https://jsxgraph.org/distrib/jsxgraph.css\" />\n    <script type=\"text/javascript\" src=\"https://cdn.jsdelivr.net/npm/jsxgraph/distrib/jsxgraphcore.js\"></script>\n    <script type=\"text/javascript\" src=\"https://cdn.jsdelivr.net/npm/mathjax@3/es5/tex-chtml.js\"></script>\n    </head>\n<body>\n<div id=\"box\" class=\"jxgbox\"></div>\n</body>\n</html>",
       "js": "JXG.Options.text.useMathJax = true;\nvar board = JXG.JSXGraph.initBoard('box', {boundingbox: [-6, 6, 6, -6], axis: true, grid: true, showCopyright: false});\nvar a_sx = board.create('slider', [[-4,-5], [-2,-5], [-4, 2 ,4]], {name:'x', snapWidth: 0.01});\nvar a_sy = board.create('slider', [[1,-5], [3,-5], [-4, 3 ,4]], {name:'y', snapWidth: 0.01});\nvar a = board.create('point', [()=>a_sx.Value(),()=>a_sy.Value()], {name:function(){return 'D('+a_sx.Value().toFixed(2)+','+a_sy.Value().toFixed(2)+')';}});\nvar o = board.create('point', [0,0], {name:''});\no.setAttribute({fixed: true, visible: false});\nvar b = board.create('point', [()=>a.X(), 0], {name:'', visible: false});\nvar b2 = board.create('point', [1,0], {name:'', visible: false});\nb2.setAttribute({fixed: true});\nboard.create('text', [-0.2,-0.15,'O'], {fixed: true})\nvar angle = board.create('sector', [o, b2, a], {\n    name: '\\\\(\\\\theta\\\\)',\n    withLabel: {\n        fontSize: 16\n    },\n    fillColor: 'yellow',\n    highlightFillColor: 'yellow',\n    strokeWidth: 0,\n    arc: {\n        visible: true,\n        strokeColor: 'black',\n        strokeWidth: 2,\n        lastArrow: {\n            size: 6\n        }\n    }\n});\nvar angleInv = board.create('angle', [b, o, a], {visible: false})\nvar l1 = board.create('line', [o, a], {straightFirst: false, straightLast: false});\nvar l2 = board.create('line', [o, a], {dash: 3});\nvar l3 = board.create('line', [o, b], {dash: 3});\nvar l4 = board.create('line', [a, b], {dash: 3});\n\nfunction radToDeg(radians) {\n  var pi = Math.PI;\n  return radians * (180/pi);\n}\n\nfunction degHelper(angle, pt) {\n    deg = angle.Value() * (180/Math.PI);\n    if (pt.X()>=0 && pt.Y()>=0){return deg}\n    if (pt.X()<=0 && pt.Y()>=0){return deg-180}\n    if (pt.X()<=0 && pt.Y()<=0){return deg+180}\n    if (pt.X()>=0 && pt.Y()<=0){return deg}\n}\n\nboard.create('text', [-2.3, 2.3, function () {\n    return '\\\\(\\\\theta\\\\) = ' + degHelper(angleInv, a).toFixed(1) + '&deg;';\n}],{highlight:false,fixed:true});",
       "layout": "IPY_MODEL_5cbf2e8e2dad42d0becddcbbc084e89d"
      }
     },
     "2d05e4b525e5494f8d087b79f84fe891": {
      "model_module": "@jupyter-widgets/base",
      "model_module_version": "1.2.0",
      "model_name": "LayoutModel",
      "state": {}
     },
     "30d2b3590f7249fbaa46127c3af51a80": {
      "model_module": "jupyter-divewidgets",
      "model_module_version": "^0.1.5",
      "model_name": "JSWidgetModel",
      "state": {
       "_model_module_version": "^0.1.5",
       "_view_module_version": "^0.1.5",
       "html": "<!DOCTYPE html>\n<html>\n    <head>\n    <style>\n    html, body {\n        height: 100%;\n    }\n    body {\n        width: 100%;\n        display: flex;\n        padding: 0;\n        margin: 0;\n    }\n    .jxgbox {\n        width:100%; \n        flex-grow: 1;\n    }\n    </style>\n    <link rel=\"stylesheet\" type=\"text/css\" href=\"https://jsxgraph.org/distrib/jsxgraph.css\" />\n    <script type=\"text/javascript\" src=\"https://cdn.jsdelivr.net/npm/jsxgraph/distrib/jsxgraphcore.js\"></script>\n    <script type=\"text/javascript\" src=\"https://cdn.jsdelivr.net/npm/mathjax@3/es5/tex-chtml.js\"></script>\n    </head>\n<body>\n<div id=\"box\" class=\"jxgbox\"></div>\n</body>\n</html>",
       "js": "var board = JXG.JSXGraph.initBoard('box', {boundingbox: [-6, 6, 6, -6], axis: true, grid: true, showCopyright: false});\nvar a_sx = board.create('slider', [[-4,-5], [-2,-5], [-4, 2 ,4]], {name:'x', snapWidth: 0.01});\nvar a_sy = board.create('slider', [[1,-5], [3,-5], [-4, 3 ,4]], {name:'y', snapWidth: 0.01});\nvar a = board.create('point', [()=>a_sx.Value(),()=>a_sy.Value()], {name:function(){return 'D('+a_sx.Value().toFixed(2)+','+a_sy.Value().toFixed(2)+')';}});\nvar o = board.create('point', [0,0], {name:''});\no.setAttribute({fixed: true, visible: false});\nvar b = board.create('point', [()=>a.X(), 0], {name:'', visible: false});\nvar b2 = board.create('point', [1,0], {name:'', visible: false});\nb2.setAttribute({fixed: true});\nboard.create('text', [-0.2,-0.15,'O'], {fixed: true})\nvar angle = board.create('sector', [o, b2, a], {\n    name: '\\\\theta',\n    withLabel: {\n        fontSize: 16\n    },\n    fillColor: 'yellow',\n    highlightFillColor: 'yellow',\n    strokeWidth: 0,\n    arc: {\n        visible: true,\n        strokeColor: 'black',\n        strokeWidth: 2,\n        lastArrow: {\n            size: 6\n        },\n    useMathJax: true\n    }\n});\nvar angleInv = board.create('angle', [b, o, a], {visible: false})\nvar l1 = board.create('line', [o, a], {straightFirst: false, straightLast: false});\nvar l2 = board.create('line', [o, a], {dash: 3});\nvar l3 = board.create('line', [o, b], {dash: 3});\nvar l4 = board.create('line', [a, b], {dash: 3});\n\nfunction radToDeg(radians) {\n  var pi = Math.PI;\n  return radians * (180/pi);\n}\n\nfunction degHelper(angle, pt) {\n    deg = angle.Value() * (180/Math.PI);\n    if (pt.X()>=0 && pt.Y()>=0){return deg}\n    if (pt.X()<=0 && pt.Y()>=0){return deg-180}\n    if (pt.X()<=0 && pt.Y()<=0){return deg+180}\n    if (pt.X()>=0 && pt.Y()<=0){return deg}\n}\n\nboard.create('text', [-2.3, 2.3, function () {\n    return '<p>θ = ' + degHelper(angleInv, a).toFixed(1) + '&deg;</p>';\n}],{highlight:false,fixed:true});",
       "layout": "IPY_MODEL_35a76d049abd41cd85f493eadf977c1d"
      }
     },
     "32abca370e5442e28a61ef6fbe01d6a7": {
      "model_module": "jupyter-divewidgets",
      "model_module_version": "^0.1.5",
      "model_name": "JSWidgetModel",
      "state": {
       "_model_module_version": "^0.1.5",
       "_view_module_version": "^0.1.5",
       "html": "<!DOCTYPE html>\n<html>\n    <head>\n    <style>\n    html, body {\n        height: 100%;\n    }\n    body {\n        width: 100%;\n        display: flex;\n        padding: 0;\n        margin: 0;\n    }\n    .jxgbox {\n        width:100%; \n        flex-grow: 1;\n    }\n    </style>\n    <link rel=\"stylesheet\" type=\"text/css\" href=\"https://jsxgraph.org/distrib/jsxgraph.css\" />\n    <script type=\"text/javascript\" src=\"https://cdn.jsdelivr.net/npm/jsxgraph/distrib/jsxgraphcore.js\"></script>\n    <script type=\"text/javascript\" src=\"https://cdn.jsdelivr.net/npm/mathjax@3/es5/tex-chtml.js\"></script>\n    </head>\n<body>\n<div id=\"box\" class=\"jxgbox\"></div>\n</body>\n</html>",
       "js": "JXG.Options.text.useMathJax = true;\nvar board = JXG.JSXGraph.initBoard('box', {boundingbox: [-6, 6, 6, -6], axis: true, grid: true, showCopyright: false});\nvar a_sx = board.create('slider', [[-4,-5], [-2,-5], [-4, 2 ,4]], {name:'x', snapWidth: 0.01});\nvar a_sy = board.create('slider', [[1,-5], [3,-5], [-4, 3 ,4]], {name:'y', snapWidth: 0.01});\nvar a = board.create('point', [()=>a_sx.Value(),()=>a_sy.Value()], {name:function(){return 'D('+a_sx.Value().toFixed(2)+','+a_sy.Value().toFixed(2)+')';}});\nvar o = board.create('point', [0,0], {name:''});\no.setAttribute({fixed: true, visible: false});\nvar b = board.create('point', [()=>a.X(), 0], {name:'', visible: false});\nvar b2 = board.create('point', [1,0], {name:'', visible: false});\nb2.setAttribute({fixed: true});\nboard.create('text', [-0.2,-0.15,'O'], {fixed: true})\nvar angle = board.create('sector', [o, b2, a], {\n    name: '\\(\\\\theta\\\\)',\n    withLabel: {\n        fontSize: 16\n    },\n    fillColor: 'yellow',\n    highlightFillColor: 'yellow',\n    strokeWidth: 0,\n    arc: {\n        visible: true,\n        strokeColor: 'black',\n        strokeWidth: 2,\n        lastArrow: {\n            size: 6\n        }\n    }\n});\nvar angleInv = board.create('angle', [b, o, a], {visible: false})\nvar l1 = board.create('line', [o, a], {straightFirst: false, straightLast: false});\nvar l2 = board.create('line', [o, a], {dash: 3});\nvar l3 = board.create('line', [o, b], {dash: 3});\nvar l4 = board.create('line', [a, b], {dash: 3});\n\nfunction radToDeg(radians) {\n  var pi = Math.PI;\n  return radians * (180/pi);\n}\n\nfunction degHelper(angle, pt) {\n    deg = angle.Value() * (180/Math.PI);\n    if (pt.X()>=0 && pt.Y()>=0){return deg}\n    if (pt.X()<=0 && pt.Y()>=0){return deg-180}\n    if (pt.X()<=0 && pt.Y()<=0){return deg+180}\n    if (pt.X()>=0 && pt.Y()<=0){return deg}\n}\n\nboard.create('text', [-2.3, 2.3, function () {\n    return '<p>θ = ' + degHelper(angleInv, a).toFixed(1) + '&deg;</p>';\n}],{highlight:false,fixed:true});",
       "layout": "IPY_MODEL_9a6eac41c29243a790de284fa35eb7b3"
      }
     },
     "35a76d049abd41cd85f493eadf977c1d": {
      "model_module": "@jupyter-widgets/base",
      "model_module_version": "1.2.0",
      "model_name": "LayoutModel",
      "state": {}
     },
     "35cf5249e0d04a99b662b3249989247f": {
      "model_module": "@jupyter-widgets/base",
      "model_module_version": "1.2.0",
      "model_name": "LayoutModel",
      "state": {}
     },
     "35f9b890e0a54326ad7248ede48c5915": {
      "model_module": "jupyter-divewidgets",
      "model_module_version": "^0.1.5",
      "model_name": "JSWidgetModel",
      "state": {
       "_model_module_version": "^0.1.5",
       "_view_module_version": "^0.1.5",
       "html": "<!DOCTYPE html>\n<html>\n    <head>\n    <style>\n    html, body {\n        height: 100%;\n    }\n    body {\n        width: 100%;\n        display: flex;\n        padding: 0;\n        margin: 0;\n    }\n    .jxgbox {\n        width:100%; \n        flex-grow: 1;\n    }\n    </style>\n    <link rel=\"stylesheet\" type=\"text/css\" href=\"https://jsxgraph.org/distrib/jsxgraph.css\" />\n    <script type=\"text/javascript\" src=\"https://cdn.jsdelivr.net/npm/jsxgraph/distrib/jsxgraphcore.js\"></script>\n    <script type=\"text/javascript\" src=\"https://cdn.jsdelivr.net/npm/mathjax@3/es5/tex-chtml.js\"></script>\n    </head>\n<body>\n<div id=\"box\" class=\"jxgbox\"></div>\n</body>\n</html>",
       "js": "JXG.Options.text.useMathJax = true;\nvar board = JXG.JSXGraph.initBoard('box', {boundingbox: [-6, 6, 6, -6], axis: true, grid: true, showCopyright: false});\nvar a_sx = board.create('slider', [[-4,-5], [-2,-5], [-4, 2 ,4]], {name:'x', snapWidth: 0.01});\nvar a_sy = board.create('slider', [[1,-5], [3,-5], [-4, -3 ,4]], {name:'y', snapWidth: 0.01});\nvar a = board.create('point', [()=>a_sx.Value(),()=>a_sy.Value()], {name:function(){return 'D('+a_sx.Value().toFixed(2)+','+a_sy.Value().toFixed(2)+')';}});\nvar o = board.create('point', [0,0], {name:''});\no.setAttribute({fixed: true, visible: false});\nvar b = board.create('point', [()=>a.X(), 0], {name:'', visible: false});\nvar b2 = board.create('point', [1,0], {name:'', visible: false});\nb2.setAttribute({fixed: true});\nboard.create('text', [-0.2,-0.15,'O'], {fixed: true})\nvar a_n = board.create('point', [()=>(a.X())/Math.sqrt((a.X()**2)+(a.Y()**2)),()=>(a.Y())/Math.sqrt((a.X()**2)+(a.Y()**2))], {visible: false});\nvar angle = board.create('sector', [o, a_n, b2], {\n    name: '\\\\(\\\\theta\\\\)',\n    withLabel: {\n        fontSize: 16\n    },\n    fillColor: 'yellow',\n    highlightFillColor: 'yellow',\n    strokeWidth: 0,\n    arc: {\n        visible: true,\n        strokeColor: 'black',\n        strokeWidth: 2,\n        firstArrow: {\n            size: 6\n        }\n    }\n});\nvar angleInv = board.create('angle', [a_n, o, b2], {visible: false})\nvar l1 = board.create('line', [o, a], {straightFirst: false, straightLast: false});\nvar l2 = board.create('line', [o, a], {dash: 3});\nvar l3 = board.create('line', [o, b], {dash: 3});\nvar l4 = board.create('line', [a, b], {dash: 3});\n\nfunction radToDeg(radians) {\n  var pi = Math.PI;\n  return radians * (180/pi);\n}\n\nfunction degHelper(angle, pt) {\n    deg = angle.Value() * (180/Math.PI);\n    return -(deg)\n}\n\nboard.create('text', [-2.3, 2.3, function () {\n    return '\\\\(\\\\theta = ' + degHelper(angleInv, a).toFixed(1) + '^{\\circ}\\\\)';\n}],{highlight:false,fixed:true});",
       "layout": "IPY_MODEL_faf73c4bfa5340c193538a55d6ba5b5a"
      }
     },
     "365ab04ded824351aacb058ce226cb34": {
      "model_module": "@jupyter-widgets/base",
      "model_module_version": "1.2.0",
      "model_name": "LayoutModel",
      "state": {}
     },
     "3b1bd7efb46647d6a10ac0b9c71015f5": {
      "model_module": "jupyter-divewidgets",
      "model_module_version": "^0.1.5",
      "model_name": "JSWidgetModel",
      "state": {
       "_model_module_version": "^0.1.5",
       "_view_module_version": "^0.1.5",
       "html": "<!DOCTYPE html>\n<html>\n    <head>\n    <style>\n    html, body {\n        height: 100%;\n    }\n    body {\n        width: 100%;\n        display: flex;\n        padding: 0;\n        margin: 0;\n    }\n    .jxgbox {\n        width:100%; \n        flex-grow: 1;\n    }\n    </style>\n    <link rel=\"stylesheet\" type=\"text/css\" href=\"https://jsxgraph.org/distrib/jsxgraph.css\" />\n    <script type=\"text/javascript\" src=\"https://cdn.jsdelivr.net/npm/jsxgraph/distrib/jsxgraphcore.js\"></script>\n    <script type=\"text/javascript\" src=\"https://cdn.jsdelivr.net/npm/mathjax@3/es5/tex-chtml.js\"></script>\n    </head>\n<body>\n<div id=\"box\" class=\"jxgbox\"></div>\n</body>\n</html>",
       "js": "JXG.Options.text.useMathJax = true;\nfunction degToRad(degrees) {\n  var pi = Math.PI;\n  if (degrees%180 ==0){\n      return (degrees/180)*pi\n  }\n  return degrees * (pi/180);\n}\nvar board = JXG.JSXGraph.initBoard('box', {boundingbox: [-100, 4, 900, -4], axis: true, grid: true, showCopyright: false});\nvar s = board.create('slider', [[100,3], [500,3], [0,0,900]], {name: 'x', snapWidth: 10});\nvar graph = board.create('functiongraph', [function(x){return Math.tan(degToRad(x))}, 0, ()=>s.Value()]);\nvar pt = board.create('point', [()=>s.Value(), ()=>Math.tan(degToRad(s.Value()))], {name: ()=>'('+s.Value()+','+Math.tan(degToRad(s.Value())).toFixed(2)+')'});\nvar l = board.create('line', [[()=>s.Value(),1], [()=>s.Value(),0]], {dash: 3});\nboard.create('text', [100,2,function(){return 'tan ' + s.Value() + '&#176; = ' + Math.tan(degToRad(s.Value())).toFixed(4) + ' (4d.p.)'}]);\nboard.create('text', [-20,-0.15,'O'], {fixed: true})\nvar ptzero = [];\nvar nzero = 0;\nfor (var i=0; i<=900; i++){\n    if (Math.abs(Math.tan(degToRad(i))) < 1e-10){\n        ptzero[nzero] = board.create('point', [i, 0],  {name: '('+i+'&#176;,0)', fixed: true, visible: false, label:{offset:[5, 20]}});\n        nzero++;\n    }\n}\n\nvar zeroShown = false;\nshowZero = function(){\n    zeroShown = !zeroShown;\n    ptzero.forEach(o => o.setAttribute({visible: zeroShown}));\n}\nboard.create('text', [100,-2, '<input type=\"checkbox\" id=\"showMinMax\" onChange=\"showMinMax()\" disabled/>  Show min/max (min/mix value for y=tan(x) is undefined)'], {fixed: true});\nboard.create('text', [100,-3, '<input type=\"checkbox\" id=\"showZero\" onChange=\"showZero()\" />  Show points where y=0'], {fixed: true});",
       "layout": "IPY_MODEL_26b4ab10ea3e42209a3d7cad2ab6fc30"
      }
     },
     "401bbb5365914cd1a325b92f1e8bd3bb": {
      "model_module": "jupyter-divewidgets",
      "model_module_version": "^0.1.5",
      "model_name": "JSWidgetModel",
      "state": {
       "_model_module_version": "^0.1.5",
       "_view_module_version": "^0.1.5",
       "html": "<!DOCTYPE html>\n<html>\n    <head>\n    <style>\n    html, body {\n        height: 100%;\n    }\n    body {\n        width: 100%;\n        display: flex;\n        padding: 0;\n        margin: 0;\n    }\n    .jxgbox {\n        width:100%; \n        flex-grow: 1;\n    }\n    </style>\n    <link rel=\"stylesheet\" type=\"text/css\" href=\"https://jsxgraph.org/distrib/jsxgraph.css\" />\n    <script type=\"text/javascript\" src=\"https://cdn.jsdelivr.net/npm/jsxgraph/distrib/jsxgraphcore.js\"></script>\n    <script type=\"text/javascript\" src=\"https://cdn.jsdelivr.net/npm/mathjax@3/es5/tex-chtml.js\"></script>\n    </head>\n<body>\n<div id=\"box\" class=\"jxgbox\"></div>\n</body>\n</html>",
       "js": "var board = JXG.JSXGraph.initBoard('box', {boundingbox: [-6, 6, 6, -6], axis: true, grid: true, showCopyright: false});\nvar a_sx = board.create('slider', [[-4,-5], [-2,-5], [-4, 2 ,4]], {name:'x', snapWidth: 0.01});\nvar a_sy = board.create('slider', [[1,-5], [3,-5], [-4, 3 ,4]], {name:'y', snapWidth: 0.01});\nvar a = board.create('point', [()=>a_sx.Value(),()=>a_sy.Value()], {name:function(){return 'D('+a_sx.Value().toFixed(2)+','+a_sy.Value().toFixed(2)+')';}});\nvar o = board.create('point', [0,0], {name:''});\no.setAttribute({fixed: true, visible: false});\nvar b = board.create('point', [()=>a.X(), 0], {name:'', visible: false});\nvar b2 = board.create('point', [1,0], {name:'', visible: false});\nb2.setAttribute({fixed: true});\nboard.create('text', [-0.2,-0.15,'O'], {fixed: true})\nvar angle = board.create('sector', [o, b2, a], {\n    name: '\\(\\\\theta\\)',\n    withLabel: {\n        fontSize: 16\n    },\n    fillColor: 'yellow',\n    highlightFillColor: 'yellow',\n    strokeWidth: 0,\n    arc: {\n        visible: true,\n        strokeColor: 'black',\n        strokeWidth: 2,\n        lastArrow: {\n            size: 6\n        },\n    useMathJax: true\n    }\n});\nvar angleInv = board.create('angle', [b, o, a], {visible: false})\nvar l1 = board.create('line', [o, a], {straightFirst: false, straightLast: false});\nvar l2 = board.create('line', [o, a], {dash: 3});\nvar l3 = board.create('line', [o, b], {dash: 3});\nvar l4 = board.create('line', [a, b], {dash: 3});\n\nfunction radToDeg(radians) {\n  var pi = Math.PI;\n  return radians * (180/pi);\n}\n\nfunction degHelper(angle, pt) {\n    deg = angle.Value() * (180/Math.PI);\n    if (pt.X()>=0 && pt.Y()>=0){return deg}\n    if (pt.X()<=0 && pt.Y()>=0){return deg-180}\n    if (pt.X()<=0 && pt.Y()<=0){return deg+180}\n    if (pt.X()>=0 && pt.Y()<=0){return deg}\n}\n\nboard.create('text', [-2.3, 2.3, function () {\n    return '<p>θ = ' + degHelper(angleInv, a).toFixed(1) + '&deg;</p>';\n}],{highlight:false,fixed:true});",
       "layout": "IPY_MODEL_35cf5249e0d04a99b662b3249989247f"
      }
     },
     "42bbad7bfd3c4f2a8fdf95edf52b7d8c": {
      "model_module": "@jupyter-widgets/base",
      "model_module_version": "1.2.0",
      "model_name": "LayoutModel",
      "state": {}
     },
     "45f0c0954f664036a4aaec67e2d479b5": {
      "model_module": "@jupyter-widgets/base",
      "model_module_version": "1.2.0",
      "model_name": "LayoutModel",
      "state": {}
     },
     "47e166d3c91f44619ab9fe9582cc6d78": {
      "model_module": "@jupyter-widgets/base",
      "model_module_version": "1.2.0",
      "model_name": "LayoutModel",
      "state": {}
     },
     "4f5e21a62b794c6aa5981f662c6c06a5": {
      "model_module": "@jupyter-widgets/base",
      "model_module_version": "1.2.0",
      "model_name": "LayoutModel",
      "state": {}
     },
     "5cbf2e8e2dad42d0becddcbbc084e89d": {
      "model_module": "@jupyter-widgets/base",
      "model_module_version": "1.2.0",
      "model_name": "LayoutModel",
      "state": {}
     },
     "5d34ced9c5854ce39593abed11de18dc": {
      "model_module": "@jupyter-widgets/base",
      "model_module_version": "1.2.0",
      "model_name": "LayoutModel",
      "state": {}
     },
     "5e6c364a0d3c47dfb9c36fa6a4c6722b": {
      "model_module": "@jupyter-widgets/base",
      "model_module_version": "1.2.0",
      "model_name": "LayoutModel",
      "state": {}
     },
     "5eaccf9366e0492da7cc10be0d31705e": {
      "model_module": "@jupyter-widgets/base",
      "model_module_version": "1.2.0",
      "model_name": "LayoutModel",
      "state": {}
     },
     "5f51a4e2b95144bca6e8dcddd6d9c3d5": {
      "model_module": "jupyter-divewidgets",
      "model_module_version": "^0.1.5",
      "model_name": "JSWidgetModel",
      "state": {
       "_model_module_version": "^0.1.5",
       "_view_module_version": "^0.1.5",
       "html": "<!DOCTYPE html>\n<html>\n    <head>\n    <style>\n    html, body {\n        height: 100%;\n    }\n    body {\n        width: 100%;\n        display: flex;\n        padding: 0;\n        margin: 0;\n    }\n    .jxgbox {\n        width:100%; \n        flex-grow: 1;\n    }\n    </style>\n    <link rel=\"stylesheet\" type=\"text/css\" href=\"https://jsxgraph.org/distrib/jsxgraph.css\" />\n    <script type=\"text/javascript\" src=\"https://cdn.jsdelivr.net/npm/jsxgraph/distrib/jsxgraphcore.js\"></script>\n    <script type=\"text/javascript\" src=\"https://cdn.jsdelivr.net/npm/mathjax@3/es5/tex-chtml.js\"></script>\n    </head>\n<body>\n<div id=\"box\" class=\"jxgbox\"></div>\n</body>\n</html>",
       "js": "JXG.Options.text.useMathJax = true;\nvar board = JXG.JSXGraph.initBoard('box', {boundingbox: [-6, 6, 6, -6], axis: true, grid: true, showCopyright: false});\nvar a_sx = board.create('slider', [[-4,-5], [-2,-5], [-4, 2 ,4]], {name:'\\\\(x\\\\)', snapWidth: 0.01});\nvar a_sy = board.create('slider', [[1,-5], [3,-5], [-4, 3 ,4]], {name:'\\\\(y\\\\)', snapWidth: 0.01});\nvar a = board.create('point', [()=>a_sx.Value(),()=>a_sy.Value()], {name:function(){return 'D('+a_sx.Value().toFixed(2)+','+a_sy.Value().toFixed(2)+')';}});\nvar o = board.create('point', [0,0], {name:''});\no.setAttribute({fixed: true, visible: false});\nvar b = board.create('point', [()=>a.X(), 0], {name:\"\\\\(D'\\\\)\"});\nvar tri = board.create('polygon', [a,o,b]);\nvar ang = board.create('nonreflexangle', [a,b,o], {name:' ', radius: 0.2});\nvar ang2 = board.create('nonreflexangle', [a,o,b], {name:'\\\\(\\\\theta\\\\)', radius: 0.4})\nboard.create('text', [-0.2,-0.15,'O'], {fixed: true})\nboard.create('text',[()=>(a.X()+o.X()+b.X())/3,()=>(a.Y()+o.X()+b.Y())/3,\"\\\\(\\triangle ODD'\\\\)\"],{anchorX:'middle', anchorY:'auto'});",
       "layout": "IPY_MODEL_d972b0738e56473889a9e6006e2ac974"
      }
     },
     "5f6bc3cddd044c4397e73a137f3327f2": {
      "model_module": "@jupyter-widgets/base",
      "model_module_version": "1.2.0",
      "model_name": "LayoutModel",
      "state": {}
     },
     "66271421d1604ffb95548faf633a8e51": {
      "model_module": "@jupyter-widgets/base",
      "model_module_version": "1.2.0",
      "model_name": "LayoutModel",
      "state": {}
     },
     "6b49588a27ff4fa1aebcc5d8c93eca6c": {
      "model_module": "jupyter-divewidgets",
      "model_module_version": "^0.1.5",
      "model_name": "JSWidgetModel",
      "state": {
       "_model_module_version": "^0.1.5",
       "_view_module_version": "^0.1.5",
       "html": "<!DOCTYPE html>\n<html>\n    <head>\n    <style>\n    html, body {\n        height: 100%;\n    }\n    body {\n        width: 100%;\n        display: flex;\n        padding: 0;\n        margin: 0;\n    }\n    .jxgbox {\n        width:100%; \n        flex-grow: 1;\n    }\n    </style>\n    <link rel=\"stylesheet\" type=\"text/css\" href=\"https://jsxgraph.org/distrib/jsxgraph.css\" />\n    <script type=\"text/javascript\" src=\"https://cdn.jsdelivr.net/npm/jsxgraph/distrib/jsxgraphcore.js\"></script>\n    <script type=\"text/javascript\" src=\"https://cdn.jsdelivr.net/npm/mathjax@3/es5/tex-chtml.js\"></script>\n    </head>\n<body>\n<div id=\"box\" class=\"jxgbox\"></div>\n</body>\n</html>",
       "js": "JXG.Options.text.useMathJax = true;\nvar board = JXG.JSXGraph.initBoard('box', {boundingbox: [-6, 6, 6, -6], axis: true, grid: true, showCopyright: false});\nvar a_sx = board.create('slider', [[-4,-5], [-2,-5], [-4, 2 ,4]], {name:'x', snapWidth: 0.01});\nvar a_sy = board.create('slider', [[1,-5], [3,-5], [-4, -3 ,4]], {name:'y', snapWidth: 0.01});\nvar a = board.create('point', [()=>a_sx.Value(),()=>a_sy.Value()], {name:function(){return 'D('+a_sx.Value().toFixed(2)+','+a_sy.Value().toFixed(2)+')';}});\nvar o = board.create('point', [0,0], {name:''});\no.setAttribute({fixed: true, visible: false});\nvar b = board.create('point', [()=>a.X(), 0], {name:'', visible: false});\nvar b2 = board.create('point', [1,0], {name:'', visible: false});\nb2.setAttribute({fixed: true});\nboard.create('text', [-0.2,-0.15,'O'], {fixed: true})\nvar a_n = board.create('point', [()=>(a.X())/Math.sqrt((a.X()**2)+(a.Y()**2)),()=>(a.Y())/Math.sqrt((a.X()**2)+(a.Y()**2))], {visible: false});\nvar angle = board.create('sector', [o, a_n, b2], {\n    name: '\\\\(\\\\theta\\\\)',\n    withLabel: {\n        fontSize: 16\n    },\n    fillColor: 'yellow',\n    highlightFillColor: 'yellow',\n    strokeWidth: 0,\n    arc: {\n        visible: true,\n        strokeColor: 'black',\n        strokeWidth: 2,\n        firstArrow: {\n            size: 6\n        }\n    }\n});\nvar angleInv = board.create('angle', [a_n, o, b2], {visible: false})\nvar l1 = board.create('line', [o, a], {straightFirst: false, straightLast: false});\nvar l2 = board.create('line', [o, a], {dash: 3});\nvar l3 = board.create('line', [o, b], {dash: 3});\nvar l4 = board.create('line', [a, b], {dash: 3});\n\nfunction radToDeg(radians) {\n  var pi = Math.PI;\n  return radians * (180/pi);\n}\n\nfunction degHelper(angle, pt) {\n    deg = angle.Value() * (180/Math.PI);\n    return -(deg)\n}\n\nboard.create('text', [-2.3, 2.3, function () {\n    return '\\\\(\\\\theta = ' + degHelper(angleInv, a).toFixed(1) + '^{\\\\circ}\\\\)';\n}],{highlight:false,fixed:true});",
       "layout": "IPY_MODEL_a880aa2c92674eb0a68159a3eb9f2e09"
      }
     },
     "70ab0ed1a19b4f2baf479df3e8964b6f": {
      "model_module": "@jupyter-widgets/base",
      "model_module_version": "1.2.0",
      "model_name": "LayoutModel",
      "state": {}
     },
     "7ba2735d3b174e9299bb684bac7ff50f": {
      "model_module": "@jupyter-widgets/base",
      "model_module_version": "1.2.0",
      "model_name": "LayoutModel",
      "state": {}
     },
     "811e65fc447a49688e6afccae17d9c38": {
      "model_module": "jupyter-divewidgets",
      "model_module_version": "^0.1.5",
      "model_name": "JSWidgetModel",
      "state": {
       "_model_module_version": "^0.1.5",
       "_view_module_version": "^0.1.5",
       "html": "<!DOCTYPE html>\n<html>\n    <head>\n    <style>\n    html, body {\n        height: 100%;\n    }\n    body {\n        width: 100%;\n        display: flex;\n        padding: 0;\n        margin: 0;\n    }\n    .jxgbox {\n        width:100%; \n        flex-grow: 1;\n    }\n    </style>\n    <link rel=\"stylesheet\" type=\"text/css\" href=\"https://jsxgraph.org/distrib/jsxgraph.css\" />\n    <script type=\"text/javascript\" src=\"https://cdn.jsdelivr.net/npm/jsxgraph/distrib/jsxgraphcore.js\"></script>\n    <script type=\"text/javascript\" src=\"https://cdn.jsdelivr.net/npm/mathjax@3/es5/tex-chtml.js\"></script>\n    </head>\n<body>\n<div id=\"box\" class=\"jxgbox\"></div>\n</body>\n</html>",
       "js": "JXG.Options.text.useMathJax = true;\nfunction degToRad(degrees) {\n  var pi = Math.PI;\n  return degrees * (pi/180);\n}\nvar board = JXG.JSXGraph.initBoard('box', {boundingbox: [-100, 12, 900, -4], axis: true, grid: true, showCopyright: false});\nvar s = board.create('slider', [[100,11], [500,11], [0,0,900]], {name: 'x', snapWidth: 10});\nvar graph = board.create('functiongraph', [function(x){return ((2*Math.sin(degToRad(x))-1)**2)}, 0, ()=>s.Value()]);\nvar pt = board.create('point', [()=>s.Value(), ()=>((2*Math.sin(degToRad(s.Value()))-1)**2)], {name: ()=>'('+s.Value()+','+((2*Math.sin(degToRad(s.Value()))-1)**2).toFixed(2)+')'});\nvar l = board.create('line', [[()=>s.Value(),1], [()=>s.Value(),0]], {dash: 3});\nboard.create('text', [100,10,function(){return '(2sin ' + s.Value() + '&#176;-1)^2 = ' + ((2*Math.sin(degToRad(s.Value()))-1)**2).toFixed(4) + ' (4d.p.)'}]);\nboard.create('text', [-20,-0.15,'O'], {fixed: true})\nvar ptmax = [];\nvar ptmin = [];\nvar nmax = 0;\nvar nmin = 0;\nfor (var i=0; i<=360; i++){\n    if (Math.sin(degToRad(i)) == -1){\n        ptmax[nmax] = board.create('point', [i, 9], {name: '('+i+'&#176;,9)', fixed: true, visible: false, label:{offset:[5, 20]}});\n        nmax++;\n    }\n    if (Math.abs(Math.sin(degToRad(i))-0.5) < Number.EPSILON){\n        ptmin[nmin] = board.create('point', [i, 0],  {name: '('+i+'&#176;,0)', fixed: true, visible: false, label:{offset:[5, -13]}});\n        nmin++;\n    }\n};\nvar lmx = board.create('line', [ptmax[0], [ptmax[0].X()+0.1,ptmax[0].Y()]], {dash: 2, visible: false});\nvar lmn = board.create('line', [ptmin[0], [ptmin[0].X()+0.1,ptmin[0].Y()]], {dash: 2, visible: false});\nvar lbnd = board.create('line', [[360, 0], [360, 1]], {dash: 1, strokeColor: '#aaaaaa', fixed: true});\n\nvar minMaxShown = false;\nshowMinMax = function(){\n    minMaxShown = !minMaxShown;\n    ptmax.forEach(o => o.setAttribute({visible: minMaxShown}));\n    ptmin.forEach(o => o.setAttribute({visible: minMaxShown}));\n    lmx.setAttribute({visible: minMaxShown});\n    lmn.setAttribute({visible: minMaxShown});\n};\n\nboard.create('text', [100,-2, '<input type=\"checkbox\" id=\"showMinMax\" onChange=\"showMinMax()\" />  Show min/max'], {fixed: true});",
       "layout": "IPY_MODEL_66271421d1604ffb95548faf633a8e51"
      }
     },
     "8200a70e37764a7d94efd41606d67520": {
      "model_module": "jupyter-divewidgets",
      "model_module_version": "^0.1.5",
      "model_name": "JSWidgetModel",
      "state": {
       "_model_module_version": "^0.1.5",
       "_view_module_version": "^0.1.5",
       "html": "<!DOCTYPE html>\n<html>\n    <head>\n    <style>\n    html, body {\n        height: 100%;\n    }\n    body {\n        width: 100%;\n        display: flex;\n        padding: 0;\n        margin: 0;\n    }\n    .jxgbox {\n        width:100%; \n        flex-grow: 1;\n    }\n    </style>\n    <link rel=\"stylesheet\" type=\"text/css\" href=\"https://jsxgraph.org/distrib/jsxgraph.css\" />\n    <script type=\"text/javascript\" src=\"https://cdn.jsdelivr.net/npm/jsxgraph/distrib/jsxgraphcore.js\"></script>\n    <script type=\"text/javascript\" src=\"https://cdn.jsdelivr.net/npm/mathjax@3/es5/tex-chtml.js\"></script>\n    </head>\n<body>\n<div id=\"box\" class=\"jxgbox\"></div>\n</body>\n</html>",
       "js": "JXG.Options.text.useMathJax = true;\nfunction degToRad(degrees) {\n  var pi = Math.PI;\n  return degrees * (pi/180);\n}\nvar board = JXG.JSXGraph.initBoard('box', {boundingbox: [-100, 4, 900, -4], axis: true, grid: true, showCopyright: false});\nvar s = board.create('slider', [[100,3], [500,3], [0,0,900]], {name: 'x', snapWidth: 10});\nvar graph = board.create('functiongraph', [function(x){return Math.cos(degToRad(x))}, 0, ()=>s.Value()]);\nvar pt = board.create('point', [()=>s.Value(), ()=>Math.cos(degToRad(s.Value()))], {name: ()=>'('+s.Value()+','+Math.cos(degToRad(s.Value())).toFixed(2)+')'});\nvar l = board.create('line', [[()=>s.Value(),1], [()=>s.Value(),0]], {dash: 3});\nboard.create('text', [100,2,function(){return 'cos ' + s.Value() + '&#176; = ' + Math.cos(degToRad(s.Value())).toFixed(4) + ' (4d.p.)'}]);\nboard.create('text', [-20,-0.15,'O'], {fixed: true})\nvar ptmax = [];\nvar ptmin = [];\nvar ptzero = [];\nvar nmax = 0;\nvar nmin = 0;\nvar nzero = 0;\nfor (var i=0; i<=900; i++){\n    if (Math.cos(degToRad(i)) == 1){\n        ptmax[nmax] = board.create('point', [i, 1], {name: '('+i+'&#176;,1)', fixed: true, visible: false, label:{offset:[5, 20]}});\n        nmax++;\n    }\n    if (Math.cos(degToRad(i)) == -1){\n        ptmin[nmin] = board.create('point', [i, -1],  {name: '('+i+'&#176;,-1)', fixed: true, visible: false, label:{offset:[5, -8]}});\n        nmin++;\n    }\n    if (Math.abs(Math.cos(degToRad(i))) < 1e-10){\n        ptzero[nzero] = board.create('point', [i, 0],  {name: '('+i+'&#176;,0)', fixed: true, visible: false, label:{offset:[5, 20]}});\n        nzero++;\n    }\n}\nvar lmx = board.create('line', [ptmax[0], [ptmax[0].X()+0.1,ptmax[0].Y()]], {dash: 2, visible: false});\nvar lmn = board.create('line', [ptmin[0], [ptmin[0].X()+0.1,ptmin[0].Y()]], {dash: 2, visible: false});\n\nvar minMaxShown = false;\nshowMinMax = function(){\n    minMaxShown = !minMaxShown;\n    ptmax.forEach(o => o.setAttribute({visible: minMaxShown}));\n    ptmin.forEach(o => o.setAttribute({visible: minMaxShown}));\n    lmx.setAttribute({visible: minMaxShown});\n    lmn.setAttribute({visible: minMaxShown});\n};\nvar zeroShown = false;\nshowZero = function(){\n    zeroShown = !zeroShown;\n    ptzero.forEach(o => o.setAttribute({visible: zeroShown}));\n}\nboard.create('text', [100,-2, '<input type=\"checkbox\" id=\"showMinMax\" onChange=\"showMinMax()\" />  Show min/max'], {fixed: true});\nboard.create('text', [100,-3, '<input type=\"checkbox\" id=\"showZero\" onChange=\"showZero()\" />  Show points where y=0'], {fixed: true});",
       "layout": "IPY_MODEL_5f6bc3cddd044c4397e73a137f3327f2"
      }
     },
     "863e00e1f6784e208defe2a4a82f0c8b": {
      "model_module": "jupyter-divewidgets",
      "model_module_version": "^0.1.5",
      "model_name": "JSWidgetModel",
      "state": {
       "_model_module_version": "^0.1.5",
       "_view_module_version": "^0.1.5",
       "html": "<!DOCTYPE html>\n<html>\n    <head>\n    <style>\n    html, body {\n        height: 100%;\n    }\n    body {\n        width: 100%;\n        display: flex;\n        padding: 0;\n        margin: 0;\n    }\n    .jxgbox {\n        width:100%; \n        flex-grow: 1;\n    }\n    </style>\n    <link rel=\"stylesheet\" type=\"text/css\" href=\"https://jsxgraph.org/distrib/jsxgraph.css\" />\n    <script type=\"text/javascript\" src=\"https://cdn.jsdelivr.net/npm/jsxgraph/distrib/jsxgraphcore.js\"></script>\n    <script type=\"text/javascript\" src=\"https://cdn.jsdelivr.net/npm/mathjax@3/es5/tex-chtml.js\"></script>\n    </head>\n<body>\n<div id=\"box\" class=\"jxgbox\"></div>\n</body>\n</html>",
       "js": "var board = JXG.JSXGraph.initBoard('box', {boundingbox: [-6, 6, 6, -6], axis: true, grid: true, showCopyright: false});\nvar a_sx = board.create('slider', [[-4,-5], [-2,-5], [-4, 2 ,4]], {name:'x', snapWidth: 0.01});\nvar a_sy = board.create('slider', [[1,-5], [3,-5], [-4, 3 ,4]], {name:'y', snapWidth: 0.01});\nvar a = board.create('point', [()=>a_sx.Value(),()=>a_sy.Value()], {name:function(){return 'D('+a_sx.Value().toFixed(2)+','+a_sy.Value().toFixed(2)+')';}});\nvar o = board.create('point', [0,0], {name:''});\no.setAttribute({fixed: true, visible: false});\nvar b = board.create('point', [()=>a.X(), 0], {name:'D\\''});\nvar tri = board.create('polygon', [a,o,b]);\nvar ang = board.create('nonreflexangle', [a,b,o], {name:' ', radius: 0.2});\nvar ang2 = board.create('nonreflexangle', [a,o,b], {name:'θ', radius: 0.4})\nboard.create('text', [-0.2,-0.15,'O'], {fixed: true})\nboard.create('text',[()=>(a.X()+o.X()+b.X())/3,()=>(a.Y()+o.X()+b.Y())/3,'△ODD\\''],{anchorX:'middle', anchorY:'auto'});",
       "layout": "IPY_MODEL_bf7e3e8cda0b46a09fb608813c9bbf65"
      }
     },
     "8a3bc50f580740b7b59247cf63b99187": {
      "model_module": "jupyter-divewidgets",
      "model_module_version": "^0.1.5",
      "model_name": "JSWidgetModel",
      "state": {
       "_model_module_version": "^0.1.5",
       "_view_module_version": "^0.1.5",
       "html": "<!DOCTYPE html>\n<html>\n    <head>\n    <style>\n    html, body {\n        height: 100%;\n    }\n    body {\n        width: 100%;\n        display: flex;\n        padding: 0;\n        margin: 0;\n    }\n    .jxgbox {\n        width:100%; \n        flex-grow: 1;\n    }\n    </style>\n    <link rel=\"stylesheet\" type=\"text/css\" href=\"https://jsxgraph.org/distrib/jsxgraph.css\" />\n    <script type=\"text/javascript\" src=\"https://cdn.jsdelivr.net/npm/jsxgraph/distrib/jsxgraphcore.js\"></script>\n    <script type=\"text/javascript\" src=\"https://cdn.jsdelivr.net/npm/mathjax@3/es5/tex-chtml.js\"></script>\n    </head>\n<body>\n<div id=\"box\" class=\"jxgbox\"></div>\n</body>\n</html>",
       "js": "JXG.Options.text.useMathJax = true;\nvar board = JXG.JSXGraph.initBoard('box', {boundingbox: [-6, 6, 6, -6], axis: true, grid: true, showCopyright: false});\nvar a_sx = board.create('slider', [[-4,-5], [-2,-5], [-4, 2 ,4]], {name:'x', snapWidth: 0.01});\nvar a_sy = board.create('slider', [[1,-5], [3,-5], [-4, 3 ,4]], {name:'y', snapWidth: 0.01});\nvar a = board.create('point', [()=>a_sx.Value(),()=>a_sy.Value()], {name:function(){return 'D('+a_sx.Value().toFixed(2)+','+a_sy.Value().toFixed(2)+')';}});\nvar o = board.create('point', [0,0], {name:''});\no.setAttribute({fixed: true, visible: false});\nvar b = board.create('point', [()=>a.X(), 0], {name:'', visible: false});\nvar b2 = board.create('point', [1,0], {name:'', visible: false});\nb2.setAttribute({fixed: true});\nboard.create('text', [-0.2,-0.15,'O'], {fixed: true})\nvar angle = board.create('sector', [o, b2, a], {\n    name: '\\(\\\\theta\\)',\n    withLabel: {\n        fontSize: 16\n    },\n    fillColor: 'yellow',\n    highlightFillColor: 'yellow',\n    strokeWidth: 0,\n    arc: {\n        visible: true,\n        strokeColor: 'black',\n        strokeWidth: 2,\n        lastArrow: {\n            size: 6\n        }\n    }\n});\nvar angleInv = board.create('angle', [b, o, a], {visible: false})\nvar l1 = board.create('line', [o, a], {straightFirst: false, straightLast: false});\nvar l2 = board.create('line', [o, a], {dash: 3});\nvar l3 = board.create('line', [o, b], {dash: 3});\nvar l4 = board.create('line', [a, b], {dash: 3});\n\nfunction radToDeg(radians) {\n  var pi = Math.PI;\n  return radians * (180/pi);\n}\n\nfunction degHelper(angle, pt) {\n    deg = angle.Value() * (180/Math.PI);\n    if (pt.X()>=0 && pt.Y()>=0){return deg}\n    if (pt.X()<=0 && pt.Y()>=0){return deg-180}\n    if (pt.X()<=0 && pt.Y()<=0){return deg+180}\n    if (pt.X()>=0 && pt.Y()<=0){return deg}\n}\n\nboard.create('text', [-2.3, 2.3, function () {\n    return '<p>θ = ' + degHelper(angleInv, a).toFixed(1) + '&deg;</p>';\n}],{highlight:false,fixed:true});",
       "layout": "IPY_MODEL_365ab04ded824351aacb058ce226cb34"
      }
     },
     "8e1b9b74e68440a3aed789bb1a2b3ba0": {
      "model_module": "jupyter-divewidgets",
      "model_module_version": "^0.1.5",
      "model_name": "JSWidgetModel",
      "state": {
       "_model_module_version": "^0.1.5",
       "_view_module_version": "^0.1.5",
       "html": "<!DOCTYPE html>\n<html>\n    <head>\n    <style>\n    html, body {\n        height: 100%;\n    }\n    body {\n        width: 100%;\n        display: flex;\n        padding: 0;\n        margin: 0;\n    }\n    .jxgbox {\n        width:100%; \n        flex-grow: 1;\n    }\n    </style>\n    <link rel=\"stylesheet\" type=\"text/css\" href=\"https://jsxgraph.org/distrib/jsxgraph.css\" />\n    <script type=\"text/javascript\" src=\"https://cdn.jsdelivr.net/npm/jsxgraph/distrib/jsxgraphcore.js\"></script>\n    <script type=\"text/javascript\" src=\"https://cdn.jsdelivr.net/npm/mathjax@3/es5/tex-chtml.js\"></script>\n    </head>\n<body>\n<div id=\"box\" class=\"jxgbox\"></div>\n</body>\n</html>",
       "js": "JXG.Options.text.useMathJax = true;\nvar board = JXG.JSXGraph.initBoard('box', {boundingbox: [-6, 6, 6, -6], axis: true, grid: true, showCopyright: false});\nvar a_sx = board.create('slider', [[-4,-5], [-2,-5], [-4, 2 ,4]], {name:'x', snapWidth: 0.01});\nvar a_sy = board.create('slider', [[1,-5], [3,-5], [-4, -3 ,4]], {name:'y', snapWidth: 0.01});\nvar a = board.create('point', [()=>a_sx.Value(),()=>a_sy.Value()], {name:function(){return 'D('+a_sx.Value().toFixed(2)+','+a_sy.Value().toFixed(2)+')';}});\nvar o = board.create('point', [0,0], {name:''});\no.setAttribute({fixed: true, visible: false});\nvar b = board.create('point', [()=>a.X(), 0], {name:'', visible: false});\nvar b2 = board.create('point', [1,0], {name:'', visible: false});\nb2.setAttribute({fixed: true});\nboard.create('text', [-0.2,-0.15,'O'], {fixed: true})\nvar a_n = board.create('point', [()=>(a.X())/Math.sqrt((a.X()**2)+(a.Y()**2)),()=>(a.Y())/Math.sqrt((a.X()**2)+(a.Y()**2))], {visible: false});\nvar angle = board.create('sector', [o, a_n, b2], {\n    name: '\\\\(\\\\theta\\\\)',\n    withLabel: {\n        fontSize: 16\n    },\n    fillColor: 'yellow',\n    highlightFillColor: 'yellow',\n    strokeWidth: 0,\n    arc: {\n        visible: true,\n        strokeColor: 'black',\n        strokeWidth: 2,\n        firstArrow: {\n            size: 6\n        }\n    }\n});\nvar angleInv = board.create('angle', [a_n, o, b2], {visible: false})\nvar l1 = board.create('line', [o, a], {straightFirst: false, straightLast: false});\nvar l2 = board.create('line', [o, a], {dash: 3});\nvar l3 = board.create('line', [o, b], {dash: 3});\nvar l4 = board.create('line', [a, b], {dash: 3});\n\nfunction radToDeg(radians) {\n  var pi = Math.PI;\n  return radians * (180/pi);\n}\n\nfunction degHelper(angle, pt) {\n    deg = angle.Value() * (180/Math.PI);\n    return -(deg)\n}\n\nboard.create('text', [-2.3, 2.3, function () {\n    return '\\\\(\\\\theta = ' + degHelper(angleInv, a).toFixed(1) + '^{\\\\circ}\\\\)';\n}],{highlight:false,fixed:true});",
       "layout": "IPY_MODEL_ba2fbaabfad242f2a1613208df35466b"
      }
     },
     "8fcd890e18574833be2afac53358e6f4": {
      "model_module": "@jupyter-widgets/base",
      "model_module_version": "1.2.0",
      "model_name": "LayoutModel",
      "state": {}
     },
     "904ac7c525914a5994c53d01b2f6e8be": {
      "model_module": "jupyter-divewidgets",
      "model_module_version": "^0.1.5",
      "model_name": "JSWidgetModel",
      "state": {
       "_model_module_version": "^0.1.5",
       "_view_module_version": "^0.1.5",
       "html": "<!DOCTYPE html>\n<html>\n    <head>\n    <style>\n    html, body {\n        height: 100%;\n    }\n    body {\n        width: 100%;\n        display: flex;\n        padding: 0;\n        margin: 0;\n    }\n    .jxgbox {\n        width:100%; \n        flex-grow: 1;\n    }\n    </style>\n    <link rel=\"stylesheet\" type=\"text/css\" href=\"https://jsxgraph.org/distrib/jsxgraph.css\" />\n    <script type=\"text/javascript\" src=\"https://cdn.jsdelivr.net/npm/jsxgraph/distrib/jsxgraphcore.js\"></script>\n    <script type=\"text/javascript\" src=\"https://cdn.jsdelivr.net/npm/mathjax@3/es5/tex-chtml.js\"></script>\n    </head>\n<body>\n<div id=\"box\" class=\"jxgbox\"></div>\n</body>\n</html>",
       "js": "JXG.Options.text.useMathJax = true;\nvar board = JXG.JSXGraph.initBoard('box', {boundingbox: [-6, 6, 6, -6], axis: true, grid: true, showCopyright: false});\nvar a_sx = board.create('slider', [[-4,-5], [-2,-5], [-4, 2 ,4]], {name:'\\\\(x\\\\)', snapWidth: 0.01});\nvar a_sy = board.create('slider', [[1,-5], [3,-5], [-4, 3 ,4]], {name:'\\\\(y\\\\)', snapWidth: 0.01});\nvar a = board.create('point', [()=>a_sx.Value(),()=>a_sy.Value()], {name:function(){return 'D('+a_sx.Value().toFixed(2)+','+a_sy.Value().toFixed(2)+')';}});\nvar o = board.create('point', [0,0], {name:''});\no.setAttribute({fixed: true, visible: false});\nvar b = board.create('point', [()=>a.X(), 0], {name:\"\\\\(D'\\\\)\"});\nvar tri = board.create('polygon', [a,o,b]);\nvar ang = board.create('nonreflexangle', [a,b,o], {name:' ', radius: 0.2});\nvar ang2 = board.create('nonreflexangle', [a,o,b], {name:'\\\\(\\\\theta\\\\)', radius: 0.4})\nboard.create('text', [-0.2,-0.15,'O'], {fixed: true})\nboard.create('text',[()=>(a.X()+o.X()+b.X())/3,()=>(a.Y()+o.X()+b.Y())/3,\"\\\\(△ODD'\\\\)\"],{anchorX:'middle', anchorY:'auto'});",
       "layout": "IPY_MODEL_cbedff1d1f4841f8b18edfe4ad9f62ac"
      }
     },
     "917ebc69813b445fa1ae6ba495cf298b": {
      "model_module": "@jupyter-widgets/base",
      "model_module_version": "1.2.0",
      "model_name": "LayoutModel",
      "state": {}
     },
     "94f5f8292aed4ada86fbc75a257d431a": {
      "model_module": "@jupyter-widgets/base",
      "model_module_version": "1.2.0",
      "model_name": "LayoutModel",
      "state": {}
     },
     "957523219c714543b391cfdb4f3942f4": {
      "model_module": "jupyter-divewidgets",
      "model_module_version": "^0.1.5",
      "model_name": "JSWidgetModel",
      "state": {
       "_model_module_version": "^0.1.5",
       "_view_module_version": "^0.1.5",
       "html": "<!DOCTYPE html>\n<html>\n    <head>\n    <style>\n    html, body {\n        height: 100%;\n    }\n    body {\n        width: 100%;\n        display: flex;\n        padding: 0;\n        margin: 0;\n    }\n    .jxgbox {\n        width:100%; \n        flex-grow: 1;\n    }\n    </style>\n    <link rel=\"stylesheet\" type=\"text/css\" href=\"https://jsxgraph.org/distrib/jsxgraph.css\" />\n    <script type=\"text/javascript\" src=\"https://cdn.jsdelivr.net/npm/jsxgraph/distrib/jsxgraphcore.js\"></script>\n    <script type=\"text/javascript\" src=\"https://cdn.jsdelivr.net/npm/mathjax@3/es5/tex-chtml.js\"></script>\n    </head>\n<body>\n<div id=\"box\" class=\"jxgbox\"></div>\n</body>\n</html>",
       "js": "JXG.Options.text.useMathJax = true;\nvar board = JXG.JSXGraph.initBoard('box', {boundingbox: [-6, 6, 6, -6], axis: true, grid: true, showCopyright: false});\nvar a_sx = board.create('slider', [[-4,-5], [-2,-5], [-4, 2 ,4]], {name:'x', snapWidth: 0.01});\nvar a_sy = board.create('slider', [[1,-5], [3,-5], [-4, -3 ,4]], {name:'y', snapWidth: 0.01});\nvar a = board.create('point', [()=>a_sx.Value(),()=>a_sy.Value()], {name:function(){return 'D('+a_sx.Value().toFixed(2)+','+a_sy.Value().toFixed(2)+')';}});\nvar o = board.create('point', [0,0], {name:''});\no.setAttribute({fixed: true, visible: false});\nvar b = board.create('point', [()=>a.X(), 0], {name:'', visible: false});\nvar b2 = board.create('point', [1,0], {name:'', visible: false});\nb2.setAttribute({fixed: true});\nboard.create('text', [-0.2,-0.15,'O'], {fixed: true})\nvar a_n = board.create('point', [()=>(a.X())/Math.sqrt((a.X()**2)+(a.Y()**2)),()=>(a.Y())/Math.sqrt((a.X()**2)+(a.Y()**2))], {visible: false});\nvar angle = board.create('sector', [o, a_n, b2], {\n    name: '\\\\(\\\\theta\\\\)',\n    withLabel: {\n        fontSize: 16\n    },\n    fillColor: 'yellow',\n    highlightFillColor: 'yellow',\n    strokeWidth: 0,\n    arc: {\n        visible: true,\n        strokeColor: 'black',\n        strokeWidth: 2,\n        firstArrow: {\n            size: 6\n        }\n    }\n});\nvar angleInv = board.create('angle', [a_n, o, b2], {visible: false})\nvar l1 = board.create('line', [o, a], {straightFirst: false, straightLast: false});\nvar l2 = board.create('line', [o, a], {dash: 3});\nvar l3 = board.create('line', [o, b], {dash: 3});\nvar l4 = board.create('line', [a, b], {dash: 3});\n\nfunction radToDeg(radians) {\n  var pi = Math.PI;\n  return radians * (180/pi);\n}\n\nfunction degHelper(angle, pt) {\n    deg = angle.Value() * (180/Math.PI);\n    return -(deg)\n}\n\nboard.create('text', [-2.3, 2.3, function () {\n    return '\\\\(\\\\theta = ' + degHelper(angleInv, a).toFixed(1) + '^o\\\\)';\n}],{highlight:false,fixed:true});",
       "layout": "IPY_MODEL_c7b4e174e89c4ff8898a1e15a207055c"
      }
     },
     "98989c8cdf9e4feb8cdcd86d85a65fcb": {
      "model_module": "jupyter-divewidgets",
      "model_module_version": "^0.1.5",
      "model_name": "JSWidgetModel",
      "state": {
       "_model_module_version": "^0.1.5",
       "_view_module_version": "^0.1.5",
       "html": "<!DOCTYPE html>\n<html>\n    <head>\n    <style>\n    html, body {\n        height: 100%;\n    }\n    body {\n        width: 100%;\n        display: flex;\n        padding: 0;\n        margin: 0;\n    }\n    .jxgbox {\n        width:100%; \n        flex-grow: 1;\n    }\n    </style>\n    <link rel=\"stylesheet\" type=\"text/css\" href=\"https://jsxgraph.org/distrib/jsxgraph.css\" />\n    <script type=\"text/javascript\" src=\"https://cdn.jsdelivr.net/npm/jsxgraph/distrib/jsxgraphcore.js\"></script>\n    <script type=\"text/javascript\" src=\"https://cdn.jsdelivr.net/npm/mathjax@3/es5/tex-chtml.js\"></script>\n    </head>\n<body>\n<div id=\"box\" class=\"jxgbox\"></div>\n</body>\n</html>",
       "js": "JXG.Options.text.useMathJax = true;\nvar board = JXG.JSXGraph.initBoard('box', {boundingbox: [-6, 6, 6, -6], axis: true, grid: true, showCopyright: false});\nvar a_sx = board.create('slider', [[-4,-5], [-2,-5], [-4, 2 ,4]], {name:'\\\\(x\\\\)', snapWidth: 0.01});\nvar a_sy = board.create('slider', [[1,-5], [3,-5], [-4, 3 ,4]], {name:'\\\\(y\\\\)', snapWidth: 0.01});\nvar a = board.create('point', [()=>a_sx.Value(),()=>a_sy.Value()], {name:function(){return 'D('+a_sx.Value().toFixed(2)+','+a_sy.Value().toFixed(2)+')';}});\nvar o = board.create('point', [0,0], {name:''});\no.setAttribute({fixed: true, visible: false});\nvar b = board.create('point', [()=>a.X(), 0], {name:\"\\\\(D'\\\\)\"});\nvar tri = board.create('polygon', [a,o,b]);\nvar ang = board.create('nonreflexangle', [a,b,o], {name:' ', radius: 0.2});\nvar ang2 = board.create('nonreflexangle', [a,o,b], {name:'\\\\(\\\\theta\\\\)', radius: 0.4})\nboard.create('text', [-0.2,-0.15,'O'], {fixed: true})\nboard.create('text',[()=>(a.X()+o.X()+b.X())/3,()=>(a.Y()+o.X()+b.Y())/3,'△ODD\\''],{anchorX:'middle', anchorY:'auto'});",
       "layout": "IPY_MODEL_917ebc69813b445fa1ae6ba495cf298b"
      }
     },
     "9a6eac41c29243a790de284fa35eb7b3": {
      "model_module": "@jupyter-widgets/base",
      "model_module_version": "1.2.0",
      "model_name": "LayoutModel",
      "state": {}
     },
     "a178b02303ce47bfa3b6e47e132aaadf": {
      "model_module": "jupyter-divewidgets",
      "model_module_version": "^0.1.5",
      "model_name": "JSWidgetModel",
      "state": {
       "_model_module_version": "^0.1.5",
       "_view_module_version": "^0.1.5",
       "html": "<!DOCTYPE html>\n<html>\n    <head>\n    <style>\n    html, body {\n        height: 100%;\n    }\n    body {\n        width: 100%;\n        display: flex;\n        padding: 0;\n        margin: 0;\n    }\n    .jxgbox {\n        width:100%; \n        flex-grow: 1;\n    }\n    </style>\n    <link rel=\"stylesheet\" type=\"text/css\" href=\"https://jsxgraph.org/distrib/jsxgraph.css\" />\n    <script type=\"text/javascript\" src=\"https://cdn.jsdelivr.net/npm/jsxgraph/distrib/jsxgraphcore.js\"></script>\n    <script type=\"text/javascript\" src=\"https://cdn.jsdelivr.net/npm/mathjax@3/es5/tex-chtml.js\"></script>\n    </head>\n<body>\n<div id=\"box\" class=\"jxgbox\"></div>\n</body>\n</html>",
       "js": "JXG.Options.text.useMathJax = true;\nvar board = JXG.JSXGraph.initBoard('box', {boundingbox: [-6, 6, 6, -6], axis: true, grid: true, showCopyright: false});\nvar a_sx = board.create('slider', [[-4,-5], [-2,-5], [-4, 2 ,4]], {name:'x', snapWidth: 0.01});\nvar a_sy = board.create('slider', [[1,-5], [3,-5], [-4, -3 ,4]], {name:'y', snapWidth: 0.01});\nvar a = board.create('point', [()=>a_sx.Value(),()=>a_sy.Value()], {name:function(){return 'D('+a_sx.Value().toFixed(2)+','+a_sy.Value().toFixed(2)+')';}});\nvar o = board.create('point', [0,0], {name:''});\no.setAttribute({fixed: true, visible: false});\nvar b = board.create('point', [()=>a.X(), 0], {name:'', visible: false});\nvar b2 = board.create('point', [1,0], {name:'', visible: false});\nb2.setAttribute({fixed: true});\nboard.create('text', [-0.2,-0.15,'O'], {fixed: true})\nvar a_n = board.create('point', [()=>(a.X())/Math.sqrt((a.X()**2)+(a.Y()**2)),()=>(a.Y())/Math.sqrt((a.X()**2)+(a.Y()**2))], {visible: false});\nvar angle = board.create('sector', [o, a_n, b2], {\n    name: '\\\\(\\\\theta\\\\)',\n    withLabel: {\n        fontSize: 16\n    },\n    fillColor: 'yellow',\n    highlightFillColor: 'yellow',\n    strokeWidth: 0,\n    arc: {\n        visible: true,\n        strokeColor: 'black',\n        strokeWidth: 2,\n        firstArrow: {\n            size: 6\n        }\n    }\n});\nvar angleInv = board.create('angle', [a_n, o, b2], {visible: false})\nvar l1 = board.create('line', [o, a], {straightFirst: false, straightLast: false});\nvar l2 = board.create('line', [o, a], {dash: 3});\nvar l3 = board.create('line', [o, b], {dash: 3});\nvar l4 = board.create('line', [a, b], {dash: 3});\n\nfunction radToDeg(radians) {\n  var pi = Math.PI;\n  return radians * (180/pi);\n}\n\nfunction degHelper(angle, pt) {\n    deg = angle.Value() * (180/Math.PI);\n    return -(deg)\n}\n\nboard.create('text', [-2.3, 2.3, function () {\n    return '\\\\(\\\\theta = ' + degHelper(angleInv, a).toFixed(1) + '^{\\\\circ}\\\\)';\n}],{highlight:false,fixed:true});",
       "layout": "IPY_MODEL_d14fc4ad0a6f46428248d4e3f6877464"
      }
     },
     "a2ee016fc0d64093b01e5b5e3db6b91b": {
      "model_module": "@jupyter-widgets/base",
      "model_module_version": "1.2.0",
      "model_name": "LayoutModel",
      "state": {}
     },
     "a69de39a131c438593e15b4f8bcfc896": {
      "model_module": "@jupyter-widgets/base",
      "model_module_version": "1.2.0",
      "model_name": "LayoutModel",
      "state": {}
     },
     "a71a75c3c33a450f9717facca9397520": {
      "model_module": "@jupyter-widgets/base",
      "model_module_version": "1.2.0",
      "model_name": "LayoutModel",
      "state": {}
     },
     "a880aa2c92674eb0a68159a3eb9f2e09": {
      "model_module": "@jupyter-widgets/base",
      "model_module_version": "1.2.0",
      "model_name": "LayoutModel",
      "state": {}
     },
     "aadaa5f5162c43a0933d9b6a09dd3d74": {
      "model_module": "jupyter-divewidgets",
      "model_module_version": "^0.1.5",
      "model_name": "JSWidgetModel",
      "state": {
       "_model_module_version": "^0.1.5",
       "_view_module_version": "^0.1.5",
       "html": "<!DOCTYPE html>\n<html>\n    <head>\n    <style>\n    html, body {\n        height: 100%;\n    }\n    body {\n        width: 100%;\n        display: flex;\n        padding: 0;\n        margin: 0;\n    }\n    .jxgbox {\n        width:100%; \n        flex-grow: 1;\n    }\n    </style>\n    <link rel=\"stylesheet\" type=\"text/css\" href=\"https://jsxgraph.org/distrib/jsxgraph.css\" />\n    <script type=\"text/javascript\" src=\"https://cdn.jsdelivr.net/npm/jsxgraph/distrib/jsxgraphcore.js\"></script>\n    <script type=\"text/javascript\" src=\"https://cdn.jsdelivr.net/npm/mathjax@3/es5/tex-chtml.js\"></script>\n    </head>\n<body>\n<div id=\"box\" class=\"jxgbox\"></div>\n</body>\n</html>",
       "js": "JXG.Options.text.useMathJax = true;\nfunction degToRad(degrees) {\n  var pi = Math.PI;\n  return degrees * (pi/180);\n}\nvar board = JXG.JSXGraph.initBoard('box', {boundingbox: [-100, 12, 900, -4], axis: true, grid: true, showCopyright: false});\nvar s = board.create('slider', [[100,11], [500,11], [0,0,900]], {name: 'x', snapWidth: 10});\nvar graph = board.create('functiongraph', [function(x){return ((2*Math.sin(degToRad(x))-1)**2)}, 0, ()=>s.Value()]);\nvar pt = board.create('point', [()=>s.Value(), ()=>((2*Math.sin(degToRad(s.Value()))-1)**2)], {name: ()=>'('+s.Value()+','+((2*Math.sin(degToRad(s.Value()))-1)**2).toFixed(2)+')'});\nvar l = board.create('line', [[()=>s.Value(),1], [()=>s.Value(),0]], {dash: 3});\nboard.create('text', [100,10,function(){return '(2sin ' + s.Value() + '&#176;-1)^2 = ' + ((2*Math.sin(degToRad(s.Value()))-1)**2).toFixed(4) + ' (4d.p.)'}]);\nboard.create('text', [-20,-0.15,'O'], {fixed: true})\nvar ptmax = [];\nvar ptmin = [];\nvar nmax = 0;\nvar nmin = 0;\nfor (var i=0; i<=360; i++){\n    if (Math.sin(degToRad(i)) == -1){\n        ptmax[nmax] = board.create('point', [i, 9], {name: '('+i+'&#176;,9)', fixed: true, visible: false, label:{offset:[5, 20]}});\n        nmax++;\n    }\n    if (Math.abs(Math.sin(degToRad(i))-0.5) < Number.EPSILON){\n        ptmin[nmin] = board.create('point', [i, 0],  {name: '('+i+'&#176;,0)', fixed: true, visible: false, label:{offset:[5, -13]}});\n        nmin++;\n    }\n};\nvar lmx = board.create('line', [ptmax[0], [ptmax[0].X()+0.1,ptmax[0].Y()]], {dash: 2, visible: false});\nvar lmn = board.create('line', [ptmin[0], [ptmin[0].X()+0.1,ptmin[0].Y()]], {dash: 2, visible: false});\nvar lbnd = board.create('line', [[360, 0], [360, 1]], {dash: 1, strokeColor: '#aaaaaa', fixed: true});\n\nvar minMaxShown = false;\nshowMinMax = function(){\n    minMaxShown = !minMaxShown;\n    ptmax.forEach(o => o.setAttribute({visible: minMaxShown}));\n    ptmin.forEach(o => o.setAttribute({visible: minMaxShown}));\n    lmx.setAttribute({visible: minMaxShown});\n    lmn.setAttribute({visible: minMaxShown});\n};\n\nboard.create('text', [100,-2, '<input type=\"checkbox\" id=\"showMinMax\" onChange=\"showMinMax()\" />  Show min/max'], {fixed: true});",
       "layout": "IPY_MODEL_a71a75c3c33a450f9717facca9397520"
      }
     },
     "af014bbec19640da86c4fcffc3e7dc72": {
      "model_module": "jupyter-divewidgets",
      "model_module_version": "^0.1.5",
      "model_name": "JSWidgetModel",
      "state": {
       "_model_module_version": "^0.1.5",
       "_view_module_version": "^0.1.5",
       "html": "<!DOCTYPE html>\n<html>\n    <head>\n    <style>\n    html, body {\n        height: 100%;\n    }\n    body {\n        width: 100%;\n        display: flex;\n        padding: 0;\n        margin: 0;\n    }\n    .jxgbox {\n        width:100%; \n        flex-grow: 1;\n    }\n    </style>\n    <link rel=\"stylesheet\" type=\"text/css\" href=\"https://jsxgraph.org/distrib/jsxgraph.css\" />\n    <script type=\"text/javascript\" src=\"https://cdn.jsdelivr.net/npm/jsxgraph/distrib/jsxgraphcore.js\"></script>\n    <script type=\"text/javascript\" src=\"https://cdn.jsdelivr.net/npm/mathjax@3/es5/tex-chtml.js\"></script>\n    </head>\n<body>\n<div id=\"box\" class=\"jxgbox\"></div>\n</body>\n</html>",
       "js": "JXG.Options.text.useMathJax = true;\nfunction degToRad(degrees) {\n  var pi = Math.PI;\n  return degrees * (pi/180);\n}\nvar board = JXG.JSXGraph.initBoard('box', {boundingbox: [-100, 4, 900, -4], axis: true, grid: true, showCopyright: false});\nvar s = board.create('slider', [[100,3], [500,3], [0,0,900]], {name: 'x', snapWidth: 10});\nvar graph = board.create('functiongraph', [function(x){return Math.sin(degToRad(x))-1}, 0, ()=>s.Value()]);\nvar pt = board.create('point', [()=>s.Value(), ()=>(Math.sin(degToRad(s.Value()))-1)], {name: ()=>'('+s.Value()+','+(Math.sin(degToRad(s.Value()))-1).toFixed(2)+')'});\nvar l = board.create('line', [[()=>s.Value(),1], [()=>s.Value(),0]], {dash: 3});\nboard.create('text', [100,2,function(){return 'sin ' + s.Value() + '&#176;-1 = ' + (Math.sin(degToRad(s.Value()))-1).toFixed(4) + ' (4d.p.)'}]);\nboard.create('text', [-20,-0.15,'O'], {fixed: true})\nvar ptmax = [];\nvar ptmin = [];\nvar nmax = 0;\nvar nmin = 0;\nfor (var i=0; i<=360; i++){\n    if (Math.sin(degToRad(i)) == 1){\n        ptmax[nmax] = board.create('point', [i, 0], {name: '('+i+'&#176;,0)', fixed: true, visible: false, label:{offset:[5, 20]}});\n        nmax++;\n    }\n    if (Math.sin(degToRad(i)) == -1){\n        ptmin[nmin] = board.create('point', [i, -2],  {name: '('+i+'&#176;,-2)', fixed: true, visible: false, label:{offset:[5, -8]}});\n        nmin++;\n    }\n};\nvar lmx = board.create('line', [ptmax[0], [ptmax[0].X()+0.1,ptmax[0].Y()]], {dash: 2, visible: false});\nvar lmn = board.create('line', [ptmin[0], [ptmin[0].X()+0.1,ptmin[0].Y()]], {dash: 2, visible: false});\nvar lbnd = board.create('line', [[360, 0], [360, 1]], {dash: 1, strokeColor: '#aaaaaa', fixed: true});\n\nvar minMaxShown = false;\nshowMinMax = function(){\n    minMaxShown = !minMaxShown;\n    ptmax.forEach(o => o.setAttribute({visible: minMaxShown}));\n    ptmin.forEach(o => o.setAttribute({visible: minMaxShown}));\n    lmx.setAttribute({visible: minMaxShown});\n    lmn.setAttribute({visible: minMaxShown});\n};\n\nboard.create('text', [100,-3, '<input type=\"checkbox\" id=\"showMinMax\" onChange=\"showMinMax()\" />  Show min/max'], {fixed: true});",
       "layout": "IPY_MODEL_5e6c364a0d3c47dfb9c36fa6a4c6722b"
      }
     },
     "b5b5a456492c40eeb36b90dad0690ee7": {
      "model_module": "@jupyter-widgets/base",
      "model_module_version": "1.2.0",
      "model_name": "LayoutModel",
      "state": {}
     },
     "ba2fbaabfad242f2a1613208df35466b": {
      "model_module": "@jupyter-widgets/base",
      "model_module_version": "1.2.0",
      "model_name": "LayoutModel",
      "state": {}
     },
     "bc0c9decc40241c4ae973980c695c1fc": {
      "model_module": "jupyter-divewidgets",
      "model_module_version": "^0.1.5",
      "model_name": "JSWidgetModel",
      "state": {
       "_model_module_version": "^0.1.5",
       "_view_module_version": "^0.1.5",
       "html": "<!DOCTYPE html>\n<html>\n    <head>\n    <style>\n    html, body {\n        height: 100%;\n    }\n    body {\n        width: 100%;\n        display: flex;\n        padding: 0;\n        margin: 0;\n    }\n    .jxgbox {\n        width:100%; \n        flex-grow: 1;\n    }\n    </style>\n    <link rel=\"stylesheet\" type=\"text/css\" href=\"https://jsxgraph.org/distrib/jsxgraph.css\" />\n    <script type=\"text/javascript\" src=\"https://cdn.jsdelivr.net/npm/jsxgraph/distrib/jsxgraphcore.js\"></script>\n    <script type=\"text/javascript\" src=\"https://cdn.jsdelivr.net/npm/mathjax@3/es5/tex-chtml.js\"></script>\n    </head>\n<body>\n<div id=\"box\" class=\"jxgbox\"></div>\n</body>\n</html>",
       "js": "JXG.Options.text.useMathJax = true;\nvar board = JXG.JSXGraph.initBoard('box', {boundingbox: [-6, 6, 6, -6], axis: true, grid: true, showCopyright: false});\nvar a_sx = board.create('slider', [[-4,-5], [-2,-5], [-4, 2 ,4]], {name:'x', snapWidth: 0.01});\nvar a_sy = board.create('slider', [[1,-5], [3,-5], [-4, 3 ,4]], {name:'y', snapWidth: 0.01});\nvar a = board.create('point', [()=>a_sx.Value(),()=>a_sy.Value()], {name:function(){return 'D('+a_sx.Value().toFixed(2)+','+a_sy.Value().toFixed(2)+')';}});\nvar o = board.create('point', [0,0], {name:''});\no.setAttribute({fixed: true, visible:false});\nvar b = board.create('point', [()=>a.X(), 0], {name:'', visible: false});\nvar b2 = board.create('point', [1,0], {name:'', visible: false});\nb2.setAttribute({fixed: true});\nvar angle = board.create('sector', [o, b2, a], {\n    name: '\\\\(\\\\theta\\\\)',\n    withLabel: {\n        fontSize: 16\n    },\n    fillColor: 'yellow',\n    highlightFillColor: 'yellow',\n    strokeWidth: 0,\n    arc: {\n        visible: true,\n        strokeColor: 'black',\n        strokeWidth: 2,\n        lastArrow: {\n            size: 6\n        }\n    }\n});\nboard.create('text', [-0.2,-0.15,'O'], {fixed: true})\nvar angleInv = board.create('angle', [b, o, a], {visible: false})\nvar l1 = board.create('line', [o, a], {straightFirst: false, straightLast: false});\nvar l2 = board.create('line', [o, a], {dash: 3});\nvar l3 = board.create('line', [o, b], {dash: 3});\nvar l4 = board.create('line', [a, b], {dash: 3});\n\nfunction radToDeg(radians) {\n  var pi = Math.PI;\n  return radians * (180/pi);\n}\n\nfunction degToRad(degrees) {\n  var pi = Math.PI;\n  return degrees * (pi/180);\n}\n\nfunction degHelper(angle, pt) {\n    deg = angle.Value() * (180/Math.PI);\n    if (pt.X()>=0 && pt.Y()>=0){return deg}\n    if (pt.X()<=0 && pt.Y()>=0){return deg-180}\n    if (pt.X()<=0 && pt.Y()<=0){return deg+180}\n    if (pt.X()>=0 && pt.Y()<=0){return deg}\n}\n\nboard.create('text', [-2.3, 2.3, function () {\n    return '<p>θ = ' + degHelper(angleInv, a).toFixed(1) + '&deg;</p>'\n    + '<p>sinθ = ' + Math.sin(degToRad(degHelper(angleInv, a))).toFixed(2)\n    + '<p>cosθ = ' + Math.cos(degToRad(degHelper(angleInv, a))).toFixed(2)\n    + '<p>tanθ = ' + Math.tan(degToRad(degHelper(angleInv, a))).toFixed(2);\n}],{highlight:false,fixed:true}); \n\nboard.create('text', [4.3, 4.5, \"<span style='background-color:yellow;font-size:30px'>I</span>\"], {highlight:true, fixed: true});\nboard.create('text', [-4.7, 4.5, \"<span style='background-color:yellow;font-size:30px'>II</span>\"], {highlight:true, fixed: true});\nboard.create('text', [-4.7, -4.5, \"<span style='background-color:yellow;font-size:30px'>III</span>\"], {highlight:true, fixed: true});\nboard.create('text', [4.3, -4.5, \"<span style='background-color:yellow;font-size:30px'>IV</span>\"], {highlight:true, fixed: true});",
       "layout": "IPY_MODEL_b5b5a456492c40eeb36b90dad0690ee7"
      }
     },
     "bf7e3e8cda0b46a09fb608813c9bbf65": {
      "model_module": "@jupyter-widgets/base",
      "model_module_version": "1.2.0",
      "model_name": "LayoutModel",
      "state": {}
     },
     "c576fdfd19dd4a41b81b6fbad4bf7e84": {
      "model_module": "jupyter-divewidgets",
      "model_module_version": "^0.1.5",
      "model_name": "JSWidgetModel",
      "state": {
       "_model_module_version": "^0.1.5",
       "_view_module_version": "^0.1.5",
       "html": "<!DOCTYPE html>\n<html>\n    <head>\n    <style>\n    html, body {\n        height: 100%;\n    }\n    body {\n        width: 100%;\n        display: flex;\n        padding: 0;\n        margin: 0;\n    }\n    .jxgbox {\n        width:100%; \n        flex-grow: 1;\n    }\n    </style>\n    <link rel=\"stylesheet\" type=\"text/css\" href=\"https://jsxgraph.org/distrib/jsxgraph.css\" />\n    <script type=\"text/javascript\" src=\"https://cdn.jsdelivr.net/npm/jsxgraph/distrib/jsxgraphcore.js\"></script>\n    <script type=\"text/javascript\" src=\"https://cdn.jsdelivr.net/npm/mathjax@3/es5/tex-chtml.js\"></script>\n    </head>\n<body>\n<div id=\"box\" class=\"jxgbox\"></div>\n</body>\n</html>",
       "js": "var board = JXG.JSXGraph.initBoard('box', {boundingbox: [-6, 6, 6, -6], axis: true, grid: true, showCopyright: false});\nvar a_sx = board.create('slider', [[-4,-5], [-2,-5], [-4, 0 ,4]], {name:'x', snapWidth: 0.01});\nvar a_sy = board.create('slider', [[1,-5], [3,-5], [-4, 0 ,4]], {name:'y', snapWidth: 0.01});\nvar a = board.create('point', [()=>a_sx.Value(),()=>a_sy.Value()], {name:function(){return 'A('+a_sx.Value().toFixed(2)+','+a_sy.Value().toFixed(2)+')';}});\nboard.create('text', [-0.2,-0.15,'O'], {fixed: true})",
       "layout": "IPY_MODEL_091ea4f9be574126856de69030958ed9"
      }
     },
     "c72d98b1f122481492cd00f3d1dab5c8": {
      "model_module": "@jupyter-widgets/base",
      "model_module_version": "1.2.0",
      "model_name": "LayoutModel",
      "state": {}
     },
     "c7b4e174e89c4ff8898a1e15a207055c": {
      "model_module": "@jupyter-widgets/base",
      "model_module_version": "1.2.0",
      "model_name": "LayoutModel",
      "state": {}
     },
     "cb6aea533ddd43b193f785f8eb3f9031": {
      "model_module": "jupyter-divewidgets",
      "model_module_version": "^0.1.5",
      "model_name": "JSWidgetModel",
      "state": {
       "_model_module_version": "^0.1.5",
       "_view_module_version": "^0.1.5",
       "html": "<!DOCTYPE html>\n<html>\n    <head>\n    <style>\n    html, body {\n        height: 100%;\n    }\n    body {\n        width: 100%;\n        display: flex;\n        padding: 0;\n        margin: 0;\n    }\n    .jxgbox {\n        width:100%; \n        flex-grow: 1;\n    }\n    </style>\n    <link rel=\"stylesheet\" type=\"text/css\" href=\"https://jsxgraph.org/distrib/jsxgraph.css\" />\n    <script type=\"text/javascript\" src=\"https://cdn.jsdelivr.net/npm/jsxgraph/distrib/jsxgraphcore.js\"></script>\n    <script type=\"text/javascript\" src=\"https://cdn.jsdelivr.net/npm/mathjax@3/es5/tex-chtml.js\"></script>\n    </head>\n<body>\n<div id=\"box\" class=\"jxgbox\"></div>\n</body>\n</html>",
       "js": "JXG.Options.text.useMathJax = true;\nvar board = JXG.JSXGraph.initBoard('box', {boundingbox: [-6, 6, 6, -6], axis: true, grid: true, showCopyright: false});\nvar a_sx = board.create('slider', [[-4,-5], [-2,-5], [-4, 2 ,4]], {name:'x', snapWidth: 0.01});\nvar a_sy = board.create('slider', [[1,-5], [3,-5], [-4, 3 ,4]], {name:'y', snapWidth: 0.01});\nvar a = board.create('point', [()=>a_sx.Value(),()=>a_sy.Value()], {name:function(){return 'D('+a_sx.Value().toFixed(2)+','+a_sy.Value().toFixed(2)+')';}});\nvar o = board.create('point', [0,0], {name:''});\no.setAttribute({fixed: true, visible: false});\nvar b = board.create('point', [()=>a.X(), 0], {name:'', visible: false});\nvar b2 = board.create('point', [1,0], {name:'', visible: false});\nb2.setAttribute({fixed: true});\nboard.create('text', [-0.2,-0.15,'O'], {fixed: true})\nvar angle = board.create('sector', [o, b2, a], {\n    name: '\\\\(\\\\theta\\\\)',\n    withLabel: {\n        fontSize: 16\n    },\n    fillColor: 'yellow',\n    highlightFillColor: 'yellow',\n    strokeWidth: 0,\n    arc: {\n        visible: true,\n        strokeColor: 'black',\n        strokeWidth: 2,\n        lastArrow: {\n            size: 6\n        }\n    }\n});\nvar angleInv = board.create('angle', [b, o, a], {visible: false})\nvar l1 = board.create('line', [o, a], {straightFirst: false, straightLast: false});\nvar l2 = board.create('line', [o, a], {dash: 3});\nvar l3 = board.create('line', [o, b], {dash: 3});\nvar l4 = board.create('line', [a, b], {dash: 3});\n\nfunction radToDeg(radians) {\n  var pi = Math.PI;\n  return radians * (180/pi);\n}\n\nfunction degHelper(angle, pt) {\n    deg = angle.Value() * (180/Math.PI);\n    if (pt.X()>=0 && pt.Y()>=0){return deg}\n    if (pt.X()<=0 && pt.Y()>=0){return deg-180}\n    if (pt.X()<=0 && pt.Y()<=0){return deg+180}\n    if (pt.X()>=0 && pt.Y()<=0){return deg}\n}\n\nboard.create('text', [-2.3, 2.3, function () {\n    return '<p>\\\\(\\\\theta\\\\) = ' + degHelper(angleInv, a).toFixed(1) + '&deg;</p>';\n}],{highlight:false,fixed:true});",
       "layout": "IPY_MODEL_94f5f8292aed4ada86fbc75a257d431a"
      }
     },
     "cbedff1d1f4841f8b18edfe4ad9f62ac": {
      "model_module": "@jupyter-widgets/base",
      "model_module_version": "1.2.0",
      "model_name": "LayoutModel",
      "state": {}
     },
     "d0fbc1d8ef9640419fa89b77c5228141": {
      "model_module": "@jupyter-widgets/base",
      "model_module_version": "1.2.0",
      "model_name": "LayoutModel",
      "state": {}
     },
     "d136230b9f3e455fb148d99b50b97ffd": {
      "model_module": "jupyter-divewidgets",
      "model_module_version": "^0.1.5",
      "model_name": "JSWidgetModel",
      "state": {
       "_model_module_version": "^0.1.5",
       "_view_module_version": "^0.1.5",
       "html": "<!DOCTYPE html>\n<html>\n    <head>\n    <style>\n    html, body {\n        height: 100%;\n    }\n    body {\n        width: 100%;\n        display: flex;\n        padding: 0;\n        margin: 0;\n    }\n    .jxgbox {\n        width:100%; \n        flex-grow: 1;\n    }\n    </style>\n    <link rel=\"stylesheet\" type=\"text/css\" href=\"https://jsxgraph.org/distrib/jsxgraph.css\" />\n    <script type=\"text/javascript\" src=\"https://cdn.jsdelivr.net/npm/jsxgraph/distrib/jsxgraphcore.js\"></script>\n    <script type=\"text/javascript\" src=\"https://cdn.jsdelivr.net/npm/mathjax@3/es5/tex-chtml.js\"></script>\n    </head>\n<body>\n<div id=\"box\" class=\"jxgbox\"></div>\n</body>\n</html>",
       "js": "JXG.Options.text.useMathJax = true;\nvar board = JXG.JSXGraph.initBoard('box', {boundingbox: [-6, 6, 6, -6], axis: true, grid: true, showCopyright: false});\nvar a_sx = board.create('slider', [[-4,-5], [-2,-5], [-4, 2 ,4]], {name:'x', snapWidth: 0.01});\nvar a_sy = board.create('slider', [[1,-5], [3,-5], [-4, -3 ,4]], {name:'y', snapWidth: 0.01});\nvar a = board.create('point', [()=>a_sx.Value(),()=>a_sy.Value()], {name:function(){return 'D('+a_sx.Value().toFixed(2)+','+a_sy.Value().toFixed(2)+')';}});\nvar o = board.create('point', [0,0], {name:''});\no.setAttribute({fixed: true, visible: false});\nvar b = board.create('point', [()=>a.X(), 0], {name:'', visible: false});\nvar b2 = board.create('point', [1,0], {name:'', visible: false});\nb2.setAttribute({fixed: true});\nboard.create('text', [-0.2,-0.15,'O'], {fixed: true})\nvar a_n = board.create('point', [()=>(a.X())/Math.sqrt((a.X()**2)+(a.Y()**2)),()=>(a.Y())/Math.sqrt((a.X()**2)+(a.Y()**2))], {visible: false});\nvar angle = board.create('sector', [o, a_n, b2], {\n    name: ' \\theta',\n    withLabel: {\n        fontSize: 16\n    },\n    fillColor: 'yellow',\n    highlightFillColor: 'yellow',\n    strokeWidth: 0,\n    arc: {\n        visible: true,\n        strokeColor: 'black',\n        strokeWidth: 2,\n        firstArrow: {\n            size: 6\n        }\n    }\n});\nvar angleInv = board.create('angle', [a_n, o, b2], {visible: false})\nvar l1 = board.create('line', [o, a], {straightFirst: false, straightLast: false});\nvar l2 = board.create('line', [o, a], {dash: 3});\nvar l3 = board.create('line', [o, b], {dash: 3});\nvar l4 = board.create('line', [a, b], {dash: 3});\n\nfunction radToDeg(radians) {\n  var pi = Math.PI;\n  return radians * (180/pi);\n}\n\nfunction degHelper(angle, pt) {\n    deg = angle.Value() * (180/Math.PI);\n    return -(deg)\n}\n\nboard.create('text', [-2.3, 2.3, function () {\n    return '\\\\(\\\\theta = ' + degHelper(angleInv, a).toFixed(1) + '^o\\\\)';\n}],{highlight:false,fixed:true});",
       "layout": "IPY_MODEL_4f5e21a62b794c6aa5981f662c6c06a5"
      }
     },
     "d14fc4ad0a6f46428248d4e3f6877464": {
      "model_module": "@jupyter-widgets/base",
      "model_module_version": "1.2.0",
      "model_name": "LayoutModel",
      "state": {}
     },
     "d2ec4695af73456b94b921ec4204e9f2": {
      "model_module": "jupyter-divewidgets",
      "model_module_version": "^0.1.5",
      "model_name": "JSWidgetModel",
      "state": {
       "_model_module_version": "^0.1.5",
       "_view_module_version": "^0.1.5",
       "html": "<!DOCTYPE html>\n<html>\n    <head>\n    <style>\n    html, body {\n        height: 100%;\n    }\n    body {\n        width: 100%;\n        display: flex;\n        padding: 0;\n        margin: 0;\n    }\n    .jxgbox {\n        width:100%; \n        flex-grow: 1;\n    }\n    </style>\n    <link rel=\"stylesheet\" type=\"text/css\" href=\"https://jsxgraph.org/distrib/jsxgraph.css\" />\n    <script type=\"text/javascript\" src=\"https://cdn.jsdelivr.net/npm/jsxgraph/distrib/jsxgraphcore.js\"></script>\n    <script type=\"text/javascript\" src=\"https://cdn.jsdelivr.net/npm/mathjax@3/es5/tex-chtml.js\"></script>\n    </head>\n<body>\n<div id=\"box\" class=\"jxgbox\"></div>\n</body>\n</html>",
       "js": "function degToRad(degrees) {\n  var pi = Math.PI;\n  return degrees * (pi/180);\n}\nvar board = JXG.JSXGraph.initBoard('box', {boundingbox: [-100, 4, 900, -4], axis: true, grid: true, showCopyright: false});\nvar s = board.create('slider', [[100,3], [500,3], [0,0,900]], {name: 'x', snapWidth: 10});\nvar graph = board.create('functiongraph', [function(x){return Math.sin(degToRad(x))}, 0, ()=>s.Value()]);\nvar pt = board.create('point', [()=>s.Value(), ()=>Math.sin(degToRad(s.Value()))], {name: ()=>'('+s.Value()+','+Math.sin(degToRad(s.Value())).toFixed(2)+')'});\nvar l = board.create('line', [[()=>s.Value(),1], [()=>s.Value(),0]], {dash: 3});\nboard.create('text', [100,2,function(){return 'sin ' + s.Value() + '&#176; = ' + Math.sin(degToRad(s.Value())).toFixed(4) + ' (4d.p.)'}]);\nboard.create('text', [-20,-0.15,'O'], {fixed: true})\nvar ptmax = [];\nvar ptmin = [];\nvar ptzero = [];\nvar nmax = 0;\nvar nmin = 0;\nvar nzero = 0;\nfor (var i=0; i<=900; i++){\n    if (Math.sin(degToRad(i)) == 1){\n        ptmax[nmax] = board.create('point', [i, 1], {name: '('+i+'&#176;,1)', fixed: true, visible: false, label:{offset:[5, 20]}});\n        nmax++;\n    }\n    if (Math.sin(degToRad(i)) == -1){\n        ptmin[nmin] = board.create('point', [i, -1],  {name: '('+i+'&#176;,-1)', fixed: true, visible: false, label:{offset:[5, -8]}});\n        nmin++;\n    }\n    if (Math.abs(Math.sin(degToRad(i))) < 1e-10){\n        ptzero[nzero] = board.create('point', [i, 0],  {name: '('+i+'&#176;,0)', fixed: true, visible: false, label:{offset:[10, 15]}});\n        nzero++;\n    }\n}\nvar lmx = board.create('line', [ptmax[0], [ptmax[0].X()+0.1,ptmax[0].Y()]], {dash: 2, visible: false});\nvar lmn = board.create('line', [ptmin[0], [ptmin[0].X()+0.1,ptmin[0].Y()]], {dash: 2, visible: false});\n\nvar minMaxShown = false;\nshowMinMax = function(){\n    minMaxShown = !minMaxShown;\n    ptmax.forEach(o => o.setAttribute({visible: minMaxShown}));\n    ptmin.forEach(o => o.setAttribute({visible: minMaxShown}));\n    lmx.setAttribute({visible: minMaxShown});\n    lmn.setAttribute({visible: minMaxShown});\n};\nvar zeroShown = false;\nshowZero = function(){\n    zeroShown = !zeroShown;\n    ptzero.forEach(o => o.setAttribute({visible: zeroShown}));\n}\nboard.create('text', [100,-2, '<input type=\"checkbox\" id=\"showMinMax\" onChange=\"showMinMax()\" />  Show min/max'], {fixed: true});\nboard.create('text', [100,-3, '<input type=\"checkbox\" id=\"showZero\" onChange=\"showZero()\" />  Show points where y=0'], {fixed: true});",
       "layout": "IPY_MODEL_5eaccf9366e0492da7cc10be0d31705e"
      }
     },
     "d39ea380e05a4297bc8e27a9c5ca1491": {
      "model_module": "jupyter-divewidgets",
      "model_module_version": "^0.1.5",
      "model_name": "JSWidgetModel",
      "state": {
       "_model_module_version": "^0.1.5",
       "_view_module_version": "^0.1.5",
       "html": "<!DOCTYPE html>\n<html>\n    <head>\n    <style>\n    html, body {\n        height: 100%;\n    }\n    body {\n        width: 100%;\n        display: flex;\n        padding: 0;\n        margin: 0;\n    }\n    .jxgbox {\n        width:100%; \n        flex-grow: 1;\n    }\n    </style>\n    <link rel=\"stylesheet\" type=\"text/css\" href=\"https://jsxgraph.org/distrib/jsxgraph.css\" />\n    <script type=\"text/javascript\" src=\"https://cdn.jsdelivr.net/npm/jsxgraph/distrib/jsxgraphcore.js\"></script>\n    <script type=\"text/javascript\" src=\"https://cdn.jsdelivr.net/npm/mathjax@3/es5/tex-chtml.js\"></script>\n    </head>\n<body>\n<div id=\"box\" class=\"jxgbox\"></div>\n</body>\n</html>",
       "js": "JXG.Options.text.useMathJax = true;\nvar board = JXG.JSXGraph.initBoard('box', {boundingbox: [-6, 6, 6, -6], axis: true, grid: true, showCopyright: false});\nvar a_sx = board.create('slider', [[-4,-5], [-2,-5], [-4, 2 ,4]], {name:'x', snapWidth: 0.01});\nvar a_sy = board.create('slider', [[1,-5], [3,-5], [-4, 3 ,4]], {name:'y', snapWidth: 0.01});\nvar a = board.create('point', [()=>a_sx.Value(),()=>a_sy.Value()], {name:function(){return 'D('+a_sx.Value().toFixed(2)+','+a_sy.Value().toFixed(2)+')';}});\nvar o = board.create('point', [0,0], {name:''});\no.setAttribute({fixed: true, visible: false});\nvar b = board.create('point', [()=>a.X(), 0], {name:'D\\''});\nvar tri = board.create('polygon', [a,o,b]);\nvar ang = board.create('nonreflexangle', [a,b,o], {name:' ', radius: 0.2});\nvar ang2 = board.create('nonreflexangle', [a,o,b], {name:'θ', radius: 0.4})\nboard.create('text', [-0.2,-0.15,'O'], {fixed: true})\nboard.create('text',[()=>(a.X()+o.X()+b.X())/3,()=>(a.Y()+o.X()+b.Y())/3,'△ODD\\''],{anchorX:'middle', anchorY:'auto'});",
       "layout": "IPY_MODEL_e861f3f654244639abc9a15069248ad1"
      }
     },
     "d70f1752729b4b649a60f3a0ca8a7178": {
      "model_module": "@jupyter-widgets/base",
      "model_module_version": "1.2.0",
      "model_name": "LayoutModel",
      "state": {}
     },
     "d972b0738e56473889a9e6006e2ac974": {
      "model_module": "@jupyter-widgets/base",
      "model_module_version": "1.2.0",
      "model_name": "LayoutModel",
      "state": {}
     },
     "d9c8525a020d40f3b8ea67891be7129c": {
      "model_module": "jupyter-divewidgets",
      "model_module_version": "^0.1.5",
      "model_name": "JSWidgetModel",
      "state": {
       "_model_module_version": "^0.1.5",
       "_view_module_version": "^0.1.5",
       "html": "<!DOCTYPE html>\n<html>\n    <head>\n    <style>\n    html, body {\n        height: 100%;\n    }\n    body {\n        width: 100%;\n        display: flex;\n        padding: 0;\n        margin: 0;\n    }\n    .jxgbox {\n        width:100%; \n        flex-grow: 1;\n    }\n    </style>\n    <link rel=\"stylesheet\" type=\"text/css\" href=\"https://jsxgraph.org/distrib/jsxgraph.css\" />\n    <script type=\"text/javascript\" src=\"https://cdn.jsdelivr.net/npm/jsxgraph/distrib/jsxgraphcore.js\"></script>\n    <script type=\"text/javascript\" src=\"https://cdn.jsdelivr.net/npm/mathjax@3/es5/tex-chtml.js\"></script>\n    </head>\n<body>\n<div id=\"box\" class=\"jxgbox\"></div>\n</body>\n</html>",
       "js": "JXG.Options.text.useMathJax = true;\nvar board = JXG.JSXGraph.initBoard('box', {boundingbox: [-6, 6, 6, -6], axis: true, grid: true, showCopyright: false});\nvar a_sx = board.create('slider', [[-4,-5], [-2,-5], [-4, 2 ,4]], {name:'x', snapWidth: 0.01});\nvar a_sy = board.create('slider', [[1,-5], [3,-5], [-4, 3 ,4]], {name:'y', snapWidth: 0.01});\nvar a = board.create('point', [()=>a_sx.Value(),()=>a_sy.Value()], {name:function(){return 'D('+a_sx.Value().toFixed(2)+','+a_sy.Value().toFixed(2)+')';}});\nvar o = board.create('point', [0,0], {name:''});\no.setAttribute({fixed: true, visible: false});\nvar b = board.create('point', [()=>a.X(), 0], {name:'', visible: false});\nvar b2 = board.create('point', [1,0], {name:'', visible: false});\nb2.setAttribute({fixed: true});\nboard.create('text', [-0.2,-0.15,'O'], {fixed: true})\nvar angle = board.create('sector', [o, b2, a], {\n    name: '\\\\(\\\\theta\\\\)',\n    withLabel: {\n        fontSize: 16\n    },\n    fillColor: 'yellow',\n    highlightFillColor: 'yellow',\n    strokeWidth: 0,\n    arc: {\n        visible: true,\n        strokeColor: 'black',\n        strokeWidth: 2,\n        lastArrow: {\n            size: 6\n        }\n    }\n});\nvar angleInv = board.create('angle', [b, o, a], {visible: false})\nvar l1 = board.create('line', [o, a], {straightFirst: false, straightLast: false});\nvar l2 = board.create('line', [o, a], {dash: 3});\nvar l3 = board.create('line', [o, b], {dash: 3});\nvar l4 = board.create('line', [a, b], {dash: 3});\n\nfunction radToDeg(radians) {\n  var pi = Math.PI;\n  return radians * (180/pi);\n}\n\nfunction degHelper(angle, pt) {\n    deg = angle.Value() * (180/Math.PI);\n    if (pt.X()>=0 && pt.Y()>=0){return deg}\n    if (pt.X()<=0 && pt.Y()>=0){return deg-180}\n    if (pt.X()<=0 && pt.Y()<=0){return deg+180}\n    if (pt.X()>=0 && pt.Y()<=0){return deg}\n}\n\nboard.create('text', [-2.3, 2.3, function () {\n    return '<p>\\\\(\\\\theta\\\\) = ' + degHelper(angleInv, a).toFixed(1) + '&deg;</p>';\n}],{highlight:false,fixed:true});",
       "layout": "IPY_MODEL_47e166d3c91f44619ab9fe9582cc6d78"
      }
     },
     "e399e9c3382e4bd9879710dca6c8968d": {
      "model_module": "jupyter-divewidgets",
      "model_module_version": "^0.1.5",
      "model_name": "JSWidgetModel",
      "state": {
       "_model_module_version": "^0.1.5",
       "_view_module_version": "^0.1.5",
       "html": "<!DOCTYPE html>\n<html>\n    <head>\n    <style>\n    html, body {\n        height: 100%;\n    }\n    body {\n        width: 100%;\n        display: flex;\n        padding: 0;\n        margin: 0;\n    }\n    .jxgbox {\n        width:100%; \n        flex-grow: 1;\n    }\n    </style>\n    <link rel=\"stylesheet\" type=\"text/css\" href=\"https://jsxgraph.org/distrib/jsxgraph.css\" />\n    <script type=\"text/javascript\" src=\"https://cdn.jsdelivr.net/npm/jsxgraph/distrib/jsxgraphcore.js\"></script>\n    <script type=\"text/javascript\" src=\"https://cdn.jsdelivr.net/npm/mathjax@3/es5/tex-chtml.js\"></script>\n    </head>\n<body>\n<div id=\"box\" class=\"jxgbox\"></div>\n</body>\n</html>",
       "js": "var board = JXG.JSXGraph.initBoard('box', {boundingbox: [-6, 6, 6, -6], axis: true, grid: true, showCopyright: false});\nvar a_sx = board.create('slider', [[-4,-5], [-2,-5], [-4, 2 ,4]], {name:'x', snapWidth: 0.01});\nvar a_sy = board.create('slider', [[1,-5], [3,-5], [-4, 3 ,4]], {name:'y', snapWidth: 0.01});\nvar a = board.create('point', [()=>a_sx.Value(),()=>a_sy.Value()], {name:function(){return 'D('+a_sx.Value().toFixed(2)+','+a_sy.Value().toFixed(2)+')';}});\nvar o = board.create('point', [0,0], {name:''});\no.setAttribute({fixed: true, visible: false});\nvar b = board.create('point', [()=>a.X(), 0], {name:'', visible: false});\nvar b2 = board.create('point', [1,0], {name:'', visible: false});\nb2.setAttribute({fixed: true});\nboard.create('text', [-0.2,-0.15,'O'], {fixed: true})\nvar angle = board.create('sector', [o, b2, a], {\n    name: '\\\\theta',\n    withLabel: {\n        fontSize: 16\n    },\n    fillColor: 'yellow',\n    highlightFillColor: 'yellow',\n    strokeWidth: 0,\n    arc: {\n        visible: true,\n        strokeColor: 'black',\n        strokeWidth: 2,\n        lastArrow: {\n            size: 6\n        }\n    }\n});\nvar angleInv = board.create('angle', [b, o, a], {visible: false})\nvar l1 = board.create('line', [o, a], {straightFirst: false, straightLast: false});\nvar l2 = board.create('line', [o, a], {dash: 3});\nvar l3 = board.create('line', [o, b], {dash: 3});\nvar l4 = board.create('line', [a, b], {dash: 3});\n\nfunction radToDeg(radians) {\n  var pi = Math.PI;\n  return radians * (180/pi);\n}\n\nfunction degHelper(angle, pt) {\n    deg = angle.Value() * (180/Math.PI);\n    if (pt.X()>=0 && pt.Y()>=0){return deg}\n    if (pt.X()<=0 && pt.Y()>=0){return deg-180}\n    if (pt.X()<=0 && pt.Y()<=0){return deg+180}\n    if (pt.X()>=0 && pt.Y()<=0){return deg}\n}\n\nboard.create('text', [-2.3, 2.3, function () {\n    return '<p>θ = ' + degHelper(angleInv, a).toFixed(1) + '&deg;</p>';\n}],{highlight:false,fixed:true});",
       "layout": "IPY_MODEL_c72d98b1f122481492cd00f3d1dab5c8"
      }
     },
     "e861f3f654244639abc9a15069248ad1": {
      "model_module": "@jupyter-widgets/base",
      "model_module_version": "1.2.0",
      "model_name": "LayoutModel",
      "state": {}
     },
     "ea3202ef17e6493d823c325ce134b841": {
      "model_module": "@jupyter-widgets/base",
      "model_module_version": "1.2.0",
      "model_name": "LayoutModel",
      "state": {}
     },
     "f09ed4e26d024313b44f81c980fadff3": {
      "model_module": "jupyter-divewidgets",
      "model_module_version": "^0.1.5",
      "model_name": "JSWidgetModel",
      "state": {
       "_model_module_version": "^0.1.5",
       "_view_module_version": "^0.1.5",
       "html": "<!DOCTYPE html>\n<html>\n    <head>\n    <style>\n    html, body {\n        height: 100%;\n    }\n    body {\n        width: 100%;\n        display: flex;\n        padding: 0;\n        margin: 0;\n    }\n    .jxgbox {\n        width:100%; \n        flex-grow: 1;\n    }\n    </style>\n    <link rel=\"stylesheet\" type=\"text/css\" href=\"https://jsxgraph.org/distrib/jsxgraph.css\" />\n    <script type=\"text/javascript\" src=\"https://cdn.jsdelivr.net/npm/jsxgraph/distrib/jsxgraphcore.js\"></script>\n    <script type=\"text/javascript\" src=\"https://cdn.jsdelivr.net/npm/mathjax@3/es5/tex-chtml.js\"></script>\n    </head>\n<body>\n<div id=\"box\" class=\"jxgbox\"></div>\n</body>\n</html>",
       "js": "var board = JXG.JSXGraph.initBoard('box', {boundingbox: [-6, 6, 6, -6], axis: true, grid: true, showCopyright: false});\nvar a_sx = board.create('slider', [[-4,-5], [-2,-5], [-4, 2 ,4]], {name:'x', snapWidth: 0.01});\nvar a_sy = board.create('slider', [[1,-5], [3,-5], [-4, -3 ,4]], {name:'y', snapWidth: 0.01});\nvar a = board.create('point', [()=>a_sx.Value(),()=>a_sy.Value()], {name:function(){return 'D('+a_sx.Value().toFixed(2)+','+a_sy.Value().toFixed(2)+')';}});\nvar o = board.create('point', [0,0], {name:''});\no.setAttribute({fixed: true, visible: false});\nvar b = board.create('point', [()=>a.X(), 0], {name:'', visible: false});\nvar b2 = board.create('point', [1,0], {name:'', visible: false});\nb2.setAttribute({fixed: true});\nboard.create('text', [-0.2,-0.15,'O'], {fixed: true})\nvar a_n = board.create('point', [()=>(a.X())/Math.sqrt((a.X()**2)+(a.Y()**2)),()=>(a.Y())/Math.sqrt((a.X()**2)+(a.Y()**2))], {visible: false});\nvar angle = board.create('sector', [o, a_n, b2], {\n    name: ' \\theta',\n    withLabel: {\n        fontSize: 16\n    },\n    fillColor: 'yellow',\n    highlightFillColor: 'yellow',\n    strokeWidth: 0,\n    arc: {\n        visible: true,\n        strokeColor: 'black',\n        strokeWidth: 2,\n        firstArrow: {\n            size: 6\n        }\n    }\n});\nvar angleInv = board.create('angle', [a_n, o, b2], {visible: false})\nvar l1 = board.create('line', [o, a], {straightFirst: false, straightLast: false});\nvar l2 = board.create('line', [o, a], {dash: 3});\nvar l3 = board.create('line', [o, b], {dash: 3});\nvar l4 = board.create('line', [a, b], {dash: 3});\n\nfunction radToDeg(radians) {\n  var pi = Math.PI;\n  return radians * (180/pi);\n}\n\nfunction degHelper(angle, pt) {\n    deg = angle.Value() * (180/Math.PI);\n    return -(deg)\n}\n\nboard.create('text', [-2.3, 2.3, function () {\n    return '<p>θ = ' + degHelper(angleInv, a).toFixed(1) + '&deg;</p>';\n}],{highlight:false,fixed:true});",
       "layout": "IPY_MODEL_a2ee016fc0d64093b01e5b5e3db6b91b"
      }
     },
     "f68969d1b0ed44d481bbd906f4a4e571": {
      "model_module": "jupyter-divewidgets",
      "model_module_version": "^0.1.5",
      "model_name": "JSWidgetModel",
      "state": {
       "_model_module_version": "^0.1.5",
       "_view_module_version": "^0.1.5",
       "html": "<!DOCTYPE html>\n<html>\n    <head>\n    <style>\n    html, body {\n        height: 100%;\n    }\n    body {\n        width: 100%;\n        display: flex;\n        padding: 0;\n        margin: 0;\n    }\n    .jxgbox {\n        width:100%; \n        flex-grow: 1;\n    }\n    </style>\n    <link rel=\"stylesheet\" type=\"text/css\" href=\"https://jsxgraph.org/distrib/jsxgraph.css\" />\n    <script type=\"text/javascript\" src=\"https://cdn.jsdelivr.net/npm/jsxgraph/distrib/jsxgraphcore.js\"></script>\n    <script type=\"text/javascript\" src=\"https://cdn.jsdelivr.net/npm/mathjax@3/es5/tex-chtml.js\"></script>\n    </head>\n<body>\n<div id=\"box\" class=\"jxgbox\"></div>\n</body>\n</html>",
       "js": "JXG.Options.text.useMathJax = true;\nvar board = JXG.JSXGraph.initBoard('box', {boundingbox: [-6, 6, 6, -6], axis: true, grid: true, showCopyright: false});\nvar a_sx = board.create('slider', [[-4,-5], [-2,-5], [-4, 2 ,4]], {name:'x', snapWidth: 0.01});\nvar a_sy = board.create('slider', [[1,-5], [3,-5], [-4, 3 ,4]], {name:'y', snapWidth: 0.01});\nvar a = board.create('point', [()=>a_sx.Value(),()=>a_sy.Value()], {name:function(){return 'D('+a_sx.Value().toFixed(2)+','+a_sy.Value().toFixed(2)+')';}});\nvar o = board.create('point', [0,0], {name:''});\no.setAttribute({fixed: true, visible: false});\nvar b = board.create('point', [()=>a.X(), 0], {name:'', visible: false});\nvar b2 = board.create('point', [1,0], {name:'', visible: false});\nb2.setAttribute({fixed: true});\nboard.create('text', [-0.2,-0.15,'O'], {fixed: true})\nvar angle = board.create('sector', [o, b2, a], {\n    name: '\\\\(\\\\theta\\\\)',\n    withLabel: {\n        fontSize: 16\n    },\n    fillColor: 'yellow',\n    highlightFillColor: 'yellow',\n    strokeWidth: 0,\n    arc: {\n        visible: true,\n        strokeColor: 'black',\n        strokeWidth: 2,\n        lastArrow: {\n            size: 6\n        }\n    }\n});\nvar angleInv = board.create('angle', [b, o, a], {visible: false})\nvar l1 = board.create('line', [o, a], {straightFirst: false, straightLast: false});\nvar l2 = board.create('line', [o, a], {dash: 3});\nvar l3 = board.create('line', [o, b], {dash: 3});\nvar l4 = board.create('line', [a, b], {dash: 3});\n\nfunction radToDeg(radians) {\n  var pi = Math.PI;\n  return radians * (180/pi);\n}\n\nfunction degHelper(angle, pt) {\n    deg = angle.Value() * (180/Math.PI);\n    if (pt.X()>=0 && pt.Y()>=0){return deg}\n    if (pt.X()<=0 && pt.Y()>=0){return deg-180}\n    if (pt.X()<=0 && pt.Y()<=0){return deg+180}\n    if (pt.X()>=0 && pt.Y()<=0){return deg}\n}\n\nboard.create('text', [-2.3, 2.3, function () {\n    return '\\\\(\\\\theta = ' + degHelper(angleInv, a).toFixed(1) + '^o\\\\)';\n}],{highlight:false,fixed:true});",
       "layout": "IPY_MODEL_1a26ba46784247a2979d4f40aa0ab91f"
      }
     },
     "f8d3e13d23484f2aa9dc48d91a88b96e": {
      "model_module": "jupyter-divewidgets",
      "model_module_version": "^0.1.5",
      "model_name": "JSWidgetModel",
      "state": {
       "_model_module_version": "^0.1.5",
       "_view_module_version": "^0.1.5",
       "html": "<!DOCTYPE html>\n<html>\n    <head>\n    <style>\n    html, body {\n        height: 100%;\n    }\n    body {\n        width: 100%;\n        display: flex;\n        padding: 0;\n        margin: 0;\n    }\n    .jxgbox {\n        width:100%; \n        flex-grow: 1;\n    }\n    </style>\n    <link rel=\"stylesheet\" type=\"text/css\" href=\"https://jsxgraph.org/distrib/jsxgraph.css\" />\n    <script type=\"text/javascript\" src=\"https://cdn.jsdelivr.net/npm/jsxgraph/distrib/jsxgraphcore.js\"></script>\n    <script type=\"text/javascript\" src=\"https://cdn.jsdelivr.net/npm/mathjax@3/es5/tex-chtml.js\"></script>\n    </head>\n<body>\n<div id=\"box\" class=\"jxgbox\"></div>\n</body>\n</html>",
       "js": "JXG.Options.text.useMathJax = false;\nvar board = JXG.JSXGraph.initBoard('box', {boundingbox: [-6, 6, 6, -6], axis: true, grid: true, showCopyright: false});\nvar a_sx = board.create('slider', [[-4,-5], [-2,-5], [-4, 2 ,4]], {name:'\\\\(x\\\\)', snapWidth: 0.01});\nvar a_sy = board.create('slider', [[1,-5], [3,-5], [-4, 3 ,4]], {name:'\\\\(y\\\\)', snapWidth: 0.01});\nvar a = board.create('point', [()=>a_sx.Value(),()=>a_sy.Value()], {name:function(){return 'D('+a_sx.Value().toFixed(2)+','+a_sy.Value().toFixed(2)+')';}});\nvar o = board.create('point', [0,0], {name:''});\no.setAttribute({fixed: true, visible: false});\nvar b = board.create('point', [()=>a.X(), 0], {name:\"\\\\(D'\\\\)\"});\nvar tri = board.create('polygon', [a,o,b]);\nvar ang = board.create('nonreflexangle', [a,b,o], {name:' ', radius: 0.2});\nvar ang2 = board.create('nonreflexangle', [a,o,b], {name:'\\\\(\\\\theta\\\\)', radius: 0.4})\nboard.create('text', [-0.2,-0.15,'O'], {fixed: true})\nboard.create('text',[()=>(a.X()+o.X()+b.X())/3,()=>(a.Y()+o.X()+b.Y())/3,\"\\\\(\\triangle ODD'\\\\)\"],{anchorX:'middle', anchorY:'auto', useMathJax:'false'});",
       "layout": "IPY_MODEL_70ab0ed1a19b4f2baf479df3e8964b6f"
      }
     },
     "fa5780b334ae4bde97c377e6704fb988": {
      "model_module": "jupyter-divewidgets",
      "model_module_version": "^0.1.5",
      "model_name": "JSWidgetModel",
      "state": {
       "_model_module_version": "^0.1.5",
       "_view_module_version": "^0.1.5",
       "html": "<!DOCTYPE html>\n<html>\n    <head>\n    <style>\n    html, body {\n        height: 100%;\n    }\n    body {\n        width: 100%;\n        display: flex;\n        padding: 0;\n        margin: 0;\n    }\n    .jxgbox {\n        width:100%; \n        flex-grow: 1;\n    }\n    </style>\n    <link rel=\"stylesheet\" type=\"text/css\" href=\"https://jsxgraph.org/distrib/jsxgraph.css\" />\n    <script type=\"text/javascript\" src=\"https://cdn.jsdelivr.net/npm/jsxgraph/distrib/jsxgraphcore.js\"></script>\n    <script type=\"text/javascript\" src=\"https://cdn.jsdelivr.net/npm/mathjax@3/es5/tex-chtml.js\"></script>\n    </head>\n<body>\n<div id=\"box\" class=\"jxgbox\"></div>\n</body>\n</html>",
       "js": "JXG.Options.text.useMathJax = true;\nvar board = JXG.JSXGraph.initBoard('box', {boundingbox: [-6, 6, 6, -6], axis: true, grid: true, showCopyright: false});\nvar a_sx = board.create('slider', [[-4,-5], [-2,-5], [-4, 2 ,4]], {name:'\\\\(x\\\\)', snapWidth: 0.01});\nvar a_sy = board.create('slider', [[1,-5], [3,-5], [-4, 3 ,4]], {name:'\\\\(y\\\\)', snapWidth: 0.01});\nvar a = board.create('point', [()=>a_sx.Value(),()=>a_sy.Value()], {name:function(){return 'D('+a_sx.Value().toFixed(2)+','+a_sy.Value().toFixed(2)+')';}});\nvar o = board.create('point', [0,0], {name:''});\no.setAttribute({fixed: true, visible: false});\nvar b = board.create('point', [()=>a.X(), 0], {name:\"\\\\(D'\\\\)\"});\nvar tri = board.create('polygon', [a,o,b]);\nvar ang = board.create('nonreflexangle', [a,b,o], {name:' ', radius: 0.2});\nvar ang2 = board.create('nonreflexangle', [a,o,b], {name:'\\\\(\\\\theta\\\\)', radius: 0.4})\nboard.create('text', [-0.2,-0.15,'O'], {fixed: true})\nboard.create('text',[()=>(a.X()+o.X()+b.X())/3,()=>(a.Y()+o.X()+b.Y())/3,\"\\\\(\\triangle ODD'\\\\)\"],{anchorX:'middle', anchorY:'auto', useMathJax:'false'});",
       "layout": "IPY_MODEL_8fcd890e18574833be2afac53358e6f4"
      }
     },
     "faf73c4bfa5340c193538a55d6ba5b5a": {
      "model_module": "@jupyter-widgets/base",
      "model_module_version": "1.2.0",
      "model_name": "LayoutModel",
      "state": {}
     },
     "fe5015fc995d42a0aabb984d0dce3df4": {
      "model_module": "jupyter-divewidgets",
      "model_module_version": "^0.1.5",
      "model_name": "JSWidgetModel",
      "state": {
       "_model_module_version": "^0.1.5",
       "_view_module_version": "^0.1.5",
       "html": "<!DOCTYPE html>\n<html>\n    <head>\n    <style>\n    html, body {\n        height: 100%;\n    }\n    body {\n        width: 100%;\n        display: flex;\n        padding: 0;\n        margin: 0;\n    }\n    .jxgbox {\n        width:100%; \n        flex-grow: 1;\n    }\n    </style>\n    <link rel=\"stylesheet\" type=\"text/css\" href=\"https://jsxgraph.org/distrib/jsxgraph.css\" />\n    <script type=\"text/javascript\" src=\"https://cdn.jsdelivr.net/npm/jsxgraph/distrib/jsxgraphcore.js\"></script>\n    <script type=\"text/javascript\" src=\"https://cdn.jsdelivr.net/npm/mathjax@3/es5/tex-chtml.js\"></script>\n    </head>\n<body>\n<div id=\"box\" class=\"jxgbox\"></div>\n</body>\n</html>",
       "js": "var board = JXG.JSXGraph.initBoard('box', {boundingbox: [-6, 6, 6, -6], axis: true, grid: true, showCopyright: false});\nvar a_sx = board.create('slider', [[-4,-5], [-2,-5], [-4, 2 ,4]], {name:'x', snapWidth: 0.01});\nvar a_sy = board.create('slider', [[1,-5], [3,-5], [-4, -3 ,4]], {name:'y', snapWidth: 0.01});\nvar a = board.create('point', [()=>a_sx.Value(),()=>a_sy.Value()], {name:function(){return 'D('+a_sx.Value().toFixed(2)+','+a_sy.Value().toFixed(2)+')';}});\nvar o = board.create('point', [0,0], {name:''});\no.setAttribute({fixed: true, visible: false});\nvar b = board.create('point', [()=>a.X(), 0], {name:'', visible: false});\nvar b2 = board.create('point', [1,0], {name:'', visible: false});\nb2.setAttribute({fixed: true});\nboard.create('text', [-0.2,-0.15,'O'], {fixed: true})\nvar a_n = board.create('point', [()=>(a.X())/Math.sqrt((a.X()**2)+(a.Y()**2)),()=>(a.Y())/Math.sqrt((a.X()**2)+(a.Y()**2))], {visible: false});\nvar angle = board.create('sector', [o, a_n, b2], {\n    name: ' \\theta',\n    withLabel: {\n        fontSize: 16\n    },\n    fillColor: 'yellow',\n    highlightFillColor: 'yellow',\n    strokeWidth: 0,\n    arc: {\n        visible: true,\n        strokeColor: 'black',\n        strokeWidth: 2,\n        firstArrow: {\n            size: 6\n        }\n    }\n});\nvar angleInv = board.create('angle', [a_n, o, b2], {visible: false})\nvar l1 = board.create('line', [o, a], {straightFirst: false, straightLast: false});\nvar l2 = board.create('line', [o, a], {dash: 3});\nvar l3 = board.create('line', [o, b], {dash: 3});\nvar l4 = board.create('line', [a, b], {dash: 3});\n\nfunction radToDeg(radians) {\n  var pi = Math.PI;\n  return radians * (180/pi);\n}\n\nfunction degHelper(angle, pt) {\n    deg = angle.Value() * (180/Math.PI);\n    return -(deg)\n}\n\nboard.create('text', [-2.3, 2.3, function () {\n    return '<p>θ = ' + degHelper(angleInv, a).toFixed(1) + '&deg;</p>';\n}],{highlight:false,fixed:true});",
       "layout": "IPY_MODEL_7ba2735d3b174e9299bb684bac7ff50f"
      }
     }
    },
    "version_major": 2,
    "version_minor": 0
   }
  }
 },
 "nbformat": 4,
 "nbformat_minor": 5
}
